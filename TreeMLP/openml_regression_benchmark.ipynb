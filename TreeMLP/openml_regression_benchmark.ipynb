{
 "cells": [
  {
   "cell_type": "markdown",
   "id": "0355f62c",
   "metadata": {},
   "source": [
    "# OpenML-CTR23 Regression Benchmark\n",
    "\n",
    "This notebook benchmarks a variety of regression models on the `OpenML-CTR23 - A curated tabular regression benchmarking suite` benchmark suite.\n"
   ]
  },
  {
   "cell_type": "code",
   "execution_count": null,
   "id": "06c211b2",
   "metadata": {},
   "outputs": [],
   "source": [
    "# %pip install -q pip openml scikit-learn pandas nbformat setuptools"
   ]
  },
  {
   "cell_type": "code",
   "execution_count": 1,
   "id": "30895dbb",
   "metadata": {},
   "outputs": [],
   "source": [
    "# Baseline Models\n",
    "from sklearn.dummy import DummyRegressor\n",
    "from sklearn.ensemble import RandomForestRegressor\n",
    "from sklearn.linear_model import LinearRegression\n",
    "from sklearn.neural_network import MLPRegressor\n",
    "\n",
    "# Baseline models\n",
    "models = {\n",
    "    \"DummyRegressor\": DummyRegressor(strategy=\"mean\"),\n",
    "    \"RandomForestRegressor\": RandomForestRegressor(),\n",
    "    # \"LinearRegression\": LinearRegression(),\n",
    "    # \"MLPRegressor\": MLPRegressor(),\n",
    "}"
   ]
  },
  {
   "cell_type": "code",
   "execution_count": 2,
   "id": "3b2f9b65",
   "metadata": {},
   "outputs": [],
   "source": [
    "# Hyperparameter Optimization\n",
    "from scipy.stats import loguniform, randint\n",
    "from sklearn.model_selection import KFold, RandomizedSearchCV\n",
    "\n",
    "search_params = {\n",
    "    \"cv\": 5,\n",
    "    \"n_jobs\": -1,\n",
    "    \"n_trials\": 10,\n",
    "    \"return_train_score\": False,\n",
    "    \"scoring\": \"neg_mean_squared_error\",\n",
    "    \"timeout\": None,\n",
    "    \"verbose\": 0,\n",
    "}\n",
    "\n",
    "hpo_grid = {\n",
    "    \"RandomForestRegressor\": {\n",
    "        \"n_estimators\": randint(5, 100),\n",
    "        \"max_depth\": [2, 5, 10],\n",
    "    },\n",
    "    \"MLPRegressor\": {\n",
    "        \"hidden_layer_sizes\": [(10,), (50,), (10, 10), (50, 50)],\n",
    "        \"alpha\": loguniform(1e-5, 1e-1),\n",
    "        \"learning_rate_init\": loguniform(1e-4, 1e-1),\n",
    "        \"max_iter\": [100, 400, 1000],\n",
    "    },\n",
    "}"
   ]
  },
  {
   "cell_type": "code",
   "execution_count": 33,
   "id": "63771953",
   "metadata": {},
   "outputs": [
    {
     "data": {
      "text/plain": [
       "OpenML Benchmark Suite\n",
       "======================\n",
       "ID..............: 353\n",
       "Name............: OpenML-CTR23 - A curated tabular regression benchmarking suite\n",
       "Status..........: active\n",
       "Main Entity Type: task\n",
       "Study URL.......: https://www.openml.org/s/353\n",
       "# of Data.......: 35\n",
       "# of Tasks......: 35\n",
       "Creator.........: https://www.openml.org/u/30127\n",
       "Upload Time.....: 2023-05-31 16:39:49"
      ]
     },
     "metadata": {},
     "output_type": "display_data"
    }
   ],
   "source": [
    "# Define Benchmark Suite\n",
    "import openml\n",
    "from IPython.display import display\n",
    "\n",
    "SUITE_ID = \"8f0ea660163b436bbd4abd49665c7b1d\"  # OpenML-CTR23 - A curated tabular regression benchmarking suite\n",
    "suite = openml.study.get_suite(SUITE_ID)\n",
    "display(suite)"
   ]
  },
  {
   "cell_type": "code",
   "execution_count": 4,
   "id": "f6305108",
   "metadata": {},
   "outputs": [],
   "source": [
    "# Data Preprocessing\n",
    "from sklearn.compose import ColumnTransformer\n",
    "from sklearn.pipeline import Pipeline\n",
    "from sklearn.preprocessing import OneHotEncoder, StandardScaler\n",
    "from sklearn.impute import SimpleImputer\n",
    "\n",
    "\n",
    "def make_preprocessor(dataset: openml.OpenMLDataset) -> ColumnTransformer:\n",
    "    target = dataset.default_target_attribute\n",
    "    numeric_features = dataset.get_features_by_type(\"numeric\", exclude=[target])\n",
    "    nominal_features = dataset.get_features_by_type(\"nominal\", exclude=[target])\n",
    "\n",
    "    numeric_transformer = Pipeline(\n",
    "        [(\"imputer\", SimpleImputer(strategy=\"median\")), (\"scaler\", StandardScaler())]\n",
    "    )\n",
    "    nominal_transformer = Pipeline(\n",
    "        [(\"onehot\", OneHotEncoder(handle_unknown=\"ignore\", sparse_output=False))]\n",
    "    )\n",
    "\n",
    "    return ColumnTransformer(\n",
    "        [\n",
    "            (\"numeric_preprocessor\", numeric_transformer, numeric_features),\n",
    "            (\"nominal_preprocessor\", nominal_transformer, nominal_features),\n",
    "        ],\n",
    "        sparse_threshold=0.0,  # Ensure dense output\n",
    "    )"
   ]
  },
  {
   "cell_type": "code",
   "execution_count": 29,
   "id": "762c0186",
   "metadata": {},
   "outputs": [
    {
     "name": "stdout",
     "output_type": "stream",
     "text": [
      "Running model_name='DummyRegressor' on dataset.name='abalone'...\n",
      "Running model_name='RandomForestRegressor' on dataset.name='abalone'...\n",
      "Running model_name='DummyRegressor' on dataset.name='airfoil_self_noise'...\n",
      "Running model_name='RandomForestRegressor' on dataset.name='airfoil_self_noise'...\n"
     ]
    }
   ],
   "source": [
    "# Run Models\n",
    "SEED = 42\n",
    "N_TASKS = 2\n",
    "task_runs = {}\n",
    "\n",
    "for task_id in suite.tasks[:N_TASKS]:\n",
    "    model_results = {}\n",
    "    task = openml.tasks.get_task(task_id)\n",
    "    dataset = task.get_dataset()\n",
    "    preprocessor = make_preprocessor(dataset)\n",
    "    for model_name in models.keys():\n",
    "        print(f\"Running {model_name=} on {dataset.name=}...\")\n",
    "        pipe = Pipeline([(\"preprocessor\", preprocessor), (\"model\", models[model_name])])\n",
    "        model = (\n",
    "            RandomizedSearchCV(\n",
    "                pipe,\n",
    "                {f\"model__{k}\": v for k, v in hpo_grid[model_name].items()},\n",
    "                cv=KFold(n_splits=4, shuffle=True),\n",
    "            )\n",
    "            if model_name in hpo_grid\n",
    "            else pipe\n",
    "        )\n",
    "        # run = openml.runs.run_model_on_task(model, task, seed=SEED, n_jobs=-1)\n",
    "        # model_results[model_name] = run\n",
    "    task_runs[task_id] = model_results"
   ]
  },
  {
   "cell_type": "code",
   "execution_count": 8,
   "id": "5dd01b62",
   "metadata": {},
   "outputs": [
    {
     "data": {
      "application/vnd.microsoft.datawrangler.viewer.v0+json": {
       "columns": [
        {
         "name": "index",
         "rawType": "object",
         "type": "string"
        },
        {
         "name": "361234",
         "rawType": "float64",
         "type": "float"
        },
        {
         "name": "361235",
         "rawType": "float64",
         "type": "float"
        }
       ],
       "conversionMethod": "pd.DataFrame",
       "ref": "305b4fe4-081b-4d67-970a-669a1409df33",
       "rows": [
        [
         "DummyRegressor",
         "10.395850100518368",
         "47.632422875777294"
        ],
        [
         "RandomForestRegressor",
         "4.622135639272995",
         "3.6884023788956926"
        ]
       ],
       "shape": {
        "columns": 2,
        "rows": 2
       }
      },
      "text/html": [
       "<div>\n",
       "<style scoped>\n",
       "    .dataframe tbody tr th:only-of-type {\n",
       "        vertical-align: middle;\n",
       "    }\n",
       "\n",
       "    .dataframe tbody tr th {\n",
       "        vertical-align: top;\n",
       "    }\n",
       "\n",
       "    .dataframe thead th {\n",
       "        text-align: right;\n",
       "    }\n",
       "</style>\n",
       "<table border=\"1\" class=\"dataframe\">\n",
       "  <thead>\n",
       "    <tr style=\"text-align: right;\">\n",
       "      <th></th>\n",
       "      <th>361234</th>\n",
       "      <th>361235</th>\n",
       "    </tr>\n",
       "  </thead>\n",
       "  <tbody>\n",
       "    <tr>\n",
       "      <th>DummyRegressor</th>\n",
       "      <td>10.395850</td>\n",
       "      <td>47.632423</td>\n",
       "    </tr>\n",
       "    <tr>\n",
       "      <th>RandomForestRegressor</th>\n",
       "      <td>4.622136</td>\n",
       "      <td>3.688402</td>\n",
       "    </tr>\n",
       "  </tbody>\n",
       "</table>\n",
       "</div>"
      ],
      "text/plain": [
       "                          361234     361235\n",
       "DummyRegressor         10.395850  47.632423\n",
       "RandomForestRegressor   4.622136   3.688402"
      ]
     },
     "metadata": {},
     "output_type": "display_data"
    },
    {
     "data": {
      "application/vnd.microsoft.datawrangler.viewer.v0+json": {
       "columns": [
        {
         "name": "index",
         "rawType": "object",
         "type": "string"
        },
        {
         "name": "361234",
         "rawType": "float64",
         "type": "float"
        },
        {
         "name": "361235",
         "rawType": "float64",
         "type": "float"
        }
       ],
       "conversionMethod": "pd.DataFrame",
       "ref": "078f4a26-dc9b-41af-8945-45dd66f792d7",
       "rows": [
        [
         "DummyRegressor",
         "-0.0016752082575885341",
         "-0.007683858223949525"
        ],
        [
         "RandomForestRegressor",
         "0.5544418723737963",
         "0.921467419844174"
        ]
       ],
       "shape": {
        "columns": 2,
        "rows": 2
       }
      },
      "text/html": [
       "<div>\n",
       "<style scoped>\n",
       "    .dataframe tbody tr th:only-of-type {\n",
       "        vertical-align: middle;\n",
       "    }\n",
       "\n",
       "    .dataframe tbody tr th {\n",
       "        vertical-align: top;\n",
       "    }\n",
       "\n",
       "    .dataframe thead th {\n",
       "        text-align: right;\n",
       "    }\n",
       "</style>\n",
       "<table border=\"1\" class=\"dataframe\">\n",
       "  <thead>\n",
       "    <tr style=\"text-align: right;\">\n",
       "      <th></th>\n",
       "      <th>361234</th>\n",
       "      <th>361235</th>\n",
       "    </tr>\n",
       "  </thead>\n",
       "  <tbody>\n",
       "    <tr>\n",
       "      <th>DummyRegressor</th>\n",
       "      <td>-0.001675</td>\n",
       "      <td>-0.007684</td>\n",
       "    </tr>\n",
       "    <tr>\n",
       "      <th>RandomForestRegressor</th>\n",
       "      <td>0.554442</td>\n",
       "      <td>0.921467</td>\n",
       "    </tr>\n",
       "  </tbody>\n",
       "</table>\n",
       "</div>"
      ],
      "text/plain": [
       "                         361234    361235\n",
       "DummyRegressor        -0.001675 -0.007684\n",
       "RandomForestRegressor  0.554442  0.921467"
      ]
     },
     "metadata": {},
     "output_type": "display_data"
    },
    {
     "data": {
      "application/vnd.microsoft.datawrangler.viewer.v0+json": {
       "columns": [
        {
         "name": "index",
         "rawType": "object",
         "type": "string"
        },
        {
         "name": "361234",
         "rawType": "float64",
         "type": "float"
        },
        {
         "name": "361235",
         "rawType": "float64",
         "type": "float"
        }
       ],
       "conversionMethod": "pd.DataFrame",
       "ref": "f6963343-dc88-43f3-9c2b-8399bb6b61bb",
       "rows": [
        [
         "DummyRegressor",
         "2.0",
         "2.0"
        ],
        [
         "RandomForestRegressor",
         "1.0",
         "1.0"
        ]
       ],
       "shape": {
        "columns": 2,
        "rows": 2
       }
      },
      "text/html": [
       "<div>\n",
       "<style scoped>\n",
       "    .dataframe tbody tr th:only-of-type {\n",
       "        vertical-align: middle;\n",
       "    }\n",
       "\n",
       "    .dataframe tbody tr th {\n",
       "        vertical-align: top;\n",
       "    }\n",
       "\n",
       "    .dataframe thead th {\n",
       "        text-align: right;\n",
       "    }\n",
       "</style>\n",
       "<table border=\"1\" class=\"dataframe\">\n",
       "  <thead>\n",
       "    <tr style=\"text-align: right;\">\n",
       "      <th></th>\n",
       "      <th>361234</th>\n",
       "      <th>361235</th>\n",
       "    </tr>\n",
       "  </thead>\n",
       "  <tbody>\n",
       "    <tr>\n",
       "      <th>DummyRegressor</th>\n",
       "      <td>2.0</td>\n",
       "      <td>2.0</td>\n",
       "    </tr>\n",
       "    <tr>\n",
       "      <th>RandomForestRegressor</th>\n",
       "      <td>1.0</td>\n",
       "      <td>1.0</td>\n",
       "    </tr>\n",
       "  </tbody>\n",
       "</table>\n",
       "</div>"
      ],
      "text/plain": [
       "                       361234  361235\n",
       "DummyRegressor            2.0     2.0\n",
       "RandomForestRegressor     1.0     1.0"
      ]
     },
     "metadata": {},
     "output_type": "display_data"
    },
    {
     "data": {
      "text/plain": [
       "DummyRegressor           2.0\n",
       "RandomForestRegressor    1.0\n",
       "dtype: float64"
      ]
     },
     "metadata": {},
     "output_type": "display_data"
    }
   ],
   "source": [
    "# Aggregate Results\n",
    "import pandas as pd\n",
    "from sklearn.metrics import mean_squared_error, r2_score\n",
    "\n",
    "runs_df = pd.DataFrame(task_runs)\n",
    "mse_df = runs_df.map(lambda run: run.get_metric_fn(mean_squared_error).mean())\n",
    "r2_df = runs_df.map(lambda run: run.get_metric_fn(r2_score).mean())\n",
    "rank_df = mse_df.rank(axis=0, method=\"min\", ascending=True)\n",
    "average_rank = rank_df.mean(axis=1)\n",
    "display(mse_df, r2_df, rank_df, average_rank)"
   ]
  },
  {
   "cell_type": "code",
   "execution_count": 10,
   "id": "1a6e811d",
   "metadata": {},
   "outputs": [
    {
     "data": {
      "text/plain": [
       "OpenML Run\n",
       "==========\n",
       "Uploader Name..............: None\n",
       "Metric.....................: None\n",
       "Local Result - MAE (+- STD): 2.3273 +- 0.0312\n",
       "Local Runtime - ms (+- STD): 60488.1172 +- 735.7695\n",
       "Run ID.....................: None\n",
       "Task ID....................: 361241\n",
       "Task Type..................: None\n",
       "Task URL...................: https://www.openml.org/t/361241\n",
       "Flow ID....................: None\n",
       "Flow Name..................: sklearn.pipeline.Pipeline(preprocessor=sklearn.compose._column_transformer.ColumnTransformer(numeric_preprocessor=sklearn.pipeline.Pipeline(imputer=sklearn.impute._base.SimpleImputer,scaler=sklearn.preprocessing._data.StandardScaler),nominal_preprocessor=sklearn.pipeline.Pipeline(onehot=sklearn.preprocessing._encoders.OneHotEncoder)),model=sklearn.ensemble._forest.RandomForestRegressor)\n",
       "Flow URL...................: None\n",
       "Setup ID...................: None\n",
       "Setup String...............: Python_3.13.3. Sklearn_1.6.1. NumPy_2.2.5. SciPy_1.15.2.\n",
       "Dataset ID.................: 44963\n",
       "Dataset URL................: https://www.openml.org/d/44963"
      ]
     },
     "metadata": {},
     "output_type": "display_data"
    }
   ],
   "source": [
    "# Single Model Evaluation\n",
    "task_id = suite.tasks[4]\n",
    "task = openml.tasks.get_task(task_id)\n",
    "dataset = task.get_dataset()\n",
    "preprocessor = make_preprocessor(dataset)\n",
    "\n",
    "model_name = \"RandomForestRegressor\"\n",
    "pipe = Pipeline([(\"preprocessor\", preprocessor), (\"model\", models[model_name])])\n",
    "model = pipe\n",
    "\n",
    "run = openml.runs.run_model_on_task(model, task, n_jobs=-1)\n",
    "display(run)"
   ]
  },
  {
   "cell_type": "code",
   "execution_count": null,
   "id": "9cb6e711",
   "metadata": {},
   "outputs": [
    {
     "ename": "AttributeError",
     "evalue": "'ForestMLP' object has no attribute 'forest_args'",
     "output_type": "error",
     "traceback": [
      "\u001b[31m---------------------------------------------------------------------------\u001b[39m",
      "\u001b[31mAttributeError\u001b[39m                            Traceback (most recent call last)",
      "\u001b[36mCell\u001b[39m\u001b[36m \u001b[39m\u001b[32mIn[54]\u001b[39m\u001b[32m, line 42\u001b[39m\n\u001b[32m     31\u001b[39m forest_mlp = ForestMLP(\n\u001b[32m     32\u001b[39m     forest_args={\n\u001b[32m     33\u001b[39m         \u001b[33m\"\u001b[39m\u001b[33mn_estimators\u001b[39m\u001b[33m\"\u001b[39m: \u001b[32m100\u001b[39m,\n\u001b[32m   (...)\u001b[39m\u001b[32m     39\u001b[39m     },\n\u001b[32m     40\u001b[39m )\n\u001b[32m     41\u001b[39m \u001b[38;5;66;03m# forest_mlp.forest_.fit(X, y)\u001b[39;00m\n\u001b[32m---> \u001b[39m\u001b[32m42\u001b[39m \u001b[43mforest_mlp\u001b[49m\u001b[43m.\u001b[49m\u001b[43mfit\u001b[49m\u001b[43m(\u001b[49m\u001b[43mX\u001b[49m\u001b[43m,\u001b[49m\u001b[43m \u001b[49m\u001b[43my\u001b[49m\u001b[43m)\u001b[49m\n",
      "\u001b[36mCell\u001b[39m\u001b[36m \u001b[39m\u001b[32mIn[54]\u001b[39m\u001b[32m, line 13\u001b[39m, in \u001b[36mForestMLP.fit\u001b[39m\u001b[34m(self, X, y)\u001b[39m\n\u001b[32m     11\u001b[39m \u001b[38;5;28;01mdef\u001b[39;00m\u001b[38;5;250m \u001b[39m\u001b[34mfit\u001b[39m(\u001b[38;5;28mself\u001b[39m, X, y):\n\u001b[32m     12\u001b[39m     \u001b[38;5;28mself\u001b[39m.forest_.fit(X, y)\n\u001b[32m---> \u001b[39m\u001b[32m13\u001b[39m     \u001b[38;5;28;43msuper\u001b[39;49m\u001b[43m(\u001b[49m\u001b[43m)\u001b[49m\u001b[43m.\u001b[49m\u001b[43mfit\u001b[49m\u001b[43m(\u001b[49m\u001b[43mX\u001b[49m\u001b[43m,\u001b[49m\u001b[43m \u001b[49m\u001b[43my\u001b[49m\u001b[43m)\u001b[49m\n",
      "\u001b[36mFile \u001b[39m\u001b[32m~/Developer/research/.venv/lib/python3.13/site-packages/sklearn/base.py:1382\u001b[39m, in \u001b[36m_fit_context.<locals>.decorator.<locals>.wrapper\u001b[39m\u001b[34m(estimator, *args, **kwargs)\u001b[39m\n\u001b[32m   1377\u001b[39m partial_fit_and_fitted = (\n\u001b[32m   1378\u001b[39m     fit_method.\u001b[34m__name__\u001b[39m == \u001b[33m\"\u001b[39m\u001b[33mpartial_fit\u001b[39m\u001b[33m\"\u001b[39m \u001b[38;5;129;01mand\u001b[39;00m _is_fitted(estimator)\n\u001b[32m   1379\u001b[39m )\n\u001b[32m   1381\u001b[39m \u001b[38;5;28;01mif\u001b[39;00m \u001b[38;5;129;01mnot\u001b[39;00m global_skip_validation \u001b[38;5;129;01mand\u001b[39;00m \u001b[38;5;129;01mnot\u001b[39;00m partial_fit_and_fitted:\n\u001b[32m-> \u001b[39m\u001b[32m1382\u001b[39m     \u001b[43mestimator\u001b[49m\u001b[43m.\u001b[49m\u001b[43m_validate_params\u001b[49m\u001b[43m(\u001b[49m\u001b[43m)\u001b[49m\n\u001b[32m   1384\u001b[39m \u001b[38;5;28;01mwith\u001b[39;00m config_context(\n\u001b[32m   1385\u001b[39m     skip_parameter_validation=(\n\u001b[32m   1386\u001b[39m         prefer_skip_nested_validation \u001b[38;5;129;01mor\u001b[39;00m global_skip_validation\n\u001b[32m   1387\u001b[39m     )\n\u001b[32m   1388\u001b[39m ):\n\u001b[32m   1389\u001b[39m     \u001b[38;5;28;01mreturn\u001b[39;00m fit_method(estimator, *args, **kwargs)\n",
      "\u001b[36mFile \u001b[39m\u001b[32m~/Developer/research/.venv/lib/python3.13/site-packages/sklearn/base.py:438\u001b[39m, in \u001b[36mBaseEstimator._validate_params\u001b[39m\u001b[34m(self)\u001b[39m\n\u001b[32m    428\u001b[39m \u001b[38;5;28;01mdef\u001b[39;00m\u001b[38;5;250m \u001b[39m\u001b[34m_validate_params\u001b[39m(\u001b[38;5;28mself\u001b[39m):\n\u001b[32m    429\u001b[39m \u001b[38;5;250m    \u001b[39m\u001b[33;03m\"\"\"Validate types and values of constructor parameters\u001b[39;00m\n\u001b[32m    430\u001b[39m \n\u001b[32m    431\u001b[39m \u001b[33;03m    The expected type and values must be defined in the `_parameter_constraints`\u001b[39;00m\n\u001b[32m   (...)\u001b[39m\u001b[32m    434\u001b[39m \u001b[33;03m    accepted constraints.\u001b[39;00m\n\u001b[32m    435\u001b[39m \u001b[33;03m    \"\"\"\u001b[39;00m\n\u001b[32m    436\u001b[39m     validate_parameter_constraints(\n\u001b[32m    437\u001b[39m         \u001b[38;5;28mself\u001b[39m._parameter_constraints,\n\u001b[32m--> \u001b[39m\u001b[32m438\u001b[39m         \u001b[38;5;28;43mself\u001b[39;49m\u001b[43m.\u001b[49m\u001b[43mget_params\u001b[49m\u001b[43m(\u001b[49m\u001b[43mdeep\u001b[49m\u001b[43m=\u001b[49m\u001b[38;5;28;43;01mFalse\u001b[39;49;00m\u001b[43m)\u001b[49m,\n\u001b[32m    439\u001b[39m         caller_name=\u001b[38;5;28mself\u001b[39m.\u001b[34m__class__\u001b[39m.\u001b[34m__name__\u001b[39m,\n\u001b[32m    440\u001b[39m     )\n",
      "\u001b[36mFile \u001b[39m\u001b[32m~/Developer/research/.venv/lib/python3.13/site-packages/sklearn/base.py:248\u001b[39m, in \u001b[36mBaseEstimator.get_params\u001b[39m\u001b[34m(self, deep)\u001b[39m\n\u001b[32m    246\u001b[39m out = \u001b[38;5;28mdict\u001b[39m()\n\u001b[32m    247\u001b[39m \u001b[38;5;28;01mfor\u001b[39;00m key \u001b[38;5;129;01min\u001b[39;00m \u001b[38;5;28mself\u001b[39m._get_param_names():\n\u001b[32m--> \u001b[39m\u001b[32m248\u001b[39m     value = \u001b[38;5;28;43mgetattr\u001b[39;49m\u001b[43m(\u001b[49m\u001b[38;5;28;43mself\u001b[39;49m\u001b[43m,\u001b[49m\u001b[43m \u001b[49m\u001b[43mkey\u001b[49m\u001b[43m)\u001b[49m\n\u001b[32m    249\u001b[39m     \u001b[38;5;28;01mif\u001b[39;00m deep \u001b[38;5;129;01mand\u001b[39;00m \u001b[38;5;28mhasattr\u001b[39m(value, \u001b[33m\"\u001b[39m\u001b[33mget_params\u001b[39m\u001b[33m\"\u001b[39m) \u001b[38;5;129;01mand\u001b[39;00m \u001b[38;5;129;01mnot\u001b[39;00m \u001b[38;5;28misinstance\u001b[39m(value, \u001b[38;5;28mtype\u001b[39m):\n\u001b[32m    250\u001b[39m         deep_items = value.get_params().items()\n",
      "\u001b[31mAttributeError\u001b[39m: 'ForestMLP' object has no attribute 'forest_args'"
     ]
    }
   ],
   "source": [
    "from sklearn.ensemble import RandomForestRegressor\n",
    "from sklearn.neural_network import MLPRegressor\n",
    "from sklearn.tree import DecisionTreeRegressor\n",
    "\n",
    "\n",
    "class ForestMLP(MLPRegressor):\n",
    "    def __init__(self, forest_args, mlp_args):\n",
    "        self.forest_ = RandomForestRegressor(**forest_args)\n",
    "        super().__init__(**mlp_args)\n",
    "\n",
    "    def fit(self, X, y):\n",
    "        self.forest_.fit(X, y)\n",
    "        super().fit(X, y)\n",
    "        # return self\n",
    "\n",
    "\n",
    "task_id = suite.tasks[0]\n",
    "task = openml.tasks.get_task(task_id)\n",
    "dataset = task.get_dataset()\n",
    "preprocessor = make_preprocessor(dataset)\n",
    "X, y, _, _ = dataset.get_data(target=dataset.default_target_attribute)\n",
    "X = preprocessor.fit_transform(X)\n",
    "\n",
    "# mlp = MLPRegressor(\n",
    "#     hidden_layer_sizes=(10,),\n",
    "#     max_iter=200,\n",
    "# )\n",
    "# mlp.fit(X, y)\n",
    "# display(mlp.score(X, y))\n",
    "\n",
    "forest_mlp = ForestMLP(\n",
    "    forest_args={\n",
    "        \"n_estimators\": 100,\n",
    "        \"max_depth\": 2,\n",
    "    },\n",
    "    mlp_args={\n",
    "        \"hidden_layer_sizes\": (10,),\n",
    "        \"max_iter\": 200,\n",
    "    },\n",
    ")\n",
    "# forest_mlp.forest_.fit(X, y)\n",
    "forest_mlp.fit(X, y)"
   ]
  }
 ],
 "metadata": {
  "kernelspec": {
   "display_name": ".venv (3.13.3)",
   "language": "python",
   "name": "python3"
  },
  "language_info": {
   "codemirror_mode": {
    "name": "ipython",
    "version": 3
   },
   "file_extension": ".py",
   "mimetype": "text/x-python",
   "name": "python",
   "nbconvert_exporter": "python",
   "pygments_lexer": "ipython3",
   "version": "3.13.3"
  }
 },
 "nbformat": 4,
 "nbformat_minor": 5
}
