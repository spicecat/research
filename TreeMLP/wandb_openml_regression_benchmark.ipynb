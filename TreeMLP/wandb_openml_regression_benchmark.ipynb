{
 "cells": [
  {
   "cell_type": "markdown",
   "id": "0355f62c",
   "metadata": {},
   "source": [
    "# OpenML Regression Benchmark 2025 – **Complete Notebook**\n",
    "\n",
    "This notebook benchmarks a variety of regression models on the `New_OpenML_Suite_2025_regression` collection, logs experiments to **Weights & Biases**, runs hyper‑parameter sweeps, and tracks full data/model lineage.\n"
   ]
  },
  {
   "cell_type": "code",
   "execution_count": null,
   "id": "e29ed75f",
   "metadata": {},
   "outputs": [
    {
     "name": "stderr",
     "output_type": "stream",
     "text": [
      "\u001b[34m\u001b[1mwandb\u001b[0m: Currently logged in as: \u001b[33mspicecat\u001b[0m (\u001b[33mspicecat-club\u001b[0m) to \u001b[32mhttps://api.wandb.ai\u001b[0m. Use \u001b[1m`wandb login --relogin`\u001b[0m to force relogin\n"
     ]
    },
    {
     "data": {
      "text/plain": [
       "True"
      ]
     },
     "execution_count": 1,
     "metadata": {},
     "output_type": "execute_result"
    }
   ],
   "source": [
    "# ---- Setup ------------------------------------------------------------------\n",
    "%pip install --upgrade -openml wandb scikit-learn optuna-integration[sklearn] pandas nbformat numpy joblib setuptools\n",
    "\n",
    "import warnings, uuid, joblib\n",
    "warnings.filterwarnings(\"ignore\")\n",
    "\n",
    "import numpy as np\n",
    "import pandas as pd\n",
    "import openml\n",
    "from sklearn.compose import ColumnTransformer\n",
    "from sklearn.impute import SimpleImputer\n",
    "from sklearn.pipeline import Pipeline\n",
    "from sklearn.preprocessing import StandardScaler, OneHotEncoder\n",
    "from sklearn.model_selection import cross_validate, KFold, train_test_split\n",
    "from sklearn.metrics import (\n",
    "    make_scorer,\n",
    "    r2_score,\n",
    "    mean_absolute_error,\n",
    "    mean_squared_error,\n",
    ")\n",
    "from sklearn.linear_model import LinearRegression\n",
    "from sklearn.ensemble import RandomForestRegressor\n",
    "from sklearn.neural_network import MLPRegressor\n",
    "from sklearn.inspection import permutation_importance\n",
    "\n",
    "from IPython.display import display\n",
    "from joblib import Memory\n",
    "import wandb\n",
    "\n",
    "# Authenticate W&B (expects env var or local API key)\n",
    "wandb.login()"
   ]
  },
  {
   "cell_type": "code",
   "execution_count": null,
   "id": "3cc3b238",
   "metadata": {},
   "outputs": [],
   "source": [
    "# ---- Configuration ----------------------------------------------------------\n",
    "SUITE_NAME = \"8f0ea660163b436bbd4abd49665c7b1d\"  # OpenML-CTR23 - A curated tabular regression benchmarking suite\n",
    "WANDB_PROJECT = \"openml_regression_benchmark_2025\"\n",
    "CV_FOLDS = 5\n",
    "RANDOM_STATE = 42\n",
    "\n",
    "scoring = {\n",
    "    \"r2\": make_scorer(r2_score),\n",
    "    \"mae\": make_scorer(mean_absolute_error, greater_is_better=False),\n",
    "    \"mse\": make_scorer(mean_squared_error, greater_is_better=False),\n",
    "}"
   ]
  },
  {
   "cell_type": "code",
   "execution_count": 3,
   "id": "8373743a",
   "metadata": {},
   "outputs": [],
   "source": [
    "# ---- Helper • preprocessing --------------------------------------------------\n",
    "def make_preprocessing_pipeline(X: pd.DataFrame):\n",
    "    \"\"\"Return ColumnTransformer that imputes numeric / categorical and outputs dense arrays.\"\"\"\n",
    "    numeric_features = X.select_dtypes(include=[\"number\"]).columns.tolist()\n",
    "    categorical_features = X.select_dtypes(exclude=[\"number\"]).columns.tolist()\n",
    "\n",
    "    numeric_transformer = Pipeline(\n",
    "        steps=[\n",
    "            (\"imputer\", SimpleImputer(strategy=\"median\")),\n",
    "            (\"scaler\", StandardScaler()),\n",
    "        ]\n",
    "    )\n",
    "\n",
    "    categorical_transformer = Pipeline(\n",
    "        steps=[\n",
    "            (\"imputer\", SimpleImputer(strategy=\"most_frequent\")),\n",
    "            (\n",
    "                \"encoder\",\n",
    "                OneHotEncoder(handle_unknown=\"ignore\", sparse_output=False, max_categories=20),\n",
    "            ),\n",
    "        ]\n",
    "    )\n",
    "\n",
    "    preprocessor = ColumnTransformer(\n",
    "        transformers=[\n",
    "            (\"num\", numeric_transformer, numeric_features),\n",
    "            (\"cat\", categorical_transformer, categorical_features),\n",
    "        ],\n",
    "        sparse_threshold=0.0,  # guarantee dense output\n",
    "    )\n",
    "    return preprocessor"
   ]
  },
  {
   "cell_type": "code",
   "execution_count": 4,
   "id": "fab33da0",
   "metadata": {},
   "outputs": [],
   "source": [
    "# ---- Helper • reproducibility & lineage -------------------------------------\n",
    "def log_dataset_artifact(run, dataset):\n",
    "    art = wandb.Artifact(dataset.name.replace(\" \", \"_\"), type=\"dataset\")\n",
    "    # add reference so artifact links back to OpenML\n",
    "    if getattr(dataset, \"url\", None):\n",
    "        art.add_reference(dataset.url)\n",
    "    run.use_artifact(art)\n",
    "\n",
    "\n",
    "def save_model_artifact(run, pipe_fitted, dataset_name, model_name):\n",
    "    path = (\n",
    "        f\"/tmp/{dataset_name.replace(' ', '_')}_{model_name}_{uuid.uuid4().hex}.joblib\"\n",
    "    )\n",
    "    joblib.dump(pipe_fitted, path)\n",
    "    art = wandb.Artifact(f\"{dataset_name}-{model_name}\", type=\"model\")\n",
    "    art.add_file(path)\n",
    "    run.log_artifact(art)"
   ]
  },
  {
   "cell_type": "code",
   "execution_count": 5,
   "id": "a4f22e44",
   "metadata": {},
   "outputs": [],
   "source": [
    "# ---- Helper • W&B plotting ---------------------------------------------------\n",
    "def log_wandb_regressor_plots(\n",
    "    pipe_fitted, X_train, X_test, y_train, y_test, model_name\n",
    "):\n",
    "    try:\n",
    "        pre = pipe_fitted.named_steps.get(\"pre\")\n",
    "        if pre is not None:\n",
    "            X_train_enc = pre.transform(X_train)\n",
    "            X_test_enc = pre.transform(X_test)\n",
    "            if hasattr(X_train_enc, \"toarray\"):\n",
    "                X_train_enc = X_train_enc.toarray()\n",
    "                X_test_enc = X_test_enc.toarray()\n",
    "            reg = pipe_fitted.named_steps[\"model\"]\n",
    "        else:\n",
    "            X_train_enc, X_test_enc = X_train, X_test\n",
    "            reg = pipe_fitted\n",
    "\n",
    "        wandb.sklearn.plot_regressor(\n",
    "            reg, X_train_enc, X_test_enc, y_train, y_test, model_name=model_name\n",
    "        )\n",
    "        wandb.sklearn.plot_learning_curve(\n",
    "            pipe_fitted, X_train_enc, y_train, cv=5, model_name=model_name\n",
    "        )\n",
    "    except Exception as exc:\n",
    "        print(f\"[W&B plots skipped] {exc}\")"
   ]
  },
  {
   "cell_type": "code",
   "execution_count": 6,
   "id": "303ad3e3",
   "metadata": {},
   "outputs": [],
   "source": [
    "# ---- Helper • permutation importance ----------------------------------------\n",
    "def log_permutation_importance(pipe_fitted, X_val, y_val, model_name):\n",
    "    try:\n",
    "        pre = pipe_fitted.named_steps.get(\"pre\")\n",
    "        X_val_enc = pre.transform(X_val) if pre else X_val\n",
    "        if hasattr(X_val_enc, \"toarray\"):\n",
    "            X_val_enc = X_val_enc.toarray()\n",
    "        res = permutation_importance(\n",
    "            pipe_fitted,\n",
    "            X_val_enc,\n",
    "            y_val,\n",
    "            n_repeats=5,\n",
    "            random_state=RANDOM_STATE,\n",
    "            n_jobs=-1,\n",
    "        )\n",
    "        wandb.log({f\"perm_imp_{model_name}\": res.importances_mean})\n",
    "    except Exception as exc:\n",
    "        print(f\"[perm importance skipped] {exc}\")"
   ]
  },
  {
   "cell_type": "code",
   "execution_count": null,
   "id": "b7f1812c",
   "metadata": {},
   "outputs": [],
   "source": [
    "# ---- Helper • evaluation & W&B logging --------------------------------------\n",
    "import copy\n",
    "\n",
    "\n",
    "def evaluate_model(model_name: str, model, X, y):\n",
    "    memory = Memory(location=\"/tmp/sk_cache\", verbose=0)\n",
    "    pre = make_preprocessing_pipeline(X)\n",
    "    pipe = Pipeline(memory=memory, steps=[(\"pre\", pre), (\"model\", model)])\n",
    "\n",
    "    cv = KFold(n_splits=CV_FOLDS, shuffle=True, random_state=RANDOM_STATE)\n",
    "    cv_results = cross_validate(\n",
    "        pipe, X, y, cv=cv, scoring=scoring, return_train_score=False, n_jobs=-1\n",
    "    )\n",
    "\n",
    "    metrics = {\n",
    "        \"r2\": np.mean(cv_results[\"test_r2\"]),\n",
    "        \"mae\": -np.mean(cv_results[\"test_mae\"]),\n",
    "        \"mse\": -np.mean(cv_results[\"test_mse\"]),\n",
    "    }\n",
    "\n",
    "    # Hold‑out split for plots & importance\n",
    "    X_train, X_test, y_train, y_test = train_test_split(\n",
    "        X, y, test_size=0.2, random_state=RANDOM_STATE\n",
    "    )\n",
    "    pipe_fit = Pipeline(\n",
    "        memory=memory, steps=[(\"pre\", pre), (\"model\", copy.deepcopy(model))]\n",
    "    )\n",
    "    pipe_fit.fit(X_train, y_train)\n",
    "\n",
    "    # log_wandb_regressor_plots(pipe_fit, X_train, X_test, y_train, y_test, model_name)\n",
    "    # log_permutation_importance(pipe_fit, X_test, y_test, model_name)\n",
    "\n",
    "    return metrics, pipe_fit"
   ]
  },
  {
   "cell_type": "code",
   "execution_count": 8,
   "id": "617c5ebb",
   "metadata": {},
   "outputs": [],
   "source": [
    "# ---- Helper • sweep model builder -------------------------------------------\n",
    "def make_model_from_sweep(cfg):\n",
    "    if cfg.model == \"RandomForest\":\n",
    "        return RandomForestRegressor(\n",
    "            n_estimators=cfg.rf_n_estimators,\n",
    "            max_depth=cfg.rf_max_depth,\n",
    "            random_state=RANDOM_STATE,\n",
    "        )\n",
    "    if cfg.model == \"MLP\":\n",
    "        return MLPRegressor(\n",
    "            hidden_layer_sizes=tuple(cfg.mlp_layers),\n",
    "            learning_rate_init=cfg.mlp_lr,\n",
    "            max_iter=cfg.mlp_max_iter,\n",
    "            random_state=RANDOM_STATE,\n",
    "        )\n",
    "    raise ValueError(cfg.model)"
   ]
  },
  {
   "cell_type": "code",
   "execution_count": 9,
   "id": "4360f4da",
   "metadata": {},
   "outputs": [
    {
     "name": "stdout",
     "output_type": "stream",
     "text": [
      "Evaluating 35 tasks from suite '8f0ea660163b436bbd4abd49665c7b1d'\n",
      "\n",
      "Dataset: abalone (task_id=361234) | shape=(4177, 8)\n"
     ]
    },
    {
     "data": {
      "text/html": [
       "Tracking run with wandb version 0.19.10"
      ],
      "text/plain": [
       "<IPython.core.display.HTML object>"
      ]
     },
     "metadata": {},
     "output_type": "display_data"
    },
    {
     "data": {
      "text/html": [
       "Run data is saved locally in <code>/home/ahteh/Developer/research/TreeMLP/wandb/run-20250424_184225-y5fjsizv</code>"
      ],
      "text/plain": [
       "<IPython.core.display.HTML object>"
      ]
     },
     "metadata": {},
     "output_type": "display_data"
    },
    {
     "data": {
      "text/html": [
       "Syncing run <strong><a href='https://wandb.ai/spicecat-club/openml_regression_benchmark_2025/runs/y5fjsizv' target=\"_blank\">abalone-LinearRegression</a></strong> to <a href='https://wandb.ai/spicecat-club/openml_regression_benchmark_2025' target=\"_blank\">Weights & Biases</a> (<a href='https://wandb.me/developer-guide' target=\"_blank\">docs</a>)<br>"
      ],
      "text/plain": [
       "<IPython.core.display.HTML object>"
      ]
     },
     "metadata": {},
     "output_type": "display_data"
    },
    {
     "data": {
      "text/html": [
       " View project at <a href='https://wandb.ai/spicecat-club/openml_regression_benchmark_2025' target=\"_blank\">https://wandb.ai/spicecat-club/openml_regression_benchmark_2025</a>"
      ],
      "text/plain": [
       "<IPython.core.display.HTML object>"
      ]
     },
     "metadata": {},
     "output_type": "display_data"
    },
    {
     "data": {
      "text/html": [
       " View run at <a href='https://wandb.ai/spicecat-club/openml_regression_benchmark_2025/runs/y5fjsizv' target=\"_blank\">https://wandb.ai/spicecat-club/openml_regression_benchmark_2025/runs/y5fjsizv</a>"
      ],
      "text/plain": [
       "<IPython.core.display.HTML object>"
      ]
     },
     "metadata": {},
     "output_type": "display_data"
    },
    {
     "data": {
      "text/html": [],
      "text/plain": [
       "<IPython.core.display.HTML object>"
      ]
     },
     "metadata": {},
     "output_type": "display_data"
    },
    {
     "data": {
      "text/html": [
       "<br>    <style><br>        .wandb-row {<br>            display: flex;<br>            flex-direction: row;<br>            flex-wrap: wrap;<br>            justify-content: flex-start;<br>            width: 100%;<br>        }<br>        .wandb-col {<br>            display: flex;<br>            flex-direction: column;<br>            flex-basis: 100%;<br>            flex: 1;<br>            padding: 10px;<br>        }<br>    </style><br><div class=\"wandb-row\"><div class=\"wandb-col\"><h3>Run history:</h3><br/><table class=\"wandb\"><tr><td>mae</td><td>▁</td></tr><tr><td>mape</td><td>▁</td></tr><tr><td>mse</td><td>▁</td></tr><tr><td>r2</td><td>▁</td></tr></table><br/></div><div class=\"wandb-col\"><h3>Run summary:</h3><br/><table class=\"wandb\"><tr><td>mae</td><td>1.58555</td></tr><tr><td>mape</td><td>0.1598</td></tr><tr><td>mse</td><td>4.90657</td></tr><tr><td>r2</td><td>0.52571</td></tr></table><br/></div></div>"
      ],
      "text/plain": [
       "<IPython.core.display.HTML object>"
      ]
     },
     "metadata": {},
     "output_type": "display_data"
    },
    {
     "data": {
      "text/html": [
       " View run <strong style=\"color:#cdcd00\">abalone-LinearRegression</strong> at: <a href='https://wandb.ai/spicecat-club/openml_regression_benchmark_2025/runs/y5fjsizv' target=\"_blank\">https://wandb.ai/spicecat-club/openml_regression_benchmark_2025/runs/y5fjsizv</a><br> View project at: <a href='https://wandb.ai/spicecat-club/openml_regression_benchmark_2025' target=\"_blank\">https://wandb.ai/spicecat-club/openml_regression_benchmark_2025</a><br>Synced 5 W&B file(s), 0 media file(s), 0 artifact file(s) and 0 other file(s)"
      ],
      "text/plain": [
       "<IPython.core.display.HTML object>"
      ]
     },
     "metadata": {},
     "output_type": "display_data"
    },
    {
     "data": {
      "text/html": [
       "Find logs at: <code>./wandb/run-20250424_184225-y5fjsizv/logs</code>"
      ],
      "text/plain": [
       "<IPython.core.display.HTML object>"
      ]
     },
     "metadata": {},
     "output_type": "display_data"
    },
    {
     "data": {
      "text/html": [
       "Tracking run with wandb version 0.19.10"
      ],
      "text/plain": [
       "<IPython.core.display.HTML object>"
      ]
     },
     "metadata": {},
     "output_type": "display_data"
    },
    {
     "data": {
      "text/html": [
       "Run data is saved locally in <code>/home/ahteh/Developer/research/TreeMLP/wandb/run-20250424_184228-sztqh6xl</code>"
      ],
      "text/plain": [
       "<IPython.core.display.HTML object>"
      ]
     },
     "metadata": {},
     "output_type": "display_data"
    },
    {
     "data": {
      "text/html": [
       "Syncing run <strong><a href='https://wandb.ai/spicecat-club/openml_regression_benchmark_2025/runs/sztqh6xl' target=\"_blank\">abalone-RandomForest</a></strong> to <a href='https://wandb.ai/spicecat-club/openml_regression_benchmark_2025' target=\"_blank\">Weights & Biases</a> (<a href='https://wandb.me/developer-guide' target=\"_blank\">docs</a>)<br>"
      ],
      "text/plain": [
       "<IPython.core.display.HTML object>"
      ]
     },
     "metadata": {},
     "output_type": "display_data"
    },
    {
     "data": {
      "text/html": [
       " View project at <a href='https://wandb.ai/spicecat-club/openml_regression_benchmark_2025' target=\"_blank\">https://wandb.ai/spicecat-club/openml_regression_benchmark_2025</a>"
      ],
      "text/plain": [
       "<IPython.core.display.HTML object>"
      ]
     },
     "metadata": {},
     "output_type": "display_data"
    },
    {
     "data": {
      "text/html": [
       " View run at <a href='https://wandb.ai/spicecat-club/openml_regression_benchmark_2025/runs/sztqh6xl' target=\"_blank\">https://wandb.ai/spicecat-club/openml_regression_benchmark_2025/runs/sztqh6xl</a>"
      ],
      "text/plain": [
       "<IPython.core.display.HTML object>"
      ]
     },
     "metadata": {},
     "output_type": "display_data"
    },
    {
     "data": {
      "text/html": [],
      "text/plain": [
       "<IPython.core.display.HTML object>"
      ]
     },
     "metadata": {},
     "output_type": "display_data"
    },
    {
     "data": {
      "text/html": [
       "<br>    <style><br>        .wandb-row {<br>            display: flex;<br>            flex-direction: row;<br>            flex-wrap: wrap;<br>            justify-content: flex-start;<br>            width: 100%;<br>        }<br>        .wandb-col {<br>            display: flex;<br>            flex-direction: column;<br>            flex-basis: 100%;<br>            flex: 1;<br>            padding: 10px;<br>        }<br>    </style><br><div class=\"wandb-row\"><div class=\"wandb-col\"><h3>Run history:</h3><br/><table class=\"wandb\"><tr><td>mae</td><td>▁</td></tr><tr><td>mape</td><td>▁</td></tr><tr><td>mse</td><td>▁</td></tr><tr><td>r2</td><td>▁</td></tr></table><br/></div><div class=\"wandb-col\"><h3>Run summary:</h3><br/><table class=\"wandb\"><tr><td>mae</td><td>1.5517</td></tr><tr><td>mape</td><td>0.15493</td></tr><tr><td>mse</td><td>4.79935</td></tr><tr><td>r2</td><td>0.53579</td></tr></table><br/></div></div>"
      ],
      "text/plain": [
       "<IPython.core.display.HTML object>"
      ]
     },
     "metadata": {},
     "output_type": "display_data"
    },
    {
     "data": {
      "text/html": [
       " View run <strong style=\"color:#cdcd00\">abalone-RandomForest</strong> at: <a href='https://wandb.ai/spicecat-club/openml_regression_benchmark_2025/runs/sztqh6xl' target=\"_blank\">https://wandb.ai/spicecat-club/openml_regression_benchmark_2025/runs/sztqh6xl</a><br> View project at: <a href='https://wandb.ai/spicecat-club/openml_regression_benchmark_2025' target=\"_blank\">https://wandb.ai/spicecat-club/openml_regression_benchmark_2025</a><br>Synced 5 W&B file(s), 0 media file(s), 0 artifact file(s) and 0 other file(s)"
      ],
      "text/plain": [
       "<IPython.core.display.HTML object>"
      ]
     },
     "metadata": {},
     "output_type": "display_data"
    },
    {
     "data": {
      "text/html": [
       "Find logs at: <code>./wandb/run-20250424_184228-sztqh6xl/logs</code>"
      ],
      "text/plain": [
       "<IPython.core.display.HTML object>"
      ]
     },
     "metadata": {},
     "output_type": "display_data"
    },
    {
     "name": "stdout",
     "output_type": "stream",
     "text": [
      "\n",
      "Dataset: airfoil_self_noise (task_id=361235) | shape=(1503, 5)\n"
     ]
    },
    {
     "data": {
      "text/html": [
       "Tracking run with wandb version 0.19.10"
      ],
      "text/plain": [
       "<IPython.core.display.HTML object>"
      ]
     },
     "metadata": {},
     "output_type": "display_data"
    },
    {
     "data": {
      "text/html": [
       "Run data is saved locally in <code>/home/ahteh/Developer/research/TreeMLP/wandb/run-20250424_184238-rqzv0qpg</code>"
      ],
      "text/plain": [
       "<IPython.core.display.HTML object>"
      ]
     },
     "metadata": {},
     "output_type": "display_data"
    },
    {
     "data": {
      "text/html": [
       "Syncing run <strong><a href='https://wandb.ai/spicecat-club/openml_regression_benchmark_2025/runs/rqzv0qpg' target=\"_blank\">airfoil_self_noise-LinearRegression</a></strong> to <a href='https://wandb.ai/spicecat-club/openml_regression_benchmark_2025' target=\"_blank\">Weights & Biases</a> (<a href='https://wandb.me/developer-guide' target=\"_blank\">docs</a>)<br>"
      ],
      "text/plain": [
       "<IPython.core.display.HTML object>"
      ]
     },
     "metadata": {},
     "output_type": "display_data"
    },
    {
     "data": {
      "text/html": [
       " View project at <a href='https://wandb.ai/spicecat-club/openml_regression_benchmark_2025' target=\"_blank\">https://wandb.ai/spicecat-club/openml_regression_benchmark_2025</a>"
      ],
      "text/plain": [
       "<IPython.core.display.HTML object>"
      ]
     },
     "metadata": {},
     "output_type": "display_data"
    },
    {
     "data": {
      "text/html": [
       " View run at <a href='https://wandb.ai/spicecat-club/openml_regression_benchmark_2025/runs/rqzv0qpg' target=\"_blank\">https://wandb.ai/spicecat-club/openml_regression_benchmark_2025/runs/rqzv0qpg</a>"
      ],
      "text/plain": [
       "<IPython.core.display.HTML object>"
      ]
     },
     "metadata": {},
     "output_type": "display_data"
    },
    {
     "data": {
      "text/html": [],
      "text/plain": [
       "<IPython.core.display.HTML object>"
      ]
     },
     "metadata": {},
     "output_type": "display_data"
    },
    {
     "data": {
      "text/html": [
       "<br>    <style><br>        .wandb-row {<br>            display: flex;<br>            flex-direction: row;<br>            flex-wrap: wrap;<br>            justify-content: flex-start;<br>            width: 100%;<br>        }<br>        .wandb-col {<br>            display: flex;<br>            flex-direction: column;<br>            flex-basis: 100%;<br>            flex: 1;<br>            padding: 10px;<br>        }<br>    </style><br><div class=\"wandb-row\"><div class=\"wandb-col\"><h3>Run history:</h3><br/><table class=\"wandb\"><tr><td>mae</td><td>▁</td></tr><tr><td>mape</td><td>▁</td></tr><tr><td>mse</td><td>▁</td></tr><tr><td>r2</td><td>▁</td></tr></table><br/></div><div class=\"wandb-col\"><h3>Run summary:</h3><br/><table class=\"wandb\"><tr><td>mae</td><td>3.7542</td></tr><tr><td>mape</td><td>0.03016</td></tr><tr><td>mse</td><td>23.36428</td></tr><tr><td>r2</td><td>0.50514</td></tr></table><br/></div></div>"
      ],
      "text/plain": [
       "<IPython.core.display.HTML object>"
      ]
     },
     "metadata": {},
     "output_type": "display_data"
    },
    {
     "data": {
      "text/html": [
       " View run <strong style=\"color:#cdcd00\">airfoil_self_noise-LinearRegression</strong> at: <a href='https://wandb.ai/spicecat-club/openml_regression_benchmark_2025/runs/rqzv0qpg' target=\"_blank\">https://wandb.ai/spicecat-club/openml_regression_benchmark_2025/runs/rqzv0qpg</a><br> View project at: <a href='https://wandb.ai/spicecat-club/openml_regression_benchmark_2025' target=\"_blank\">https://wandb.ai/spicecat-club/openml_regression_benchmark_2025</a><br>Synced 5 W&B file(s), 0 media file(s), 0 artifact file(s) and 0 other file(s)"
      ],
      "text/plain": [
       "<IPython.core.display.HTML object>"
      ]
     },
     "metadata": {},
     "output_type": "display_data"
    },
    {
     "data": {
      "text/html": [
       "Find logs at: <code>./wandb/run-20250424_184238-rqzv0qpg/logs</code>"
      ],
      "text/plain": [
       "<IPython.core.display.HTML object>"
      ]
     },
     "metadata": {},
     "output_type": "display_data"
    },
    {
     "data": {
      "text/html": [
       "Tracking run with wandb version 0.19.10"
      ],
      "text/plain": [
       "<IPython.core.display.HTML object>"
      ]
     },
     "metadata": {},
     "output_type": "display_data"
    },
    {
     "data": {
      "text/html": [
       "Run data is saved locally in <code>/home/ahteh/Developer/research/TreeMLP/wandb/run-20250424_184241-4l4b9g39</code>"
      ],
      "text/plain": [
       "<IPython.core.display.HTML object>"
      ]
     },
     "metadata": {},
     "output_type": "display_data"
    },
    {
     "data": {
      "text/html": [
       "Syncing run <strong><a href='https://wandb.ai/spicecat-club/openml_regression_benchmark_2025/runs/4l4b9g39' target=\"_blank\">airfoil_self_noise-RandomForest</a></strong> to <a href='https://wandb.ai/spicecat-club/openml_regression_benchmark_2025' target=\"_blank\">Weights & Biases</a> (<a href='https://wandb.me/developer-guide' target=\"_blank\">docs</a>)<br>"
      ],
      "text/plain": [
       "<IPython.core.display.HTML object>"
      ]
     },
     "metadata": {},
     "output_type": "display_data"
    },
    {
     "data": {
      "text/html": [
       " View project at <a href='https://wandb.ai/spicecat-club/openml_regression_benchmark_2025' target=\"_blank\">https://wandb.ai/spicecat-club/openml_regression_benchmark_2025</a>"
      ],
      "text/plain": [
       "<IPython.core.display.HTML object>"
      ]
     },
     "metadata": {},
     "output_type": "display_data"
    },
    {
     "data": {
      "text/html": [
       " View run at <a href='https://wandb.ai/spicecat-club/openml_regression_benchmark_2025/runs/4l4b9g39' target=\"_blank\">https://wandb.ai/spicecat-club/openml_regression_benchmark_2025/runs/4l4b9g39</a>"
      ],
      "text/plain": [
       "<IPython.core.display.HTML object>"
      ]
     },
     "metadata": {},
     "output_type": "display_data"
    },
    {
     "data": {
      "text/html": [],
      "text/plain": [
       "<IPython.core.display.HTML object>"
      ]
     },
     "metadata": {},
     "output_type": "display_data"
    },
    {
     "data": {
      "text/html": [
       "<br>    <style><br>        .wandb-row {<br>            display: flex;<br>            flex-direction: row;<br>            flex-wrap: wrap;<br>            justify-content: flex-start;<br>            width: 100%;<br>        }<br>        .wandb-col {<br>            display: flex;<br>            flex-direction: column;<br>            flex-basis: 100%;<br>            flex: 1;<br>            padding: 10px;<br>        }<br>    </style><br><div class=\"wandb-row\"><div class=\"wandb-col\"><h3>Run history:</h3><br/><table class=\"wandb\"><tr><td>mae</td><td>▁</td></tr><tr><td>mape</td><td>▁</td></tr><tr><td>mse</td><td>▁</td></tr><tr><td>r2</td><td>▁</td></tr></table><br/></div><div class=\"wandb-col\"><h3>Run summary:</h3><br/><table class=\"wandb\"><tr><td>mae</td><td>1.29732</td></tr><tr><td>mape</td><td>0.01047</td></tr><tr><td>mse</td><td>3.30809</td></tr><tr><td>r2</td><td>0.93015</td></tr></table><br/></div></div>"
      ],
      "text/plain": [
       "<IPython.core.display.HTML object>"
      ]
     },
     "metadata": {},
     "output_type": "display_data"
    },
    {
     "data": {
      "text/html": [
       " View run <strong style=\"color:#cdcd00\">airfoil_self_noise-RandomForest</strong> at: <a href='https://wandb.ai/spicecat-club/openml_regression_benchmark_2025/runs/4l4b9g39' target=\"_blank\">https://wandb.ai/spicecat-club/openml_regression_benchmark_2025/runs/4l4b9g39</a><br> View project at: <a href='https://wandb.ai/spicecat-club/openml_regression_benchmark_2025' target=\"_blank\">https://wandb.ai/spicecat-club/openml_regression_benchmark_2025</a><br>Synced 5 W&B file(s), 0 media file(s), 0 artifact file(s) and 0 other file(s)"
      ],
      "text/plain": [
       "<IPython.core.display.HTML object>"
      ]
     },
     "metadata": {},
     "output_type": "display_data"
    },
    {
     "data": {
      "text/html": [
       "Find logs at: <code>./wandb/run-20250424_184241-4l4b9g39/logs</code>"
      ],
      "text/plain": [
       "<IPython.core.display.HTML object>"
      ]
     },
     "metadata": {},
     "output_type": "display_data"
    }
   ],
   "source": [
    "# ---- Benchmark loop – per‑dataset evaluation --------------------------------\n",
    "results = []\n",
    "suite = openml.study.get_suite(SUITE_NAME)\n",
    "print(f\"Evaluating {len(suite.tasks)} tasks from suite '{SUITE_NAME}'\")\n",
    "\n",
    "# Baseline models\n",
    "baseline_models = {\n",
    "    \"LinearRegression\": LinearRegression(),\n",
    "    \"RandomForest\": RandomForestRegressor(n_estimators=200, random_state=RANDOM_STATE),\n",
    "}\n",
    "\n",
    "for task_id in suite.tasks[:2]:\n",
    "    task = openml.tasks.get_task(task_id)\n",
    "    dataset = task.get_dataset()\n",
    "    X, y, *_ = dataset.get_data(\n",
    "        target=dataset.default_target_attribute, dataset_format=\"dataframe\"\n",
    "    )\n",
    "\n",
    "    print(f\"\\nDataset: {dataset.name} (task_id={task_id}) | shape={X.shape}\")\n",
    "    for name, model in baseline_models.items():\n",
    "        run = wandb.init(\n",
    "            project=WANDB_PROJECT,\n",
    "            name=f\"{dataset.name}-{name}\",\n",
    "            config={\"dataset\": dataset.name, \"task_id\": task_id, \"model\": name},\n",
    "            reinit=\"finish_previous\",\n",
    "        )\n",
    "        # log_dataset_artifact(run, dataset)\n",
    "\n",
    "        try:\n",
    "            metrics, pipe_fit = evaluate_model(name, model, X, y)\n",
    "            wandb.log(metrics)\n",
    "            # save_model_artifact(run, pipe_fit, dataset.name, name)\n",
    "            results.append({\"dataset\": dataset.name, \"model\": name, **metrics})\n",
    "        except Exception as exc:\n",
    "            print(f\"⚠️ {name} on {dataset.name} failed: {exc}\")\n",
    "            wandb.log({\"error\": str(exc)})\n",
    "        finally:\n",
    "            run.finish()"
   ]
  },
  {
   "cell_type": "code",
   "execution_count": 10,
   "id": "086b3987",
   "metadata": {},
   "outputs": [
    {
     "data": {
      "application/vnd.microsoft.datawrangler.viewer.v0+json": {
       "columns": [
        {
         "name": "index",
         "rawType": "int64",
         "type": "integer"
        },
        {
         "name": "dataset",
         "rawType": "object",
         "type": "string"
        },
        {
         "name": "model",
         "rawType": "object",
         "type": "string"
        },
        {
         "name": "r2",
         "rawType": "float64",
         "type": "float"
        },
        {
         "name": "mae",
         "rawType": "float64",
         "type": "float"
        },
        {
         "name": "mse",
         "rawType": "float64",
         "type": "float"
        },
        {
         "name": "mape",
         "rawType": "float64",
         "type": "float"
        }
       ],
       "conversionMethod": "pd.DataFrame",
       "ref": "6f8e02fe-099f-4a1f-bb5a-927c810c1366",
       "rows": [
        [
         "0",
         "abalone",
         "LinearRegression",
         "0.5257129986217686",
         "1.5855497951399324",
         "4.906570926698415",
         "0.15979959911404337"
        ],
        [
         "1",
         "abalone",
         "RandomForest",
         "0.5357871029454124",
         "1.5516989599747872",
         "4.7993522291636825",
         "0.15492815499112159"
        ],
        [
         "2",
         "airfoil_self_noise",
         "LinearRegression",
         "0.5051373813082342",
         "3.754197844899668",
         "23.36428242172672",
         "0.03015719548505958"
        ],
        [
         "3",
         "airfoil_self_noise",
         "RandomForest",
         "0.9301481693857113",
         "1.2973157923809453",
         "3.3080892836891302",
         "0.010469810509065824"
        ]
       ],
       "shape": {
        "columns": 6,
        "rows": 4
       }
      },
      "text/html": [
       "<div>\n",
       "<style scoped>\n",
       "    .dataframe tbody tr th:only-of-type {\n",
       "        vertical-align: middle;\n",
       "    }\n",
       "\n",
       "    .dataframe tbody tr th {\n",
       "        vertical-align: top;\n",
       "    }\n",
       "\n",
       "    .dataframe thead th {\n",
       "        text-align: right;\n",
       "    }\n",
       "</style>\n",
       "<table border=\"1\" class=\"dataframe\">\n",
       "  <thead>\n",
       "    <tr style=\"text-align: right;\">\n",
       "      <th></th>\n",
       "      <th>dataset</th>\n",
       "      <th>model</th>\n",
       "      <th>r2</th>\n",
       "      <th>mae</th>\n",
       "      <th>mse</th>\n",
       "      <th>mape</th>\n",
       "    </tr>\n",
       "  </thead>\n",
       "  <tbody>\n",
       "    <tr>\n",
       "      <th>0</th>\n",
       "      <td>abalone</td>\n",
       "      <td>LinearRegression</td>\n",
       "      <td>0.525713</td>\n",
       "      <td>1.585550</td>\n",
       "      <td>4.906571</td>\n",
       "      <td>0.159800</td>\n",
       "    </tr>\n",
       "    <tr>\n",
       "      <th>1</th>\n",
       "      <td>abalone</td>\n",
       "      <td>RandomForest</td>\n",
       "      <td>0.535787</td>\n",
       "      <td>1.551699</td>\n",
       "      <td>4.799352</td>\n",
       "      <td>0.154928</td>\n",
       "    </tr>\n",
       "    <tr>\n",
       "      <th>2</th>\n",
       "      <td>airfoil_self_noise</td>\n",
       "      <td>LinearRegression</td>\n",
       "      <td>0.505137</td>\n",
       "      <td>3.754198</td>\n",
       "      <td>23.364282</td>\n",
       "      <td>0.030157</td>\n",
       "    </tr>\n",
       "    <tr>\n",
       "      <th>3</th>\n",
       "      <td>airfoil_self_noise</td>\n",
       "      <td>RandomForest</td>\n",
       "      <td>0.930148</td>\n",
       "      <td>1.297316</td>\n",
       "      <td>3.308089</td>\n",
       "      <td>0.010470</td>\n",
       "    </tr>\n",
       "  </tbody>\n",
       "</table>\n",
       "</div>"
      ],
      "text/plain": [
       "              dataset             model        r2       mae        mse  \\\n",
       "0             abalone  LinearRegression  0.525713  1.585550   4.906571   \n",
       "1             abalone      RandomForest  0.535787  1.551699   4.799352   \n",
       "2  airfoil_self_noise  LinearRegression  0.505137  3.754198  23.364282   \n",
       "3  airfoil_self_noise      RandomForest  0.930148  1.297316   3.308089   \n",
       "\n",
       "       mape  \n",
       "0  0.159800  \n",
       "1  0.154928  \n",
       "2  0.030157  \n",
       "3  0.010470  "
      ]
     },
     "metadata": {},
     "output_type": "display_data"
    }
   ],
   "source": [
    "# ---- Results summary ---------------------------------------------------------\n",
    "df_results = pd.DataFrame(results)\n",
    "display(df_results.head())"
   ]
  },
  {
   "cell_type": "markdown",
   "id": "3a40a5d6",
   "metadata": {},
   "source": [
    "## W&B Sweeps\n",
    "\n",
    "Optimize hyper‑parameters across **datasets** and **models** with a Bayesian sweep.\n"
   ]
  },
  {
   "cell_type": "code",
   "execution_count": 11,
   "id": "c7c23762",
   "metadata": {},
   "outputs": [
    {
     "name": "stdout",
     "output_type": "stream",
     "text": [
      "Create sweep with ID: d1ru4g8r\n",
      "Sweep URL: https://wandb.ai/spicecat-club/openml_regression_benchmark_2025/sweeps/d1ru4g8r\n"
     ]
    },
    {
     "name": "stderr",
     "output_type": "stream",
     "text": [
      "\u001b[34m\u001b[1mwandb\u001b[0m: Agent Starting Run: f0bxpfuv with config:\n",
      "\u001b[34m\u001b[1mwandb\u001b[0m: \tdataset_idx: 27\n",
      "\u001b[34m\u001b[1mwandb\u001b[0m: \tgb_lr: 0.05\n",
      "\u001b[34m\u001b[1mwandb\u001b[0m: \tgb_n_estimators: 100\n",
      "\u001b[34m\u001b[1mwandb\u001b[0m: \tmlp_layers: [64]\n",
      "\u001b[34m\u001b[1mwandb\u001b[0m: \tmlp_lr: 0.001\n",
      "\u001b[34m\u001b[1mwandb\u001b[0m: \tmlp_max_iter: 200\n",
      "\u001b[34m\u001b[1mwandb\u001b[0m: \tmodel: MLP\n",
      "\u001b[34m\u001b[1mwandb\u001b[0m: \trf_max_depth: None\n",
      "\u001b[34m\u001b[1mwandb\u001b[0m: \trf_n_estimators: 300\n"
     ]
    },
    {
     "data": {
      "text/html": [
       "Tracking run with wandb version 0.19.10"
      ],
      "text/plain": [
       "<IPython.core.display.HTML object>"
      ]
     },
     "metadata": {},
     "output_type": "display_data"
    },
    {
     "data": {
      "text/html": [
       "Run data is saved locally in <code>/home/ahteh/Developer/research/TreeMLP/wandb/run-20250424_184324-f0bxpfuv</code>"
      ],
      "text/plain": [
       "<IPython.core.display.HTML object>"
      ]
     },
     "metadata": {},
     "output_type": "display_data"
    },
    {
     "data": {
      "text/html": [
       "Syncing run <strong><a href='https://wandb.ai/spicecat-club/openml_regression_benchmark_2025/runs/f0bxpfuv' target=\"_blank\">colorful-sweep-1</a></strong> to <a href='https://wandb.ai/spicecat-club/openml_regression_benchmark_2025' target=\"_blank\">Weights & Biases</a> (<a href='https://wandb.me/developer-guide' target=\"_blank\">docs</a>)<br>Sweep page: <a href='https://wandb.ai/spicecat-club/openml_regression_benchmark_2025/sweeps/d1ru4g8r' target=\"_blank\">https://wandb.ai/spicecat-club/openml_regression_benchmark_2025/sweeps/d1ru4g8r</a>"
      ],
      "text/plain": [
       "<IPython.core.display.HTML object>"
      ]
     },
     "metadata": {},
     "output_type": "display_data"
    },
    {
     "data": {
      "text/html": [
       " View project at <a href='https://wandb.ai/spicecat-club/openml_regression_benchmark_2025' target=\"_blank\">https://wandb.ai/spicecat-club/openml_regression_benchmark_2025</a>"
      ],
      "text/plain": [
       "<IPython.core.display.HTML object>"
      ]
     },
     "metadata": {},
     "output_type": "display_data"
    },
    {
     "data": {
      "text/html": [
       " View sweep at <a href='https://wandb.ai/spicecat-club/openml_regression_benchmark_2025/sweeps/d1ru4g8r' target=\"_blank\">https://wandb.ai/spicecat-club/openml_regression_benchmark_2025/sweeps/d1ru4g8r</a>"
      ],
      "text/plain": [
       "<IPython.core.display.HTML object>"
      ]
     },
     "metadata": {},
     "output_type": "display_data"
    },
    {
     "data": {
      "text/html": [
       " View run at <a href='https://wandb.ai/spicecat-club/openml_regression_benchmark_2025/runs/f0bxpfuv' target=\"_blank\">https://wandb.ai/spicecat-club/openml_regression_benchmark_2025/runs/f0bxpfuv</a>"
      ],
      "text/plain": [
       "<IPython.core.display.HTML object>"
      ]
     },
     "metadata": {},
     "output_type": "display_data"
    },
    {
     "name": "stderr",
     "output_type": "stream",
     "text": [
      "/home/ahteh/Developer/research/.venv/lib/python3.13/site-packages/sklearn/neural_network/_multilayer_perceptron.py:691: ConvergenceWarning: Stochastic Optimizer: Maximum iterations (200) reached and the optimization hasn't converged yet.\n",
      "  warnings.warn(\n",
      "/home/ahteh/Developer/research/.venv/lib/python3.13/site-packages/sklearn/neural_network/_multilayer_perceptron.py:691: ConvergenceWarning: Stochastic Optimizer: Maximum iterations (200) reached and the optimization hasn't converged yet.\n",
      "  warnings.warn(\n",
      "/home/ahteh/Developer/research/.venv/lib/python3.13/site-packages/sklearn/neural_network/_multilayer_perceptron.py:691: ConvergenceWarning: Stochastic Optimizer: Maximum iterations (200) reached and the optimization hasn't converged yet.\n",
      "  warnings.warn(\n",
      "/home/ahteh/Developer/research/.venv/lib/python3.13/site-packages/sklearn/neural_network/_multilayer_perceptron.py:691: ConvergenceWarning: Stochastic Optimizer: Maximum iterations (200) reached and the optimization hasn't converged yet.\n",
      "  warnings.warn(\n",
      "/home/ahteh/Developer/research/.venv/lib/python3.13/site-packages/sklearn/neural_network/_multilayer_perceptron.py:691: ConvergenceWarning: Stochastic Optimizer: Maximum iterations (200) reached and the optimization hasn't converged yet.\n",
      "  warnings.warn(\n"
     ]
    },
    {
     "data": {
      "text/html": [],
      "text/plain": [
       "<IPython.core.display.HTML object>"
      ]
     },
     "metadata": {},
     "output_type": "display_data"
    },
    {
     "data": {
      "text/html": [
       "<br>    <style><br>        .wandb-row {<br>            display: flex;<br>            flex-direction: row;<br>            flex-wrap: wrap;<br>            justify-content: flex-start;<br>            width: 100%;<br>        }<br>        .wandb-col {<br>            display: flex;<br>            flex-direction: column;<br>            flex-basis: 100%;<br>            flex: 1;<br>            padding: 10px;<br>        }<br>    </style><br><div class=\"wandb-row\"><div class=\"wandb-col\"><h3>Run history:</h3><br/><table class=\"wandb\"><tr><td>mae</td><td>▁</td></tr><tr><td>mape</td><td>▁</td></tr><tr><td>mse</td><td>▁</td></tr><tr><td>r2</td><td>▁</td></tr></table><br/></div><div class=\"wandb-col\"><h3>Run summary:</h3><br/><table class=\"wandb\"><tr><td>mae</td><td>6510.55463</td></tr><tr><td>mape</td><td>2.38699</td></tr><tr><td>mse</td><td>176348532.11954</td></tr><tr><td>r2</td><td>0.53471</td></tr></table><br/></div></div>"
      ],
      "text/plain": [
       "<IPython.core.display.HTML object>"
      ]
     },
     "metadata": {},
     "output_type": "display_data"
    },
    {
     "data": {
      "text/html": [
       " View run <strong style=\"color:#cdcd00\">colorful-sweep-1</strong> at: <a href='https://wandb.ai/spicecat-club/openml_regression_benchmark_2025/runs/f0bxpfuv' target=\"_blank\">https://wandb.ai/spicecat-club/openml_regression_benchmark_2025/runs/f0bxpfuv</a><br> View project at: <a href='https://wandb.ai/spicecat-club/openml_regression_benchmark_2025' target=\"_blank\">https://wandb.ai/spicecat-club/openml_regression_benchmark_2025</a><br>Synced 5 W&B file(s), 0 media file(s), 0 artifact file(s) and 0 other file(s)"
      ],
      "text/plain": [
       "<IPython.core.display.HTML object>"
      ]
     },
     "metadata": {},
     "output_type": "display_data"
    },
    {
     "data": {
      "text/html": [
       "Find logs at: <code>./wandb/run-20250424_184324-f0bxpfuv/logs</code>"
      ],
      "text/plain": [
       "<IPython.core.display.HTML object>"
      ]
     },
     "metadata": {},
     "output_type": "display_data"
    },
    {
     "name": "stderr",
     "output_type": "stream",
     "text": [
      "\u001b[34m\u001b[1mwandb\u001b[0m: Agent Starting Run: o3yf9pae with config:\n",
      "\u001b[34m\u001b[1mwandb\u001b[0m: \tdataset_idx: 21\n",
      "\u001b[34m\u001b[1mwandb\u001b[0m: \tgb_lr: 0.1\n",
      "\u001b[34m\u001b[1mwandb\u001b[0m: \tgb_n_estimators: 100\n",
      "\u001b[34m\u001b[1mwandb\u001b[0m: \tmlp_layers: [64]\n",
      "\u001b[34m\u001b[1mwandb\u001b[0m: \tmlp_lr: 0.01\n",
      "\u001b[34m\u001b[1mwandb\u001b[0m: \tmlp_max_iter: 400\n",
      "\u001b[34m\u001b[1mwandb\u001b[0m: \tmodel: MLP\n",
      "\u001b[34m\u001b[1mwandb\u001b[0m: \trf_max_depth: 20\n",
      "\u001b[34m\u001b[1mwandb\u001b[0m: \trf_n_estimators: 100\n"
     ]
    },
    {
     "data": {
      "text/html": [
       "Tracking run with wandb version 0.19.10"
      ],
      "text/plain": [
       "<IPython.core.display.HTML object>"
      ]
     },
     "metadata": {},
     "output_type": "display_data"
    },
    {
     "data": {
      "text/html": [
       "Run data is saved locally in <code>/home/ahteh/Developer/research/TreeMLP/wandb/run-20250424_184355-o3yf9pae</code>"
      ],
      "text/plain": [
       "<IPython.core.display.HTML object>"
      ]
     },
     "metadata": {},
     "output_type": "display_data"
    },
    {
     "data": {
      "text/html": [
       "Syncing run <strong><a href='https://wandb.ai/spicecat-club/openml_regression_benchmark_2025/runs/o3yf9pae' target=\"_blank\">trim-sweep-2</a></strong> to <a href='https://wandb.ai/spicecat-club/openml_regression_benchmark_2025' target=\"_blank\">Weights & Biases</a> (<a href='https://wandb.me/developer-guide' target=\"_blank\">docs</a>)<br>Sweep page: <a href='https://wandb.ai/spicecat-club/openml_regression_benchmark_2025/sweeps/d1ru4g8r' target=\"_blank\">https://wandb.ai/spicecat-club/openml_regression_benchmark_2025/sweeps/d1ru4g8r</a>"
      ],
      "text/plain": [
       "<IPython.core.display.HTML object>"
      ]
     },
     "metadata": {},
     "output_type": "display_data"
    },
    {
     "data": {
      "text/html": [
       " View project at <a href='https://wandb.ai/spicecat-club/openml_regression_benchmark_2025' target=\"_blank\">https://wandb.ai/spicecat-club/openml_regression_benchmark_2025</a>"
      ],
      "text/plain": [
       "<IPython.core.display.HTML object>"
      ]
     },
     "metadata": {},
     "output_type": "display_data"
    },
    {
     "data": {
      "text/html": [
       " View sweep at <a href='https://wandb.ai/spicecat-club/openml_regression_benchmark_2025/sweeps/d1ru4g8r' target=\"_blank\">https://wandb.ai/spicecat-club/openml_regression_benchmark_2025/sweeps/d1ru4g8r</a>"
      ],
      "text/plain": [
       "<IPython.core.display.HTML object>"
      ]
     },
     "metadata": {},
     "output_type": "display_data"
    },
    {
     "data": {
      "text/html": [
       " View run at <a href='https://wandb.ai/spicecat-club/openml_regression_benchmark_2025/runs/o3yf9pae' target=\"_blank\">https://wandb.ai/spicecat-club/openml_regression_benchmark_2025/runs/o3yf9pae</a>"
      ],
      "text/plain": [
       "<IPython.core.display.HTML object>"
      ]
     },
     "metadata": {},
     "output_type": "display_data"
    },
    {
     "data": {
      "text/html": [],
      "text/plain": [
       "<IPython.core.display.HTML object>"
      ]
     },
     "metadata": {},
     "output_type": "display_data"
    },
    {
     "data": {
      "text/html": [
       "<br>    <style><br>        .wandb-row {<br>            display: flex;<br>            flex-direction: row;<br>            flex-wrap: wrap;<br>            justify-content: flex-start;<br>            width: 100%;<br>        }<br>        .wandb-col {<br>            display: flex;<br>            flex-direction: column;<br>            flex-basis: 100%;<br>            flex: 1;<br>            padding: 10px;<br>        }<br>    </style><br><div class=\"wandb-row\"><div class=\"wandb-col\"><h3>Run history:</h3><br/><table class=\"wandb\"><tr><td>mae</td><td>▁</td></tr><tr><td>mape</td><td>▁</td></tr><tr><td>mse</td><td>▁</td></tr><tr><td>r2</td><td>▁</td></tr></table><br/></div><div class=\"wandb-col\"><h3>Run summary:</h3><br/><table class=\"wandb\"><tr><td>mae</td><td>224.73346</td></tr><tr><td>mape</td><td>0.541</td></tr><tr><td>mse</td><td>146811.34733</td></tr><tr><td>r2</td><td>0.29409</td></tr></table><br/></div></div>"
      ],
      "text/plain": [
       "<IPython.core.display.HTML object>"
      ]
     },
     "metadata": {},
     "output_type": "display_data"
    },
    {
     "data": {
      "text/html": [
       " View run <strong style=\"color:#cdcd00\">trim-sweep-2</strong> at: <a href='https://wandb.ai/spicecat-club/openml_regression_benchmark_2025/runs/o3yf9pae' target=\"_blank\">https://wandb.ai/spicecat-club/openml_regression_benchmark_2025/runs/o3yf9pae</a><br> View project at: <a href='https://wandb.ai/spicecat-club/openml_regression_benchmark_2025' target=\"_blank\">https://wandb.ai/spicecat-club/openml_regression_benchmark_2025</a><br>Synced 5 W&B file(s), 0 media file(s), 0 artifact file(s) and 0 other file(s)"
      ],
      "text/plain": [
       "<IPython.core.display.HTML object>"
      ]
     },
     "metadata": {},
     "output_type": "display_data"
    },
    {
     "data": {
      "text/html": [
       "Find logs at: <code>./wandb/run-20250424_184355-o3yf9pae/logs</code>"
      ],
      "text/plain": [
       "<IPython.core.display.HTML object>"
      ]
     },
     "metadata": {},
     "output_type": "display_data"
    },
    {
     "name": "stderr",
     "output_type": "stream",
     "text": [
      "\u001b[34m\u001b[1mwandb\u001b[0m: Agent Starting Run: uj6ndq1l with config:\n",
      "\u001b[34m\u001b[1mwandb\u001b[0m: \tdataset_idx: 6\n",
      "\u001b[34m\u001b[1mwandb\u001b[0m: \tgb_lr: 0.05\n",
      "\u001b[34m\u001b[1mwandb\u001b[0m: \tgb_n_estimators: 300\n",
      "\u001b[34m\u001b[1mwandb\u001b[0m: \tmlp_layers: [64]\n",
      "\u001b[34m\u001b[1mwandb\u001b[0m: \tmlp_lr: 0.001\n",
      "\u001b[34m\u001b[1mwandb\u001b[0m: \tmlp_max_iter: 200\n",
      "\u001b[34m\u001b[1mwandb\u001b[0m: \tmodel: MLP\n",
      "\u001b[34m\u001b[1mwandb\u001b[0m: \trf_max_depth: None\n",
      "\u001b[34m\u001b[1mwandb\u001b[0m: \trf_n_estimators: 100\n"
     ]
    },
    {
     "data": {
      "text/html": [
       "Tracking run with wandb version 0.19.10"
      ],
      "text/plain": [
       "<IPython.core.display.HTML object>"
      ]
     },
     "metadata": {},
     "output_type": "display_data"
    },
    {
     "data": {
      "text/html": [
       "Run data is saved locally in <code>/home/ahteh/Developer/research/TreeMLP/wandb/run-20250424_184417-uj6ndq1l</code>"
      ],
      "text/plain": [
       "<IPython.core.display.HTML object>"
      ]
     },
     "metadata": {},
     "output_type": "display_data"
    },
    {
     "data": {
      "text/html": [
       "Syncing run <strong><a href='https://wandb.ai/spicecat-club/openml_regression_benchmark_2025/runs/uj6ndq1l' target=\"_blank\">fragrant-sweep-3</a></strong> to <a href='https://wandb.ai/spicecat-club/openml_regression_benchmark_2025' target=\"_blank\">Weights & Biases</a> (<a href='https://wandb.me/developer-guide' target=\"_blank\">docs</a>)<br>Sweep page: <a href='https://wandb.ai/spicecat-club/openml_regression_benchmark_2025/sweeps/d1ru4g8r' target=\"_blank\">https://wandb.ai/spicecat-club/openml_regression_benchmark_2025/sweeps/d1ru4g8r</a>"
      ],
      "text/plain": [
       "<IPython.core.display.HTML object>"
      ]
     },
     "metadata": {},
     "output_type": "display_data"
    },
    {
     "data": {
      "text/html": [
       " View project at <a href='https://wandb.ai/spicecat-club/openml_regression_benchmark_2025' target=\"_blank\">https://wandb.ai/spicecat-club/openml_regression_benchmark_2025</a>"
      ],
      "text/plain": [
       "<IPython.core.display.HTML object>"
      ]
     },
     "metadata": {},
     "output_type": "display_data"
    },
    {
     "data": {
      "text/html": [
       " View sweep at <a href='https://wandb.ai/spicecat-club/openml_regression_benchmark_2025/sweeps/d1ru4g8r' target=\"_blank\">https://wandb.ai/spicecat-club/openml_regression_benchmark_2025/sweeps/d1ru4g8r</a>"
      ],
      "text/plain": [
       "<IPython.core.display.HTML object>"
      ]
     },
     "metadata": {},
     "output_type": "display_data"
    },
    {
     "data": {
      "text/html": [
       " View run at <a href='https://wandb.ai/spicecat-club/openml_regression_benchmark_2025/runs/uj6ndq1l' target=\"_blank\">https://wandb.ai/spicecat-club/openml_regression_benchmark_2025/runs/uj6ndq1l</a>"
      ],
      "text/plain": [
       "<IPython.core.display.HTML object>"
      ]
     },
     "metadata": {},
     "output_type": "display_data"
    },
    {
     "name": "stderr",
     "output_type": "stream",
     "text": [
      "/home/ahteh/Developer/research/.venv/lib/python3.13/site-packages/sklearn/neural_network/_multilayer_perceptron.py:691: ConvergenceWarning: Stochastic Optimizer: Maximum iterations (200) reached and the optimization hasn't converged yet.\n",
      "  warnings.warn(\n",
      "/home/ahteh/Developer/research/.venv/lib/python3.13/site-packages/sklearn/neural_network/_multilayer_perceptron.py:691: ConvergenceWarning: Stochastic Optimizer: Maximum iterations (200) reached and the optimization hasn't converged yet.\n",
      "  warnings.warn(\n",
      "/home/ahteh/Developer/research/.venv/lib/python3.13/site-packages/sklearn/neural_network/_multilayer_perceptron.py:691: ConvergenceWarning: Stochastic Optimizer: Maximum iterations (200) reached and the optimization hasn't converged yet.\n",
      "  warnings.warn(\n",
      "/home/ahteh/Developer/research/.venv/lib/python3.13/site-packages/sklearn/neural_network/_multilayer_perceptron.py:691: ConvergenceWarning: Stochastic Optimizer: Maximum iterations (200) reached and the optimization hasn't converged yet.\n",
      "  warnings.warn(\n",
      "/home/ahteh/Developer/research/.venv/lib/python3.13/site-packages/sklearn/neural_network/_multilayer_perceptron.py:691: ConvergenceWarning: Stochastic Optimizer: Maximum iterations (200) reached and the optimization hasn't converged yet.\n",
      "  warnings.warn(\n"
     ]
    },
    {
     "data": {
      "text/html": [],
      "text/plain": [
       "<IPython.core.display.HTML object>"
      ]
     },
     "metadata": {},
     "output_type": "display_data"
    },
    {
     "data": {
      "text/html": [
       "<br>    <style><br>        .wandb-row {<br>            display: flex;<br>            flex-direction: row;<br>            flex-wrap: wrap;<br>            justify-content: flex-start;<br>            width: 100%;<br>        }<br>        .wandb-col {<br>            display: flex;<br>            flex-direction: column;<br>            flex-basis: 100%;<br>            flex: 1;<br>            padding: 10px;<br>        }<br>    </style><br><div class=\"wandb-row\"><div class=\"wandb-col\"><h3>Run history:</h3><br/><table class=\"wandb\"><tr><td>mae</td><td>▁</td></tr><tr><td>mape</td><td>▁</td></tr><tr><td>mse</td><td>▁</td></tr><tr><td>r2</td><td>▁</td></tr></table><br/></div><div class=\"wandb-col\"><h3>Run summary:</h3><br/><table class=\"wandb\"><tr><td>mae</td><td>12.54087</td></tr><tr><td>mape</td><td>1.09043</td></tr><tr><td>mse</td><td>276.5612</td></tr><tr><td>r2</td><td>0.1796</td></tr></table><br/></div></div>"
      ],
      "text/plain": [
       "<IPython.core.display.HTML object>"
      ]
     },
     "metadata": {},
     "output_type": "display_data"
    },
    {
     "data": {
      "text/html": [
       " View run <strong style=\"color:#cdcd00\">fragrant-sweep-3</strong> at: <a href='https://wandb.ai/spicecat-club/openml_regression_benchmark_2025/runs/uj6ndq1l' target=\"_blank\">https://wandb.ai/spicecat-club/openml_regression_benchmark_2025/runs/uj6ndq1l</a><br> View project at: <a href='https://wandb.ai/spicecat-club/openml_regression_benchmark_2025' target=\"_blank\">https://wandb.ai/spicecat-club/openml_regression_benchmark_2025</a><br>Synced 5 W&B file(s), 0 media file(s), 0 artifact file(s) and 0 other file(s)"
      ],
      "text/plain": [
       "<IPython.core.display.HTML object>"
      ]
     },
     "metadata": {},
     "output_type": "display_data"
    },
    {
     "data": {
      "text/html": [
       "Find logs at: <code>./wandb/run-20250424_184417-uj6ndq1l/logs</code>"
      ],
      "text/plain": [
       "<IPython.core.display.HTML object>"
      ]
     },
     "metadata": {},
     "output_type": "display_data"
    },
    {
     "name": "stderr",
     "output_type": "stream",
     "text": [
      "\u001b[34m\u001b[1mwandb\u001b[0m: Agent Starting Run: hih7usw1 with config:\n",
      "\u001b[34m\u001b[1mwandb\u001b[0m: \tdataset_idx: 16\n",
      "\u001b[34m\u001b[1mwandb\u001b[0m: \tgb_lr: 0.05\n",
      "\u001b[34m\u001b[1mwandb\u001b[0m: \tgb_n_estimators: 100\n",
      "\u001b[34m\u001b[1mwandb\u001b[0m: \tmlp_layers: [64]\n",
      "\u001b[34m\u001b[1mwandb\u001b[0m: \tmlp_lr: 0.01\n",
      "\u001b[34m\u001b[1mwandb\u001b[0m: \tmlp_max_iter: 200\n",
      "\u001b[34m\u001b[1mwandb\u001b[0m: \tmodel: MLP\n",
      "\u001b[34m\u001b[1mwandb\u001b[0m: \trf_max_depth: None\n",
      "\u001b[34m\u001b[1mwandb\u001b[0m: \trf_n_estimators: 500\n"
     ]
    },
    {
     "data": {
      "text/html": [
       "Tracking run with wandb version 0.19.10"
      ],
      "text/plain": [
       "<IPython.core.display.HTML object>"
      ]
     },
     "metadata": {},
     "output_type": "display_data"
    },
    {
     "data": {
      "text/html": [
       "Run data is saved locally in <code>/home/ahteh/Developer/research/TreeMLP/wandb/run-20250424_184422-hih7usw1</code>"
      ],
      "text/plain": [
       "<IPython.core.display.HTML object>"
      ]
     },
     "metadata": {},
     "output_type": "display_data"
    },
    {
     "data": {
      "text/html": [
       "Syncing run <strong><a href='https://wandb.ai/spicecat-club/openml_regression_benchmark_2025/runs/hih7usw1' target=\"_blank\">gentle-sweep-4</a></strong> to <a href='https://wandb.ai/spicecat-club/openml_regression_benchmark_2025' target=\"_blank\">Weights & Biases</a> (<a href='https://wandb.me/developer-guide' target=\"_blank\">docs</a>)<br>Sweep page: <a href='https://wandb.ai/spicecat-club/openml_regression_benchmark_2025/sweeps/d1ru4g8r' target=\"_blank\">https://wandb.ai/spicecat-club/openml_regression_benchmark_2025/sweeps/d1ru4g8r</a>"
      ],
      "text/plain": [
       "<IPython.core.display.HTML object>"
      ]
     },
     "metadata": {},
     "output_type": "display_data"
    },
    {
     "data": {
      "text/html": [
       " View project at <a href='https://wandb.ai/spicecat-club/openml_regression_benchmark_2025' target=\"_blank\">https://wandb.ai/spicecat-club/openml_regression_benchmark_2025</a>"
      ],
      "text/plain": [
       "<IPython.core.display.HTML object>"
      ]
     },
     "metadata": {},
     "output_type": "display_data"
    },
    {
     "data": {
      "text/html": [
       " View sweep at <a href='https://wandb.ai/spicecat-club/openml_regression_benchmark_2025/sweeps/d1ru4g8r' target=\"_blank\">https://wandb.ai/spicecat-club/openml_regression_benchmark_2025/sweeps/d1ru4g8r</a>"
      ],
      "text/plain": [
       "<IPython.core.display.HTML object>"
      ]
     },
     "metadata": {},
     "output_type": "display_data"
    },
    {
     "data": {
      "text/html": [
       " View run at <a href='https://wandb.ai/spicecat-club/openml_regression_benchmark_2025/runs/hih7usw1' target=\"_blank\">https://wandb.ai/spicecat-club/openml_regression_benchmark_2025/runs/hih7usw1</a>"
      ],
      "text/plain": [
       "<IPython.core.display.HTML object>"
      ]
     },
     "metadata": {},
     "output_type": "display_data"
    },
    {
     "data": {
      "text/html": [],
      "text/plain": [
       "<IPython.core.display.HTML object>"
      ]
     },
     "metadata": {},
     "output_type": "display_data"
    },
    {
     "data": {
      "text/html": [
       "<br>    <style><br>        .wandb-row {<br>            display: flex;<br>            flex-direction: row;<br>            flex-wrap: wrap;<br>            justify-content: flex-start;<br>            width: 100%;<br>        }<br>        .wandb-col {<br>            display: flex;<br>            flex-direction: column;<br>            flex-basis: 100%;<br>            flex: 1;<br>            padding: 10px;<br>        }<br>    </style><br><div class=\"wandb-row\"><div class=\"wandb-col\"><h3>Run history:</h3><br/><table class=\"wandb\"><tr><td>mae</td><td>▁</td></tr><tr><td>mape</td><td>▁</td></tr><tr><td>mse</td><td>▁</td></tr><tr><td>r2</td><td>▁</td></tr></table><br/></div><div class=\"wandb-col\"><h3>Run summary:</h3><br/><table class=\"wandb\"><tr><td>mae</td><td>1.98055</td></tr><tr><td>mape</td><td>356542061653898.8</td></tr><tr><td>mse</td><td>7.4747</td></tr><tr><td>r2</td><td>0.97771</td></tr></table><br/></div></div>"
      ],
      "text/plain": [
       "<IPython.core.display.HTML object>"
      ]
     },
     "metadata": {},
     "output_type": "display_data"
    },
    {
     "data": {
      "text/html": [
       " View run <strong style=\"color:#cdcd00\">gentle-sweep-4</strong> at: <a href='https://wandb.ai/spicecat-club/openml_regression_benchmark_2025/runs/hih7usw1' target=\"_blank\">https://wandb.ai/spicecat-club/openml_regression_benchmark_2025/runs/hih7usw1</a><br> View project at: <a href='https://wandb.ai/spicecat-club/openml_regression_benchmark_2025' target=\"_blank\">https://wandb.ai/spicecat-club/openml_regression_benchmark_2025</a><br>Synced 5 W&B file(s), 0 media file(s), 0 artifact file(s) and 0 other file(s)"
      ],
      "text/plain": [
       "<IPython.core.display.HTML object>"
      ]
     },
     "metadata": {},
     "output_type": "display_data"
    },
    {
     "data": {
      "text/html": [
       "Find logs at: <code>./wandb/run-20250424_184422-hih7usw1/logs</code>"
      ],
      "text/plain": [
       "<IPython.core.display.HTML object>"
      ]
     },
     "metadata": {},
     "output_type": "display_data"
    },
    {
     "name": "stderr",
     "output_type": "stream",
     "text": [
      "\u001b[34m\u001b[1mwandb\u001b[0m: Agent Starting Run: feumdrbz with config:\n",
      "\u001b[34m\u001b[1mwandb\u001b[0m: \tdataset_idx: 22\n",
      "\u001b[34m\u001b[1mwandb\u001b[0m: \tgb_lr: 0.2\n",
      "\u001b[34m\u001b[1mwandb\u001b[0m: \tgb_n_estimators: 100\n",
      "\u001b[34m\u001b[1mwandb\u001b[0m: \tmlp_layers: [64]\n",
      "\u001b[34m\u001b[1mwandb\u001b[0m: \tmlp_lr: 0.001\n",
      "\u001b[34m\u001b[1mwandb\u001b[0m: \tmlp_max_iter: 200\n",
      "\u001b[34m\u001b[1mwandb\u001b[0m: \tmodel: MLP\n",
      "\u001b[34m\u001b[1mwandb\u001b[0m: \trf_max_depth: 20\n",
      "\u001b[34m\u001b[1mwandb\u001b[0m: \trf_n_estimators: 500\n"
     ]
    },
    {
     "data": {
      "text/html": [
       "Tracking run with wandb version 0.19.10"
      ],
      "text/plain": [
       "<IPython.core.display.HTML object>"
      ]
     },
     "metadata": {},
     "output_type": "display_data"
    },
    {
     "data": {
      "text/html": [
       "Run data is saved locally in <code>/home/ahteh/Developer/research/TreeMLP/wandb/run-20250424_184433-feumdrbz</code>"
      ],
      "text/plain": [
       "<IPython.core.display.HTML object>"
      ]
     },
     "metadata": {},
     "output_type": "display_data"
    },
    {
     "data": {
      "text/html": [
       "Syncing run <strong><a href='https://wandb.ai/spicecat-club/openml_regression_benchmark_2025/runs/feumdrbz' target=\"_blank\">fragrant-sweep-5</a></strong> to <a href='https://wandb.ai/spicecat-club/openml_regression_benchmark_2025' target=\"_blank\">Weights & Biases</a> (<a href='https://wandb.me/developer-guide' target=\"_blank\">docs</a>)<br>Sweep page: <a href='https://wandb.ai/spicecat-club/openml_regression_benchmark_2025/sweeps/d1ru4g8r' target=\"_blank\">https://wandb.ai/spicecat-club/openml_regression_benchmark_2025/sweeps/d1ru4g8r</a>"
      ],
      "text/plain": [
       "<IPython.core.display.HTML object>"
      ]
     },
     "metadata": {},
     "output_type": "display_data"
    },
    {
     "data": {
      "text/html": [
       " View project at <a href='https://wandb.ai/spicecat-club/openml_regression_benchmark_2025' target=\"_blank\">https://wandb.ai/spicecat-club/openml_regression_benchmark_2025</a>"
      ],
      "text/plain": [
       "<IPython.core.display.HTML object>"
      ]
     },
     "metadata": {},
     "output_type": "display_data"
    },
    {
     "data": {
      "text/html": [
       " View sweep at <a href='https://wandb.ai/spicecat-club/openml_regression_benchmark_2025/sweeps/d1ru4g8r' target=\"_blank\">https://wandb.ai/spicecat-club/openml_regression_benchmark_2025/sweeps/d1ru4g8r</a>"
      ],
      "text/plain": [
       "<IPython.core.display.HTML object>"
      ]
     },
     "metadata": {},
     "output_type": "display_data"
    },
    {
     "data": {
      "text/html": [
       " View run at <a href='https://wandb.ai/spicecat-club/openml_regression_benchmark_2025/runs/feumdrbz' target=\"_blank\">https://wandb.ai/spicecat-club/openml_regression_benchmark_2025/runs/feumdrbz</a>"
      ],
      "text/plain": [
       "<IPython.core.display.HTML object>"
      ]
     },
     "metadata": {},
     "output_type": "display_data"
    },
    {
     "name": "stderr",
     "output_type": "stream",
     "text": [
      "/home/ahteh/Developer/research/.venv/lib/python3.13/site-packages/sklearn/neural_network/_multilayer_perceptron.py:691: ConvergenceWarning: Stochastic Optimizer: Maximum iterations (200) reached and the optimization hasn't converged yet.\n",
      "  warnings.warn(\n",
      "/home/ahteh/Developer/research/.venv/lib/python3.13/site-packages/sklearn/neural_network/_multilayer_perceptron.py:691: ConvergenceWarning: Stochastic Optimizer: Maximum iterations (200) reached and the optimization hasn't converged yet.\n",
      "  warnings.warn(\n",
      "/home/ahteh/Developer/research/.venv/lib/python3.13/site-packages/sklearn/neural_network/_multilayer_perceptron.py:691: ConvergenceWarning: Stochastic Optimizer: Maximum iterations (200) reached and the optimization hasn't converged yet.\n",
      "  warnings.warn(\n",
      "/home/ahteh/Developer/research/.venv/lib/python3.13/site-packages/sklearn/neural_network/_multilayer_perceptron.py:691: ConvergenceWarning: Stochastic Optimizer: Maximum iterations (200) reached and the optimization hasn't converged yet.\n",
      "  warnings.warn(\n",
      "/home/ahteh/Developer/research/.venv/lib/python3.13/site-packages/sklearn/neural_network/_multilayer_perceptron.py:691: ConvergenceWarning: Stochastic Optimizer: Maximum iterations (200) reached and the optimization hasn't converged yet.\n",
      "  warnings.warn(\n"
     ]
    },
    {
     "data": {
      "text/html": [],
      "text/plain": [
       "<IPython.core.display.HTML object>"
      ]
     },
     "metadata": {},
     "output_type": "display_data"
    },
    {
     "data": {
      "text/html": [
       "<br>    <style><br>        .wandb-row {<br>            display: flex;<br>            flex-direction: row;<br>            flex-wrap: wrap;<br>            justify-content: flex-start;<br>            width: 100%;<br>        }<br>        .wandb-col {<br>            display: flex;<br>            flex-direction: column;<br>            flex-basis: 100%;<br>            flex: 1;<br>            padding: 10px;<br>        }<br>    </style><br><div class=\"wandb-row\"><div class=\"wandb-col\"><h3>Run history:</h3><br/><table class=\"wandb\"><tr><td>mae</td><td>▁</td></tr><tr><td>mape</td><td>▁</td></tr><tr><td>mse</td><td>▁</td></tr><tr><td>r2</td><td>▁</td></tr></table><br/></div><div class=\"wandb-col\"><h3>Run summary:</h3><br/><table class=\"wandb\"><tr><td>mae</td><td>8.83217</td></tr><tr><td>mape</td><td>2921369361258947.0</td></tr><tr><td>mse</td><td>416.34922</td></tr><tr><td>r2</td><td>0.76814</td></tr></table><br/></div></div>"
      ],
      "text/plain": [
       "<IPython.core.display.HTML object>"
      ]
     },
     "metadata": {},
     "output_type": "display_data"
    },
    {
     "data": {
      "text/html": [
       " View run <strong style=\"color:#cdcd00\">fragrant-sweep-5</strong> at: <a href='https://wandb.ai/spicecat-club/openml_regression_benchmark_2025/runs/feumdrbz' target=\"_blank\">https://wandb.ai/spicecat-club/openml_regression_benchmark_2025/runs/feumdrbz</a><br> View project at: <a href='https://wandb.ai/spicecat-club/openml_regression_benchmark_2025' target=\"_blank\">https://wandb.ai/spicecat-club/openml_regression_benchmark_2025</a><br>Synced 5 W&B file(s), 0 media file(s), 0 artifact file(s) and 0 other file(s)"
      ],
      "text/plain": [
       "<IPython.core.display.HTML object>"
      ]
     },
     "metadata": {},
     "output_type": "display_data"
    },
    {
     "data": {
      "text/html": [
       "Find logs at: <code>./wandb/run-20250424_184433-feumdrbz/logs</code>"
      ],
      "text/plain": [
       "<IPython.core.display.HTML object>"
      ]
     },
     "metadata": {},
     "output_type": "display_data"
    },
    {
     "name": "stderr",
     "output_type": "stream",
     "text": [
      "\u001b[34m\u001b[1mwandb\u001b[0m: Agent Starting Run: 01sk3oad with config:\n",
      "\u001b[34m\u001b[1mwandb\u001b[0m: \tdataset_idx: 22\n",
      "\u001b[34m\u001b[1mwandb\u001b[0m: \tgb_lr: 0.1\n",
      "\u001b[34m\u001b[1mwandb\u001b[0m: \tgb_n_estimators: 100\n",
      "\u001b[34m\u001b[1mwandb\u001b[0m: \tmlp_layers: [64]\n",
      "\u001b[34m\u001b[1mwandb\u001b[0m: \tmlp_lr: 0.01\n",
      "\u001b[34m\u001b[1mwandb\u001b[0m: \tmlp_max_iter: 200\n",
      "\u001b[34m\u001b[1mwandb\u001b[0m: \tmodel: MLP\n",
      "\u001b[34m\u001b[1mwandb\u001b[0m: \trf_max_depth: 10\n",
      "\u001b[34m\u001b[1mwandb\u001b[0m: \trf_n_estimators: 100\n"
     ]
    },
    {
     "data": {
      "text/html": [
       "Tracking run with wandb version 0.19.10"
      ],
      "text/plain": [
       "<IPython.core.display.HTML object>"
      ]
     },
     "metadata": {},
     "output_type": "display_data"
    },
    {
     "data": {
      "text/html": [
       "Run data is saved locally in <code>/home/ahteh/Developer/research/TreeMLP/wandb/run-20250424_184438-01sk3oad</code>"
      ],
      "text/plain": [
       "<IPython.core.display.HTML object>"
      ]
     },
     "metadata": {},
     "output_type": "display_data"
    },
    {
     "data": {
      "text/html": [
       "Syncing run <strong><a href='https://wandb.ai/spicecat-club/openml_regression_benchmark_2025/runs/01sk3oad' target=\"_blank\">autumn-sweep-6</a></strong> to <a href='https://wandb.ai/spicecat-club/openml_regression_benchmark_2025' target=\"_blank\">Weights & Biases</a> (<a href='https://wandb.me/developer-guide' target=\"_blank\">docs</a>)<br>Sweep page: <a href='https://wandb.ai/spicecat-club/openml_regression_benchmark_2025/sweeps/d1ru4g8r' target=\"_blank\">https://wandb.ai/spicecat-club/openml_regression_benchmark_2025/sweeps/d1ru4g8r</a>"
      ],
      "text/plain": [
       "<IPython.core.display.HTML object>"
      ]
     },
     "metadata": {},
     "output_type": "display_data"
    },
    {
     "data": {
      "text/html": [
       " View project at <a href='https://wandb.ai/spicecat-club/openml_regression_benchmark_2025' target=\"_blank\">https://wandb.ai/spicecat-club/openml_regression_benchmark_2025</a>"
      ],
      "text/plain": [
       "<IPython.core.display.HTML object>"
      ]
     },
     "metadata": {},
     "output_type": "display_data"
    },
    {
     "data": {
      "text/html": [
       " View sweep at <a href='https://wandb.ai/spicecat-club/openml_regression_benchmark_2025/sweeps/d1ru4g8r' target=\"_blank\">https://wandb.ai/spicecat-club/openml_regression_benchmark_2025/sweeps/d1ru4g8r</a>"
      ],
      "text/plain": [
       "<IPython.core.display.HTML object>"
      ]
     },
     "metadata": {},
     "output_type": "display_data"
    },
    {
     "data": {
      "text/html": [
       " View run at <a href='https://wandb.ai/spicecat-club/openml_regression_benchmark_2025/runs/01sk3oad' target=\"_blank\">https://wandb.ai/spicecat-club/openml_regression_benchmark_2025/runs/01sk3oad</a>"
      ],
      "text/plain": [
       "<IPython.core.display.HTML object>"
      ]
     },
     "metadata": {},
     "output_type": "display_data"
    },
    {
     "name": "stderr",
     "output_type": "stream",
     "text": [
      "/home/ahteh/Developer/research/.venv/lib/python3.13/site-packages/sklearn/neural_network/_multilayer_perceptron.py:691: ConvergenceWarning: Stochastic Optimizer: Maximum iterations (200) reached and the optimization hasn't converged yet.\n",
      "  warnings.warn(\n",
      "/home/ahteh/Developer/research/.venv/lib/python3.13/site-packages/sklearn/neural_network/_multilayer_perceptron.py:691: ConvergenceWarning: Stochastic Optimizer: Maximum iterations (200) reached and the optimization hasn't converged yet.\n",
      "  warnings.warn(\n",
      "/home/ahteh/Developer/research/.venv/lib/python3.13/site-packages/sklearn/neural_network/_multilayer_perceptron.py:691: ConvergenceWarning: Stochastic Optimizer: Maximum iterations (200) reached and the optimization hasn't converged yet.\n",
      "  warnings.warn(\n",
      "/home/ahteh/Developer/research/.venv/lib/python3.13/site-packages/sklearn/neural_network/_multilayer_perceptron.py:691: ConvergenceWarning: Stochastic Optimizer: Maximum iterations (200) reached and the optimization hasn't converged yet.\n",
      "  warnings.warn(\n",
      "/home/ahteh/Developer/research/.venv/lib/python3.13/site-packages/sklearn/neural_network/_multilayer_perceptron.py:691: ConvergenceWarning: Stochastic Optimizer: Maximum iterations (200) reached and the optimization hasn't converged yet.\n",
      "  warnings.warn(\n"
     ]
    },
    {
     "data": {
      "text/html": [],
      "text/plain": [
       "<IPython.core.display.HTML object>"
      ]
     },
     "metadata": {},
     "output_type": "display_data"
    },
    {
     "data": {
      "text/html": [
       "<br>    <style><br>        .wandb-row {<br>            display: flex;<br>            flex-direction: row;<br>            flex-wrap: wrap;<br>            justify-content: flex-start;<br>            width: 100%;<br>        }<br>        .wandb-col {<br>            display: flex;<br>            flex-direction: column;<br>            flex-basis: 100%;<br>            flex: 1;<br>            padding: 10px;<br>        }<br>    </style><br><div class=\"wandb-row\"><div class=\"wandb-col\"><h3>Run history:</h3><br/><table class=\"wandb\"><tr><td>mae</td><td>▁</td></tr><tr><td>mape</td><td>▁</td></tr><tr><td>mse</td><td>▁</td></tr><tr><td>r2</td><td>▁</td></tr></table><br/></div><div class=\"wandb-col\"><h3>Run summary:</h3><br/><table class=\"wandb\"><tr><td>mae</td><td>5.72077</td></tr><tr><td>mape</td><td>1480457647596168.2</td></tr><tr><td>mse</td><td>318.79148</td></tr><tr><td>r2</td><td>0.82716</td></tr></table><br/></div></div>"
      ],
      "text/plain": [
       "<IPython.core.display.HTML object>"
      ]
     },
     "metadata": {},
     "output_type": "display_data"
    },
    {
     "data": {
      "text/html": [
       " View run <strong style=\"color:#cdcd00\">autumn-sweep-6</strong> at: <a href='https://wandb.ai/spicecat-club/openml_regression_benchmark_2025/runs/01sk3oad' target=\"_blank\">https://wandb.ai/spicecat-club/openml_regression_benchmark_2025/runs/01sk3oad</a><br> View project at: <a href='https://wandb.ai/spicecat-club/openml_regression_benchmark_2025' target=\"_blank\">https://wandb.ai/spicecat-club/openml_regression_benchmark_2025</a><br>Synced 5 W&B file(s), 0 media file(s), 0 artifact file(s) and 0 other file(s)"
      ],
      "text/plain": [
       "<IPython.core.display.HTML object>"
      ]
     },
     "metadata": {},
     "output_type": "display_data"
    },
    {
     "data": {
      "text/html": [
       "Find logs at: <code>./wandb/run-20250424_184438-01sk3oad/logs</code>"
      ],
      "text/plain": [
       "<IPython.core.display.HTML object>"
      ]
     },
     "metadata": {},
     "output_type": "display_data"
    },
    {
     "name": "stderr",
     "output_type": "stream",
     "text": [
      "\u001b[34m\u001b[1mwandb\u001b[0m: Agent Starting Run: mg5ejl7v with config:\n",
      "\u001b[34m\u001b[1mwandb\u001b[0m: \tdataset_idx: 19\n",
      "\u001b[34m\u001b[1mwandb\u001b[0m: \tgb_lr: 0.05\n",
      "\u001b[34m\u001b[1mwandb\u001b[0m: \tgb_n_estimators: 300\n",
      "\u001b[34m\u001b[1mwandb\u001b[0m: \tmlp_layers: [64]\n",
      "\u001b[34m\u001b[1mwandb\u001b[0m: \tmlp_lr: 0.001\n",
      "\u001b[34m\u001b[1mwandb\u001b[0m: \tmlp_max_iter: 400\n",
      "\u001b[34m\u001b[1mwandb\u001b[0m: \tmodel: MLP\n",
      "\u001b[34m\u001b[1mwandb\u001b[0m: \trf_max_depth: None\n",
      "\u001b[34m\u001b[1mwandb\u001b[0m: \trf_n_estimators: 500\n"
     ]
    },
    {
     "data": {
      "text/html": [
       "Tracking run with wandb version 0.19.10"
      ],
      "text/plain": [
       "<IPython.core.display.HTML object>"
      ]
     },
     "metadata": {},
     "output_type": "display_data"
    },
    {
     "data": {
      "text/html": [
       "Run data is saved locally in <code>/home/ahteh/Developer/research/TreeMLP/wandb/run-20250424_184443-mg5ejl7v</code>"
      ],
      "text/plain": [
       "<IPython.core.display.HTML object>"
      ]
     },
     "metadata": {},
     "output_type": "display_data"
    },
    {
     "data": {
      "text/html": [
       "Syncing run <strong><a href='https://wandb.ai/spicecat-club/openml_regression_benchmark_2025/runs/mg5ejl7v' target=\"_blank\">warm-sweep-7</a></strong> to <a href='https://wandb.ai/spicecat-club/openml_regression_benchmark_2025' target=\"_blank\">Weights & Biases</a> (<a href='https://wandb.me/developer-guide' target=\"_blank\">docs</a>)<br>Sweep page: <a href='https://wandb.ai/spicecat-club/openml_regression_benchmark_2025/sweeps/d1ru4g8r' target=\"_blank\">https://wandb.ai/spicecat-club/openml_regression_benchmark_2025/sweeps/d1ru4g8r</a>"
      ],
      "text/plain": [
       "<IPython.core.display.HTML object>"
      ]
     },
     "metadata": {},
     "output_type": "display_data"
    },
    {
     "data": {
      "text/html": [
       " View project at <a href='https://wandb.ai/spicecat-club/openml_regression_benchmark_2025' target=\"_blank\">https://wandb.ai/spicecat-club/openml_regression_benchmark_2025</a>"
      ],
      "text/plain": [
       "<IPython.core.display.HTML object>"
      ]
     },
     "metadata": {},
     "output_type": "display_data"
    },
    {
     "data": {
      "text/html": [
       " View sweep at <a href='https://wandb.ai/spicecat-club/openml_regression_benchmark_2025/sweeps/d1ru4g8r' target=\"_blank\">https://wandb.ai/spicecat-club/openml_regression_benchmark_2025/sweeps/d1ru4g8r</a>"
      ],
      "text/plain": [
       "<IPython.core.display.HTML object>"
      ]
     },
     "metadata": {},
     "output_type": "display_data"
    },
    {
     "data": {
      "text/html": [
       " View run at <a href='https://wandb.ai/spicecat-club/openml_regression_benchmark_2025/runs/mg5ejl7v' target=\"_blank\">https://wandb.ai/spicecat-club/openml_regression_benchmark_2025/runs/mg5ejl7v</a>"
      ],
      "text/plain": [
       "<IPython.core.display.HTML object>"
      ]
     },
     "metadata": {},
     "output_type": "display_data"
    },
    {
     "data": {
      "text/html": [],
      "text/plain": [
       "<IPython.core.display.HTML object>"
      ]
     },
     "metadata": {},
     "output_type": "display_data"
    },
    {
     "data": {
      "text/html": [
       "<br>    <style><br>        .wandb-row {<br>            display: flex;<br>            flex-direction: row;<br>            flex-wrap: wrap;<br>            justify-content: flex-start;<br>            width: 100%;<br>        }<br>        .wandb-col {<br>            display: flex;<br>            flex-direction: column;<br>            flex-basis: 100%;<br>            flex: 1;<br>            padding: 10px;<br>        }<br>    </style><br><div class=\"wandb-row\"><div class=\"wandb-col\"><h3>Run history:</h3><br/><table class=\"wandb\"><tr><td>mae</td><td>▁</td></tr><tr><td>mape</td><td>▁</td></tr><tr><td>mse</td><td>▁</td></tr><tr><td>r2</td><td>▁</td></tr></table><br/></div><div class=\"wandb-col\"><h3>Run summary:</h3><br/><table class=\"wandb\"><tr><td>mae</td><td>0.04525</td></tr><tr><td>mape</td><td>14.63226</td></tr><tr><td>mse</td><td>0.00324</td></tr><tr><td>r2</td><td>-1.50484</td></tr></table><br/></div></div>"
      ],
      "text/plain": [
       "<IPython.core.display.HTML object>"
      ]
     },
     "metadata": {},
     "output_type": "display_data"
    },
    {
     "data": {
      "text/html": [
       " View run <strong style=\"color:#cdcd00\">warm-sweep-7</strong> at: <a href='https://wandb.ai/spicecat-club/openml_regression_benchmark_2025/runs/mg5ejl7v' target=\"_blank\">https://wandb.ai/spicecat-club/openml_regression_benchmark_2025/runs/mg5ejl7v</a><br> View project at: <a href='https://wandb.ai/spicecat-club/openml_regression_benchmark_2025' target=\"_blank\">https://wandb.ai/spicecat-club/openml_regression_benchmark_2025</a><br>Synced 5 W&B file(s), 0 media file(s), 0 artifact file(s) and 0 other file(s)"
      ],
      "text/plain": [
       "<IPython.core.display.HTML object>"
      ]
     },
     "metadata": {},
     "output_type": "display_data"
    },
    {
     "data": {
      "text/html": [
       "Find logs at: <code>./wandb/run-20250424_184443-mg5ejl7v/logs</code>"
      ],
      "text/plain": [
       "<IPython.core.display.HTML object>"
      ]
     },
     "metadata": {},
     "output_type": "display_data"
    },
    {
     "name": "stderr",
     "output_type": "stream",
     "text": [
      "\u001b[34m\u001b[1mwandb\u001b[0m: Agent Starting Run: brd0hffe with config:\n",
      "\u001b[34m\u001b[1mwandb\u001b[0m: \tdataset_idx: 33\n",
      "\u001b[34m\u001b[1mwandb\u001b[0m: \tgb_lr: 0.05\n",
      "\u001b[34m\u001b[1mwandb\u001b[0m: \tgb_n_estimators: 300\n",
      "\u001b[34m\u001b[1mwandb\u001b[0m: \tmlp_layers: [64]\n",
      "\u001b[34m\u001b[1mwandb\u001b[0m: \tmlp_lr: 0.01\n",
      "\u001b[34m\u001b[1mwandb\u001b[0m: \tmlp_max_iter: 400\n",
      "\u001b[34m\u001b[1mwandb\u001b[0m: \tmodel: RandomForest\n",
      "\u001b[34m\u001b[1mwandb\u001b[0m: \trf_max_depth: 20\n",
      "\u001b[34m\u001b[1mwandb\u001b[0m: \trf_n_estimators: 300\n"
     ]
    },
    {
     "data": {
      "text/html": [
       "Tracking run with wandb version 0.19.10"
      ],
      "text/plain": [
       "<IPython.core.display.HTML object>"
      ]
     },
     "metadata": {},
     "output_type": "display_data"
    },
    {
     "data": {
      "text/html": [
       "Run data is saved locally in <code>/home/ahteh/Developer/research/TreeMLP/wandb/run-20250424_184448-brd0hffe</code>"
      ],
      "text/plain": [
       "<IPython.core.display.HTML object>"
      ]
     },
     "metadata": {},
     "output_type": "display_data"
    },
    {
     "data": {
      "text/html": [
       "Syncing run <strong><a href='https://wandb.ai/spicecat-club/openml_regression_benchmark_2025/runs/brd0hffe' target=\"_blank\">deep-sweep-8</a></strong> to <a href='https://wandb.ai/spicecat-club/openml_regression_benchmark_2025' target=\"_blank\">Weights & Biases</a> (<a href='https://wandb.me/developer-guide' target=\"_blank\">docs</a>)<br>Sweep page: <a href='https://wandb.ai/spicecat-club/openml_regression_benchmark_2025/sweeps/d1ru4g8r' target=\"_blank\">https://wandb.ai/spicecat-club/openml_regression_benchmark_2025/sweeps/d1ru4g8r</a>"
      ],
      "text/plain": [
       "<IPython.core.display.HTML object>"
      ]
     },
     "metadata": {},
     "output_type": "display_data"
    },
    {
     "data": {
      "text/html": [
       " View project at <a href='https://wandb.ai/spicecat-club/openml_regression_benchmark_2025' target=\"_blank\">https://wandb.ai/spicecat-club/openml_regression_benchmark_2025</a>"
      ],
      "text/plain": [
       "<IPython.core.display.HTML object>"
      ]
     },
     "metadata": {},
     "output_type": "display_data"
    },
    {
     "data": {
      "text/html": [
       " View sweep at <a href='https://wandb.ai/spicecat-club/openml_regression_benchmark_2025/sweeps/d1ru4g8r' target=\"_blank\">https://wandb.ai/spicecat-club/openml_regression_benchmark_2025/sweeps/d1ru4g8r</a>"
      ],
      "text/plain": [
       "<IPython.core.display.HTML object>"
      ]
     },
     "metadata": {},
     "output_type": "display_data"
    },
    {
     "data": {
      "text/html": [
       " View run at <a href='https://wandb.ai/spicecat-club/openml_regression_benchmark_2025/runs/brd0hffe' target=\"_blank\">https://wandb.ai/spicecat-club/openml_regression_benchmark_2025/runs/brd0hffe</a>"
      ],
      "text/plain": [
       "<IPython.core.display.HTML object>"
      ]
     },
     "metadata": {},
     "output_type": "display_data"
    },
    {
     "data": {
      "text/html": [],
      "text/plain": [
       "<IPython.core.display.HTML object>"
      ]
     },
     "metadata": {},
     "output_type": "display_data"
    },
    {
     "data": {
      "text/html": [
       "<br>    <style><br>        .wandb-row {<br>            display: flex;<br>            flex-direction: row;<br>            flex-wrap: wrap;<br>            justify-content: flex-start;<br>            width: 100%;<br>        }<br>        .wandb-col {<br>            display: flex;<br>            flex-direction: column;<br>            flex-basis: 100%;<br>            flex: 1;<br>            padding: 10px;<br>        }<br>    </style><br><div class=\"wandb-row\"><div class=\"wandb-col\"><h3>Run history:</h3><br/><table class=\"wandb\"><tr><td>mae</td><td>▁</td></tr><tr><td>mape</td><td>▁</td></tr><tr><td>mse</td><td>▁</td></tr><tr><td>r2</td><td>▁</td></tr></table><br/></div><div class=\"wandb-col\"><h3>Run summary:</h3><br/><table class=\"wandb\"><tr><td>mae</td><td>1563.7427</td></tr><tr><td>mape</td><td>0.07395</td></tr><tr><td>mse</td><td>5180635.6179</td></tr><tr><td>r2</td><td>0.94473</td></tr></table><br/></div></div>"
      ],
      "text/plain": [
       "<IPython.core.display.HTML object>"
      ]
     },
     "metadata": {},
     "output_type": "display_data"
    },
    {
     "data": {
      "text/html": [
       " View run <strong style=\"color:#cdcd00\">deep-sweep-8</strong> at: <a href='https://wandb.ai/spicecat-club/openml_regression_benchmark_2025/runs/brd0hffe' target=\"_blank\">https://wandb.ai/spicecat-club/openml_regression_benchmark_2025/runs/brd0hffe</a><br> View project at: <a href='https://wandb.ai/spicecat-club/openml_regression_benchmark_2025' target=\"_blank\">https://wandb.ai/spicecat-club/openml_regression_benchmark_2025</a><br>Synced 5 W&B file(s), 0 media file(s), 0 artifact file(s) and 0 other file(s)"
      ],
      "text/plain": [
       "<IPython.core.display.HTML object>"
      ]
     },
     "metadata": {},
     "output_type": "display_data"
    },
    {
     "data": {
      "text/html": [
       "Find logs at: <code>./wandb/run-20250424_184448-brd0hffe/logs</code>"
      ],
      "text/plain": [
       "<IPython.core.display.HTML object>"
      ]
     },
     "metadata": {},
     "output_type": "display_data"
    },
    {
     "name": "stderr",
     "output_type": "stream",
     "text": [
      "\u001b[34m\u001b[1mwandb\u001b[0m: Agent Starting Run: c9eb1n0d with config:\n",
      "\u001b[34m\u001b[1mwandb\u001b[0m: \tdataset_idx: 33\n",
      "\u001b[34m\u001b[1mwandb\u001b[0m: \tgb_lr: 0.05\n",
      "\u001b[34m\u001b[1mwandb\u001b[0m: \tgb_n_estimators: 100\n",
      "\u001b[34m\u001b[1mwandb\u001b[0m: \tmlp_layers: [128, 64]\n",
      "\u001b[34m\u001b[1mwandb\u001b[0m: \tmlp_lr: 0.001\n",
      "\u001b[34m\u001b[1mwandb\u001b[0m: \tmlp_max_iter: 400\n",
      "\u001b[34m\u001b[1mwandb\u001b[0m: \tmodel: RandomForest\n",
      "\u001b[34m\u001b[1mwandb\u001b[0m: \trf_max_depth: 10\n",
      "\u001b[34m\u001b[1mwandb\u001b[0m: \trf_n_estimators: 100\n"
     ]
    },
    {
     "data": {
      "text/html": [
       "Tracking run with wandb version 0.19.10"
      ],
      "text/plain": [
       "<IPython.core.display.HTML object>"
      ]
     },
     "metadata": {},
     "output_type": "display_data"
    },
    {
     "data": {
      "text/html": [
       "Run data is saved locally in <code>/home/ahteh/Developer/research/TreeMLP/wandb/run-20250424_184454-c9eb1n0d</code>"
      ],
      "text/plain": [
       "<IPython.core.display.HTML object>"
      ]
     },
     "metadata": {},
     "output_type": "display_data"
    },
    {
     "data": {
      "text/html": [
       "Syncing run <strong><a href='https://wandb.ai/spicecat-club/openml_regression_benchmark_2025/runs/c9eb1n0d' target=\"_blank\">rural-sweep-9</a></strong> to <a href='https://wandb.ai/spicecat-club/openml_regression_benchmark_2025' target=\"_blank\">Weights & Biases</a> (<a href='https://wandb.me/developer-guide' target=\"_blank\">docs</a>)<br>Sweep page: <a href='https://wandb.ai/spicecat-club/openml_regression_benchmark_2025/sweeps/d1ru4g8r' target=\"_blank\">https://wandb.ai/spicecat-club/openml_regression_benchmark_2025/sweeps/d1ru4g8r</a>"
      ],
      "text/plain": [
       "<IPython.core.display.HTML object>"
      ]
     },
     "metadata": {},
     "output_type": "display_data"
    },
    {
     "data": {
      "text/html": [
       " View project at <a href='https://wandb.ai/spicecat-club/openml_regression_benchmark_2025' target=\"_blank\">https://wandb.ai/spicecat-club/openml_regression_benchmark_2025</a>"
      ],
      "text/plain": [
       "<IPython.core.display.HTML object>"
      ]
     },
     "metadata": {},
     "output_type": "display_data"
    },
    {
     "data": {
      "text/html": [
       " View sweep at <a href='https://wandb.ai/spicecat-club/openml_regression_benchmark_2025/sweeps/d1ru4g8r' target=\"_blank\">https://wandb.ai/spicecat-club/openml_regression_benchmark_2025/sweeps/d1ru4g8r</a>"
      ],
      "text/plain": [
       "<IPython.core.display.HTML object>"
      ]
     },
     "metadata": {},
     "output_type": "display_data"
    },
    {
     "data": {
      "text/html": [
       " View run at <a href='https://wandb.ai/spicecat-club/openml_regression_benchmark_2025/runs/c9eb1n0d' target=\"_blank\">https://wandb.ai/spicecat-club/openml_regression_benchmark_2025/runs/c9eb1n0d</a>"
      ],
      "text/plain": [
       "<IPython.core.display.HTML object>"
      ]
     },
     "metadata": {},
     "output_type": "display_data"
    },
    {
     "data": {
      "text/html": [],
      "text/plain": [
       "<IPython.core.display.HTML object>"
      ]
     },
     "metadata": {},
     "output_type": "display_data"
    },
    {
     "data": {
      "text/html": [
       "<br>    <style><br>        .wandb-row {<br>            display: flex;<br>            flex-direction: row;<br>            flex-wrap: wrap;<br>            justify-content: flex-start;<br>            width: 100%;<br>        }<br>        .wandb-col {<br>            display: flex;<br>            flex-direction: column;<br>            flex-basis: 100%;<br>            flex: 1;<br>            padding: 10px;<br>        }<br>    </style><br><div class=\"wandb-row\"><div class=\"wandb-col\"><h3>Run history:</h3><br/><table class=\"wandb\"><tr><td>mae</td><td>▁</td></tr><tr><td>mape</td><td>▁</td></tr><tr><td>mse</td><td>▁</td></tr><tr><td>r2</td><td>▁</td></tr></table><br/></div><div class=\"wandb-col\"><h3>Run summary:</h3><br/><table class=\"wandb\"><tr><td>mae</td><td>1542.77881</td></tr><tr><td>mape</td><td>0.0728</td></tr><tr><td>mse</td><td>4941433.3304</td></tr><tr><td>r2</td><td>0.94741</td></tr></table><br/></div></div>"
      ],
      "text/plain": [
       "<IPython.core.display.HTML object>"
      ]
     },
     "metadata": {},
     "output_type": "display_data"
    },
    {
     "data": {
      "text/html": [
       " View run <strong style=\"color:#cdcd00\">rural-sweep-9</strong> at: <a href='https://wandb.ai/spicecat-club/openml_regression_benchmark_2025/runs/c9eb1n0d' target=\"_blank\">https://wandb.ai/spicecat-club/openml_regression_benchmark_2025/runs/c9eb1n0d</a><br> View project at: <a href='https://wandb.ai/spicecat-club/openml_regression_benchmark_2025' target=\"_blank\">https://wandb.ai/spicecat-club/openml_regression_benchmark_2025</a><br>Synced 5 W&B file(s), 0 media file(s), 0 artifact file(s) and 0 other file(s)"
      ],
      "text/plain": [
       "<IPython.core.display.HTML object>"
      ]
     },
     "metadata": {},
     "output_type": "display_data"
    },
    {
     "data": {
      "text/html": [
       "Find logs at: <code>./wandb/run-20250424_184454-c9eb1n0d/logs</code>"
      ],
      "text/plain": [
       "<IPython.core.display.HTML object>"
      ]
     },
     "metadata": {},
     "output_type": "display_data"
    },
    {
     "name": "stderr",
     "output_type": "stream",
     "text": [
      "\u001b[34m\u001b[1mwandb\u001b[0m: Agent Starting Run: d6o9380m with config:\n",
      "\u001b[34m\u001b[1mwandb\u001b[0m: \tdataset_idx: 32\n",
      "\u001b[34m\u001b[1mwandb\u001b[0m: \tgb_lr: 0.2\n",
      "\u001b[34m\u001b[1mwandb\u001b[0m: \tgb_n_estimators: 300\n",
      "\u001b[34m\u001b[1mwandb\u001b[0m: \tmlp_layers: [128, 64]\n",
      "\u001b[34m\u001b[1mwandb\u001b[0m: \tmlp_lr: 0.001\n",
      "\u001b[34m\u001b[1mwandb\u001b[0m: \tmlp_max_iter: 200\n",
      "\u001b[34m\u001b[1mwandb\u001b[0m: \tmodel: MLP\n",
      "\u001b[34m\u001b[1mwandb\u001b[0m: \trf_max_depth: 10\n",
      "\u001b[34m\u001b[1mwandb\u001b[0m: \trf_n_estimators: 300\n"
     ]
    },
    {
     "data": {
      "text/html": [
       "Tracking run with wandb version 0.19.10"
      ],
      "text/plain": [
       "<IPython.core.display.HTML object>"
      ]
     },
     "metadata": {},
     "output_type": "display_data"
    },
    {
     "data": {
      "text/html": [
       "Run data is saved locally in <code>/home/ahteh/Developer/research/TreeMLP/wandb/run-20250424_184459-d6o9380m</code>"
      ],
      "text/plain": [
       "<IPython.core.display.HTML object>"
      ]
     },
     "metadata": {},
     "output_type": "display_data"
    },
    {
     "data": {
      "text/html": [
       "Syncing run <strong><a href='https://wandb.ai/spicecat-club/openml_regression_benchmark_2025/runs/d6o9380m' target=\"_blank\">spring-sweep-10</a></strong> to <a href='https://wandb.ai/spicecat-club/openml_regression_benchmark_2025' target=\"_blank\">Weights & Biases</a> (<a href='https://wandb.me/developer-guide' target=\"_blank\">docs</a>)<br>Sweep page: <a href='https://wandb.ai/spicecat-club/openml_regression_benchmark_2025/sweeps/d1ru4g8r' target=\"_blank\">https://wandb.ai/spicecat-club/openml_regression_benchmark_2025/sweeps/d1ru4g8r</a>"
      ],
      "text/plain": [
       "<IPython.core.display.HTML object>"
      ]
     },
     "metadata": {},
     "output_type": "display_data"
    },
    {
     "data": {
      "text/html": [
       " View project at <a href='https://wandb.ai/spicecat-club/openml_regression_benchmark_2025' target=\"_blank\">https://wandb.ai/spicecat-club/openml_regression_benchmark_2025</a>"
      ],
      "text/plain": [
       "<IPython.core.display.HTML object>"
      ]
     },
     "metadata": {},
     "output_type": "display_data"
    },
    {
     "data": {
      "text/html": [
       " View sweep at <a href='https://wandb.ai/spicecat-club/openml_regression_benchmark_2025/sweeps/d1ru4g8r' target=\"_blank\">https://wandb.ai/spicecat-club/openml_regression_benchmark_2025/sweeps/d1ru4g8r</a>"
      ],
      "text/plain": [
       "<IPython.core.display.HTML object>"
      ]
     },
     "metadata": {},
     "output_type": "display_data"
    },
    {
     "data": {
      "text/html": [
       " View run at <a href='https://wandb.ai/spicecat-club/openml_regression_benchmark_2025/runs/d6o9380m' target=\"_blank\">https://wandb.ai/spicecat-club/openml_regression_benchmark_2025/runs/d6o9380m</a>"
      ],
      "text/plain": [
       "<IPython.core.display.HTML object>"
      ]
     },
     "metadata": {},
     "output_type": "display_data"
    },
    {
     "name": "stderr",
     "output_type": "stream",
     "text": [
      "/home/ahteh/Developer/research/.venv/lib/python3.13/site-packages/sklearn/neural_network/_multilayer_perceptron.py:691: ConvergenceWarning: Stochastic Optimizer: Maximum iterations (200) reached and the optimization hasn't converged yet.\n",
      "  warnings.warn(\n",
      "/home/ahteh/Developer/research/.venv/lib/python3.13/site-packages/sklearn/neural_network/_multilayer_perceptron.py:691: ConvergenceWarning: Stochastic Optimizer: Maximum iterations (200) reached and the optimization hasn't converged yet.\n",
      "  warnings.warn(\n",
      "/home/ahteh/Developer/research/.venv/lib/python3.13/site-packages/sklearn/neural_network/_multilayer_perceptron.py:691: ConvergenceWarning: Stochastic Optimizer: Maximum iterations (200) reached and the optimization hasn't converged yet.\n",
      "  warnings.warn(\n",
      "/home/ahteh/Developer/research/.venv/lib/python3.13/site-packages/sklearn/neural_network/_multilayer_perceptron.py:691: ConvergenceWarning: Stochastic Optimizer: Maximum iterations (200) reached and the optimization hasn't converged yet.\n",
      "  warnings.warn(\n",
      "/home/ahteh/Developer/research/.venv/lib/python3.13/site-packages/sklearn/neural_network/_multilayer_perceptron.py:691: ConvergenceWarning: Stochastic Optimizer: Maximum iterations (200) reached and the optimization hasn't converged yet.\n",
      "  warnings.warn(\n"
     ]
    },
    {
     "data": {
      "text/html": [],
      "text/plain": [
       "<IPython.core.display.HTML object>"
      ]
     },
     "metadata": {},
     "output_type": "display_data"
    },
    {
     "data": {
      "text/html": [
       "<br>    <style><br>        .wandb-row {<br>            display: flex;<br>            flex-direction: row;<br>            flex-wrap: wrap;<br>            justify-content: flex-start;<br>            width: 100%;<br>        }<br>        .wandb-col {<br>            display: flex;<br>            flex-direction: column;<br>            flex-basis: 100%;<br>            flex: 1;<br>            padding: 10px;<br>        }<br>    </style><br><div class=\"wandb-row\"><div class=\"wandb-col\"><h3>Run history:</h3><br/><table class=\"wandb\"><tr><td>mae</td><td>▁</td></tr><tr><td>mape</td><td>▁</td></tr><tr><td>mse</td><td>▁</td></tr><tr><td>r2</td><td>▁</td></tr></table><br/></div><div class=\"wandb-col\"><h3>Run summary:</h3><br/><table class=\"wandb\"><tr><td>mae</td><td>0.64795</td></tr><tr><td>mape</td><td>0.25326</td></tr><tr><td>mse</td><td>0.83466</td></tr><tr><td>r2</td><td>0.5978</td></tr></table><br/></div></div>"
      ],
      "text/plain": [
       "<IPython.core.display.HTML object>"
      ]
     },
     "metadata": {},
     "output_type": "display_data"
    },
    {
     "data": {
      "text/html": [
       " View run <strong style=\"color:#cdcd00\">spring-sweep-10</strong> at: <a href='https://wandb.ai/spicecat-club/openml_regression_benchmark_2025/runs/d6o9380m' target=\"_blank\">https://wandb.ai/spicecat-club/openml_regression_benchmark_2025/runs/d6o9380m</a><br> View project at: <a href='https://wandb.ai/spicecat-club/openml_regression_benchmark_2025' target=\"_blank\">https://wandb.ai/spicecat-club/openml_regression_benchmark_2025</a><br>Synced 5 W&B file(s), 0 media file(s), 0 artifact file(s) and 0 other file(s)"
      ],
      "text/plain": [
       "<IPython.core.display.HTML object>"
      ]
     },
     "metadata": {},
     "output_type": "display_data"
    },
    {
     "data": {
      "text/html": [
       "Find logs at: <code>./wandb/run-20250424_184459-d6o9380m/logs</code>"
      ],
      "text/plain": [
       "<IPython.core.display.HTML object>"
      ]
     },
     "metadata": {},
     "output_type": "display_data"
    },
    {
     "name": "stderr",
     "output_type": "stream",
     "text": [
      "\u001b[34m\u001b[1mwandb\u001b[0m: Agent Starting Run: r4tc83w6 with config:\n",
      "\u001b[34m\u001b[1mwandb\u001b[0m: \tdataset_idx: 4\n",
      "\u001b[34m\u001b[1mwandb\u001b[0m: \tgb_lr: 0.05\n",
      "\u001b[34m\u001b[1mwandb\u001b[0m: \tgb_n_estimators: 100\n",
      "\u001b[34m\u001b[1mwandb\u001b[0m: \tmlp_layers: [128, 64]\n",
      "\u001b[34m\u001b[1mwandb\u001b[0m: \tmlp_lr: 0.001\n",
      "\u001b[34m\u001b[1mwandb\u001b[0m: \tmlp_max_iter: 200\n",
      "\u001b[34m\u001b[1mwandb\u001b[0m: \tmodel: RandomForest\n",
      "\u001b[34m\u001b[1mwandb\u001b[0m: \trf_max_depth: None\n",
      "\u001b[34m\u001b[1mwandb\u001b[0m: \trf_n_estimators: 300\n"
     ]
    },
    {
     "data": {
      "text/html": [
       "Tracking run with wandb version 0.19.10"
      ],
      "text/plain": [
       "<IPython.core.display.HTML object>"
      ]
     },
     "metadata": {},
     "output_type": "display_data"
    },
    {
     "data": {
      "text/html": [
       "Run data is saved locally in <code>/home/ahteh/Developer/research/TreeMLP/wandb/run-20250424_184504-r4tc83w6</code>"
      ],
      "text/plain": [
       "<IPython.core.display.HTML object>"
      ]
     },
     "metadata": {},
     "output_type": "display_data"
    },
    {
     "data": {
      "text/html": [
       "Syncing run <strong><a href='https://wandb.ai/spicecat-club/openml_regression_benchmark_2025/runs/r4tc83w6' target=\"_blank\">ethereal-sweep-11</a></strong> to <a href='https://wandb.ai/spicecat-club/openml_regression_benchmark_2025' target=\"_blank\">Weights & Biases</a> (<a href='https://wandb.me/developer-guide' target=\"_blank\">docs</a>)<br>Sweep page: <a href='https://wandb.ai/spicecat-club/openml_regression_benchmark_2025/sweeps/d1ru4g8r' target=\"_blank\">https://wandb.ai/spicecat-club/openml_regression_benchmark_2025/sweeps/d1ru4g8r</a>"
      ],
      "text/plain": [
       "<IPython.core.display.HTML object>"
      ]
     },
     "metadata": {},
     "output_type": "display_data"
    },
    {
     "data": {
      "text/html": [
       " View project at <a href='https://wandb.ai/spicecat-club/openml_regression_benchmark_2025' target=\"_blank\">https://wandb.ai/spicecat-club/openml_regression_benchmark_2025</a>"
      ],
      "text/plain": [
       "<IPython.core.display.HTML object>"
      ]
     },
     "metadata": {},
     "output_type": "display_data"
    },
    {
     "data": {
      "text/html": [
       " View sweep at <a href='https://wandb.ai/spicecat-club/openml_regression_benchmark_2025/sweeps/d1ru4g8r' target=\"_blank\">https://wandb.ai/spicecat-club/openml_regression_benchmark_2025/sweeps/d1ru4g8r</a>"
      ],
      "text/plain": [
       "<IPython.core.display.HTML object>"
      ]
     },
     "metadata": {},
     "output_type": "display_data"
    },
    {
     "data": {
      "text/html": [
       " View run at <a href='https://wandb.ai/spicecat-club/openml_regression_benchmark_2025/runs/r4tc83w6' target=\"_blank\">https://wandb.ai/spicecat-club/openml_regression_benchmark_2025/runs/r4tc83w6</a>"
      ],
      "text/plain": [
       "<IPython.core.display.HTML object>"
      ]
     },
     "metadata": {},
     "output_type": "display_data"
    },
    {
     "name": "stderr",
     "output_type": "stream",
     "text": [
      "Exception ignored in: <function ResourceTracker.__del__ at 0x7f95809ab740>\n",
      "Traceback (most recent call last):\n",
      "  File \"/usr/lib/python3.13/multiprocessing/resource_tracker.py\", line 82, in __del__\n",
      "  File \"/usr/lib/python3.13/multiprocessing/resource_tracker.py\", line 91, in _stop\n",
      "  File \"/usr/lib/python3.13/multiprocessing/resource_tracker.py\", line 116, in _stop_locked\n",
      "ChildProcessError: [Errno 10] No child processes\n",
      "Exception ignored in: <function ResourceTracker.__del__ at 0x7f4fd48ab740>\n",
      "Traceback (most recent call last):\n",
      "  File \"/usr/lib/python3.13/multiprocessing/resource_tracker.py\", line 82, in __del__\n",
      "  File \"/usr/lib/python3.13/multiprocessing/resource_tracker.py\", line 91, in _stop\n",
      "  File \"/usr/lib/python3.13/multiprocessing/resource_tracker.py\", line 116, in _stop_locked\n",
      "ChildProcessError: [Errno 10] No child processes\n",
      "Exception ignored in: <function ResourceTracker.__del__ at 0x7ff8f6f93740>\n",
      "Traceback (most recent call last):\n",
      "  File \"/usr/lib/python3.13/multiprocessing/resource_tracker.py\", line 82, in __del__\n",
      "  File \"/usr/lib/python3.13/multiprocessing/resource_tracker.py\", line 91, in _stop\n",
      "  File \"/usr/lib/python3.13/multiprocessing/resource_tracker.py\", line 116, in _stop_locked\n",
      "ChildProcessError: [Errno 10] No child processes\n",
      "Exception ignored in: <function ResourceTracker.__del__ at 0x7f186699f740>\n",
      "Traceback (most recent call last):\n",
      "  File \"/usr/lib/python3.13/multiprocessing/resource_tracker.py\", line 82, in __del__\n",
      "  File \"/usr/lib/python3.13/multiprocessing/resource_tracker.py\", line 91, in _stop\n",
      "  File \"/usr/lib/python3.13/multiprocessing/resource_tracker.py\", line 116, in _stop_locked\n",
      "ChildProcessError: [Errno 10] No child processes\n",
      "Exception ignored in: <function ResourceTracker.__del__ at 0x7f84be897740>\n",
      "Traceback (most recent call last):\n",
      "  File \"/usr/lib/python3.13/multiprocessing/resource_tracker.py\", line 82, in __del__\n",
      "  File \"/usr/lib/python3.13/multiprocessing/resource_tracker.py\", line 91, in _stop\n",
      "  File \"/usr/lib/python3.13/multiprocessing/resource_tracker.py\", line 116, in _stop_locked\n",
      "ChildProcessError: [Errno 10] No child processes\n",
      "Exception ignored in: <function ResourceTracker.__del__ at 0x7f87732ab740>\n",
      "Traceback (most recent call last):\n",
      "  File \"/usr/lib/python3.13/multiprocessing/resource_tracker.py\", line 82, in __del__\n",
      "  File \"/usr/lib/python3.13/multiprocessing/resource_tracker.py\", line 91, in _stop\n",
      "  File \"/usr/lib/python3.13/multiprocessing/resource_tracker.py\", line 116, in _stop_locked\n",
      "ChildProcessError: [Errno 10] No child processes\n",
      "Exception ignored in: <function ResourceTracker.__del__ at 0x7f681d393740>\n",
      "Traceback (most recent call last):\n",
      "  File \"/usr/lib/python3.13/multiprocessing/resource_tracker.py\", line 82, in __del__\n",
      "  File \"/usr/lib/python3.13/multiprocessing/resource_tracker.py\", line 91, in _stop\n",
      "  File \"/usr/lib/python3.13/multiprocessing/resource_tracker.py\", line 116, in _stop_locked\n",
      "ChildProcessError: [Errno 10] No child processes\n",
      "Exception ignored in: <function ResourceTracker.__del__ at 0x7ffb92e97740>\n",
      "Traceback (most recent call last):\n",
      "  File \"/usr/lib/python3.13/multiprocessing/resource_tracker.py\", line 82, in __del__\n",
      "  File \"/usr/lib/python3.13/multiprocessing/resource_tracker.py\", line 91, in _stop\n",
      "  File \"/usr/lib/python3.13/multiprocessing/resource_tracker.py\", line 116, in _stop_locked\n",
      "ChildProcessError: [Errno 10] No child processes\n",
      "Exception ignored in: <function ResourceTracker.__del__ at 0x7f0ebeca3740>\n",
      "Traceback (most recent call last):\n",
      "  File \"/usr/lib/python3.13/multiprocessing/resource_tracker.py\", line 82, in __del__\n",
      "  File \"/usr/lib/python3.13/multiprocessing/resource_tracker.py\", line 91, in _stop\n",
      "  File \"/usr/lib/python3.13/multiprocessing/resource_tracker.py\", line 116, in _stop_locked\n",
      "ChildProcessError: [Errno 10] No child processes\n",
      "Exception ignored in: <function ResourceTracker.__del__ at 0x7f7d26d97740>\n",
      "Traceback (most recent call last):\n",
      "  File \"/usr/lib/python3.13/multiprocessing/resource_tracker.py\", line 82, in __del__\n",
      "  File \"/usr/lib/python3.13/multiprocessing/resource_tracker.py\", line 91, in _stop\n",
      "  File \"/usr/lib/python3.13/multiprocessing/resource_tracker.py\", line 116, in _stop_locked\n",
      "ChildProcessError: [Errno 10] No child processes\n",
      "Exception ignored in: <function ResourceTracker.__del__ at 0x7f7821c9f740>\n",
      "Traceback (most recent call last):\n",
      "  File \"/usr/lib/python3.13/multiprocessing/resource_tracker.py\", line 82, in __del__\n",
      "  File \"/usr/lib/python3.13/multiprocessing/resource_tracker.py\", line 91, in _stop\n",
      "  File \"/usr/lib/python3.13/multiprocessing/resource_tracker.py\", line 116, in _stop_locked\n",
      "ChildProcessError: [Errno 10] No child processes\n",
      "Exception ignored in: <function ResourceTracker.__del__ at 0x7f4a7f897740>\n",
      "Traceback (most recent call last):\n",
      "  File \"/usr/lib/python3.13/multiprocessing/resource_tracker.py\", line 82, in __del__\n",
      "  File \"/usr/lib/python3.13/multiprocessing/resource_tracker.py\", line 91, in _stop\n",
      "  File \"/usr/lib/python3.13/multiprocessing/resource_tracker.py\", line 116, in _stop_locked\n",
      "ChildProcessError: [Errno 10] No child processes\n",
      "Exception ignored in: <function ResourceTracker.__del__ at 0x7f258aa97740>\n",
      "Traceback (most recent call last):\n",
      "  File \"/usr/lib/python3.13/multiprocessing/resource_tracker.py\", line 82, in __del__\n",
      "  File \"/usr/lib/python3.13/multiprocessing/resource_tracker.py\", line 91, in _stop\n",
      "  File \"/usr/lib/python3.13/multiprocessing/resource_tracker.py\", line 116, in _stop_locked\n",
      "ChildProcessError: [Errno 10] No child processes\n",
      "Exception ignored in: <function ResourceTracker.__del__ at 0x7f2954393740>\n",
      "Traceback (most recent call last):\n",
      "  File \"/usr/lib/python3.13/multiprocessing/resource_tracker.py\", line 82, in __del__\n",
      "  File \"/usr/lib/python3.13/multiprocessing/resource_tracker.py\", line 91, in _stop\n",
      "  File \"/usr/lib/python3.13/multiprocessing/resource_tracker.py\", line 116, in _stop_locked\n",
      "ChildProcessError: [Errno 10] No child processes\n",
      "Exception ignored in: <function ResourceTracker.__del__ at 0x7f8c3a7a7740>\n",
      "Traceback (most recent call last):\n",
      "  File \"/usr/lib/python3.13/multiprocessing/resource_tracker.py\", line 82, in __del__\n",
      "  File \"/usr/lib/python3.13/multiprocessing/resource_tracker.py\", line 91, in _stop\n",
      "  File \"/usr/lib/python3.13/multiprocessing/resource_tracker.py\", line 116, in _stop_locked\n",
      "ChildProcessError: [Errno 10] No child processes\n",
      "Exception ignored in: <function ResourceTracker.__del__ at 0x7fa1601a3740>\n",
      "Traceback (most recent call last):\n",
      "  File \"/usr/lib/python3.13/multiprocessing/resource_tracker.py\", line 82, in __del__\n",
      "  File \"/usr/lib/python3.13/multiprocessing/resource_tracker.py\", line 91, in _stop\n",
      "  File \"/usr/lib/python3.13/multiprocessing/resource_tracker.py\", line 116, in _stop_locked\n",
      "ChildProcessError: [Errno 10] No child processes\n",
      "Exception ignored in: <function ResourceTracker.__del__ at 0x7f9c9f9ab740>\n",
      "Traceback (most recent call last):\n",
      "  File \"/usr/lib/python3.13/multiprocessing/resource_tracker.py\", line 82, in __del__\n",
      "  File \"/usr/lib/python3.13/multiprocessing/resource_tracker.py\", line 91, in _stop\n",
      "  File \"/usr/lib/python3.13/multiprocessing/resource_tracker.py\", line 116, in _stop_locked\n",
      "ChildProcessError: [Errno 10] No child processes\n",
      "Exception ignored in: <function ResourceTracker.__del__ at 0x7f0fcb6ab740>\n",
      "Traceback (most recent call last):\n",
      "  File \"/usr/lib/python3.13/multiprocessing/resource_tracker.py\", line 82, in __del__\n",
      "  File \"/usr/lib/python3.13/multiprocessing/resource_tracker.py\", line 91, in _stop\n",
      "  File \"/usr/lib/python3.13/multiprocessing/resource_tracker.py\", line 116, in _stop_locked\n",
      "ChildProcessError: [Errno 10] No child processes\n",
      "Exception ignored in: <function ResourceTracker.__del__ at 0x7f50350a3740>\n",
      "Traceback (most recent call last):\n",
      "  File \"/usr/lib/python3.13/multiprocessing/resource_tracker.py\", line 82, in __del__\n",
      "  File \"/usr/lib/python3.13/multiprocessing/resource_tracker.py\", line 91, in _stop\n",
      "  File \"/usr/lib/python3.13/multiprocessing/resource_tracker.py\", line 116, in _stop_locked\n",
      "ChildProcessError: [Errno 10] No child processes\n",
      "Exception ignored in: <function ResourceTracker.__del__ at 0x7fd5f45a3740>\n",
      "Traceback (most recent call last):\n",
      "  File \"/usr/lib/python3.13/multiprocessing/resource_tracker.py\", line 82, in __del__\n",
      "  File \"/usr/lib/python3.13/multiprocessing/resource_tracker.py\", line 91, in _stop\n",
      "  File \"/usr/lib/python3.13/multiprocessing/resource_tracker.py\", line 116, in _stop_locked\n",
      "ChildProcessError: [Errno 10] No child processes\n",
      "Exception ignored in: <function ResourceTracker.__del__ at 0x7feb1a4a3740>\n",
      "Traceback (most recent call last):\n",
      "  File \"/usr/lib/python3.13/multiprocessing/resource_tracker.py\", line 82, in __del__\n",
      "  File \"/usr/lib/python3.13/multiprocessing/resource_tracker.py\", line 91, in _stop\n",
      "  File \"/usr/lib/python3.13/multiprocessing/resource_tracker.py\", line 116, in _stop_locked\n",
      "ChildProcessError: [Errno 10] No child processes\n"
     ]
    },
    {
     "data": {
      "text/html": [],
      "text/plain": [
       "<IPython.core.display.HTML object>"
      ]
     },
     "metadata": {},
     "output_type": "display_data"
    },
    {
     "data": {
      "text/html": [
       "<br>    <style><br>        .wandb-row {<br>            display: flex;<br>            flex-direction: row;<br>            flex-wrap: wrap;<br>            justify-content: flex-start;<br>            width: 100%;<br>        }<br>        .wandb-col {<br>            display: flex;<br>            flex-direction: column;<br>            flex-basis: 100%;<br>            flex: 1;<br>            padding: 10px;<br>        }<br>    </style><br><div class=\"wandb-row\"><div class=\"wandb-col\"><h3>Run history:</h3><br/><table class=\"wandb\"><tr><td>mae</td><td>▁</td></tr><tr><td>mape</td><td>▁</td></tr><tr><td>mse</td><td>▁</td></tr><tr><td>r2</td><td>▁</td></tr></table><br/></div><div class=\"wandb-col\"><h3>Run summary:</h3><br/><table class=\"wandb\"><tr><td>mae</td><td>2.36975</td></tr><tr><td>mape</td><td>169034227266562.72</td></tr><tr><td>mse</td><td>12.31048</td></tr><tr><td>r2</td><td>0.67099</td></tr></table><br/></div></div>"
      ],
      "text/plain": [
       "<IPython.core.display.HTML object>"
      ]
     },
     "metadata": {},
     "output_type": "display_data"
    },
    {
     "data": {
      "text/html": [
       " View run <strong style=\"color:#cdcd00\">ethereal-sweep-11</strong> at: <a href='https://wandb.ai/spicecat-club/openml_regression_benchmark_2025/runs/r4tc83w6' target=\"_blank\">https://wandb.ai/spicecat-club/openml_regression_benchmark_2025/runs/r4tc83w6</a><br> View project at: <a href='https://wandb.ai/spicecat-club/openml_regression_benchmark_2025' target=\"_blank\">https://wandb.ai/spicecat-club/openml_regression_benchmark_2025</a><br>Synced 5 W&B file(s), 0 media file(s), 0 artifact file(s) and 0 other file(s)"
      ],
      "text/plain": [
       "<IPython.core.display.HTML object>"
      ]
     },
     "metadata": {},
     "output_type": "display_data"
    },
    {
     "data": {
      "text/html": [
       "Find logs at: <code>./wandb/run-20250424_184504-r4tc83w6/logs</code>"
      ],
      "text/plain": [
       "<IPython.core.display.HTML object>"
      ]
     },
     "metadata": {},
     "output_type": "display_data"
    },
    {
     "name": "stderr",
     "output_type": "stream",
     "text": [
      "\u001b[34m\u001b[1mwandb\u001b[0m: Agent Starting Run: bkr4g360 with config:\n",
      "\u001b[34m\u001b[1mwandb\u001b[0m: \tdataset_idx: 30\n",
      "\u001b[34m\u001b[1mwandb\u001b[0m: \tgb_lr: 0.2\n",
      "\u001b[34m\u001b[1mwandb\u001b[0m: \tgb_n_estimators: 100\n",
      "\u001b[34m\u001b[1mwandb\u001b[0m: \tmlp_layers: [128, 64]\n",
      "\u001b[34m\u001b[1mwandb\u001b[0m: \tmlp_lr: 0.001\n",
      "\u001b[34m\u001b[1mwandb\u001b[0m: \tmlp_max_iter: 400\n",
      "\u001b[34m\u001b[1mwandb\u001b[0m: \tmodel: RandomForest\n",
      "\u001b[34m\u001b[1mwandb\u001b[0m: \trf_max_depth: None\n",
      "\u001b[34m\u001b[1mwandb\u001b[0m: \trf_n_estimators: 100\n"
     ]
    },
    {
     "data": {
      "text/html": [
       "Tracking run with wandb version 0.19.10"
      ],
      "text/plain": [
       "<IPython.core.display.HTML object>"
      ]
     },
     "metadata": {},
     "output_type": "display_data"
    },
    {
     "data": {
      "text/html": [
       "Run data is saved locally in <code>/home/ahteh/Developer/research/TreeMLP/wandb/run-20250424_185015-bkr4g360</code>"
      ],
      "text/plain": [
       "<IPython.core.display.HTML object>"
      ]
     },
     "metadata": {},
     "output_type": "display_data"
    },
    {
     "data": {
      "text/html": [
       "Syncing run <strong><a href='https://wandb.ai/spicecat-club/openml_regression_benchmark_2025/runs/bkr4g360' target=\"_blank\">happy-sweep-12</a></strong> to <a href='https://wandb.ai/spicecat-club/openml_regression_benchmark_2025' target=\"_blank\">Weights & Biases</a> (<a href='https://wandb.me/developer-guide' target=\"_blank\">docs</a>)<br>Sweep page: <a href='https://wandb.ai/spicecat-club/openml_regression_benchmark_2025/sweeps/d1ru4g8r' target=\"_blank\">https://wandb.ai/spicecat-club/openml_regression_benchmark_2025/sweeps/d1ru4g8r</a>"
      ],
      "text/plain": [
       "<IPython.core.display.HTML object>"
      ]
     },
     "metadata": {},
     "output_type": "display_data"
    },
    {
     "data": {
      "text/html": [
       " View project at <a href='https://wandb.ai/spicecat-club/openml_regression_benchmark_2025' target=\"_blank\">https://wandb.ai/spicecat-club/openml_regression_benchmark_2025</a>"
      ],
      "text/plain": [
       "<IPython.core.display.HTML object>"
      ]
     },
     "metadata": {},
     "output_type": "display_data"
    },
    {
     "data": {
      "text/html": [
       " View sweep at <a href='https://wandb.ai/spicecat-club/openml_regression_benchmark_2025/sweeps/d1ru4g8r' target=\"_blank\">https://wandb.ai/spicecat-club/openml_regression_benchmark_2025/sweeps/d1ru4g8r</a>"
      ],
      "text/plain": [
       "<IPython.core.display.HTML object>"
      ]
     },
     "metadata": {},
     "output_type": "display_data"
    },
    {
     "data": {
      "text/html": [
       " View run at <a href='https://wandb.ai/spicecat-club/openml_regression_benchmark_2025/runs/bkr4g360' target=\"_blank\">https://wandb.ai/spicecat-club/openml_regression_benchmark_2025/runs/bkr4g360</a>"
      ],
      "text/plain": [
       "<IPython.core.display.HTML object>"
      ]
     },
     "metadata": {},
     "output_type": "display_data"
    },
    {
     "data": {
      "text/html": [],
      "text/plain": [
       "<IPython.core.display.HTML object>"
      ]
     },
     "metadata": {},
     "output_type": "display_data"
    },
    {
     "data": {
      "text/html": [
       "<br>    <style><br>        .wandb-row {<br>            display: flex;<br>            flex-direction: row;<br>            flex-wrap: wrap;<br>            justify-content: flex-start;<br>            width: 100%;<br>        }<br>        .wandb-col {<br>            display: flex;<br>            flex-direction: column;<br>            flex-basis: 100%;<br>            flex: 1;<br>            padding: 10px;<br>        }<br>    </style><br><div class=\"wandb-row\"><div class=\"wandb-col\"><h3>Run history:</h3><br/><table class=\"wandb\"><tr><td>mae</td><td>▁</td></tr><tr><td>mape</td><td>▁</td></tr><tr><td>mse</td><td>▁</td></tr><tr><td>r2</td><td>▁</td></tr></table><br/></div><div class=\"wandb-col\"><h3>Run summary:</h3><br/><table class=\"wandb\"><tr><td>mae</td><td>23.45767</td></tr><tr><td>mape</td><td>3.848348641012656e+16</td></tr><tr><td>mse</td><td>5068.00597</td></tr><tr><td>r2</td><td>-1.36367</td></tr></table><br/></div></div>"
      ],
      "text/plain": [
       "<IPython.core.display.HTML object>"
      ]
     },
     "metadata": {},
     "output_type": "display_data"
    },
    {
     "data": {
      "text/html": [
       " View run <strong style=\"color:#cdcd00\">happy-sweep-12</strong> at: <a href='https://wandb.ai/spicecat-club/openml_regression_benchmark_2025/runs/bkr4g360' target=\"_blank\">https://wandb.ai/spicecat-club/openml_regression_benchmark_2025/runs/bkr4g360</a><br> View project at: <a href='https://wandb.ai/spicecat-club/openml_regression_benchmark_2025' target=\"_blank\">https://wandb.ai/spicecat-club/openml_regression_benchmark_2025</a><br>Synced 5 W&B file(s), 0 media file(s), 0 artifact file(s) and 0 other file(s)"
      ],
      "text/plain": [
       "<IPython.core.display.HTML object>"
      ]
     },
     "metadata": {},
     "output_type": "display_data"
    },
    {
     "data": {
      "text/html": [
       "Find logs at: <code>./wandb/run-20250424_185015-bkr4g360/logs</code>"
      ],
      "text/plain": [
       "<IPython.core.display.HTML object>"
      ]
     },
     "metadata": {},
     "output_type": "display_data"
    },
    {
     "name": "stderr",
     "output_type": "stream",
     "text": [
      "\u001b[34m\u001b[1mwandb\u001b[0m: Sweep Agent: Waiting for job.\n",
      "\u001b[34m\u001b[1mwandb\u001b[0m: Job received.\n",
      "\u001b[34m\u001b[1mwandb\u001b[0m: Agent Starting Run: 4pf646yh with config:\n",
      "\u001b[34m\u001b[1mwandb\u001b[0m: \tdataset_idx: 4\n",
      "\u001b[34m\u001b[1mwandb\u001b[0m: \tgb_lr: 0.1\n",
      "\u001b[34m\u001b[1mwandb\u001b[0m: \tgb_n_estimators: 100\n",
      "\u001b[34m\u001b[1mwandb\u001b[0m: \tmlp_layers: [64]\n",
      "\u001b[34m\u001b[1mwandb\u001b[0m: \tmlp_lr: 0.01\n",
      "\u001b[34m\u001b[1mwandb\u001b[0m: \tmlp_max_iter: 400\n",
      "\u001b[34m\u001b[1mwandb\u001b[0m: \tmodel: RandomForest\n",
      "\u001b[34m\u001b[1mwandb\u001b[0m: \trf_max_depth: 20\n",
      "\u001b[34m\u001b[1mwandb\u001b[0m: \trf_n_estimators: 100\n"
     ]
    },
    {
     "data": {
      "text/html": [
       "Tracking run with wandb version 0.19.10"
      ],
      "text/plain": [
       "<IPython.core.display.HTML object>"
      ]
     },
     "metadata": {},
     "output_type": "display_data"
    },
    {
     "data": {
      "text/html": [
       "Run data is saved locally in <code>/home/ahteh/Developer/research/TreeMLP/wandb/run-20250424_185031-4pf646yh</code>"
      ],
      "text/plain": [
       "<IPython.core.display.HTML object>"
      ]
     },
     "metadata": {},
     "output_type": "display_data"
    },
    {
     "data": {
      "text/html": [
       "Syncing run <strong><a href='https://wandb.ai/spicecat-club/openml_regression_benchmark_2025/runs/4pf646yh' target=\"_blank\">sandy-sweep-13</a></strong> to <a href='https://wandb.ai/spicecat-club/openml_regression_benchmark_2025' target=\"_blank\">Weights & Biases</a> (<a href='https://wandb.me/developer-guide' target=\"_blank\">docs</a>)<br>Sweep page: <a href='https://wandb.ai/spicecat-club/openml_regression_benchmark_2025/sweeps/d1ru4g8r' target=\"_blank\">https://wandb.ai/spicecat-club/openml_regression_benchmark_2025/sweeps/d1ru4g8r</a>"
      ],
      "text/plain": [
       "<IPython.core.display.HTML object>"
      ]
     },
     "metadata": {},
     "output_type": "display_data"
    },
    {
     "data": {
      "text/html": [
       " View project at <a href='https://wandb.ai/spicecat-club/openml_regression_benchmark_2025' target=\"_blank\">https://wandb.ai/spicecat-club/openml_regression_benchmark_2025</a>"
      ],
      "text/plain": [
       "<IPython.core.display.HTML object>"
      ]
     },
     "metadata": {},
     "output_type": "display_data"
    },
    {
     "data": {
      "text/html": [
       " View sweep at <a href='https://wandb.ai/spicecat-club/openml_regression_benchmark_2025/sweeps/d1ru4g8r' target=\"_blank\">https://wandb.ai/spicecat-club/openml_regression_benchmark_2025/sweeps/d1ru4g8r</a>"
      ],
      "text/plain": [
       "<IPython.core.display.HTML object>"
      ]
     },
     "metadata": {},
     "output_type": "display_data"
    },
    {
     "data": {
      "text/html": [
       " View run at <a href='https://wandb.ai/spicecat-club/openml_regression_benchmark_2025/runs/4pf646yh' target=\"_blank\">https://wandb.ai/spicecat-club/openml_regression_benchmark_2025/runs/4pf646yh</a>"
      ],
      "text/plain": [
       "<IPython.core.display.HTML object>"
      ]
     },
     "metadata": {},
     "output_type": "display_data"
    },
    {
     "data": {
      "text/html": [],
      "text/plain": [
       "<IPython.core.display.HTML object>"
      ]
     },
     "metadata": {},
     "output_type": "display_data"
    },
    {
     "data": {
      "text/html": [
       "<br>    <style><br>        .wandb-row {<br>            display: flex;<br>            flex-direction: row;<br>            flex-wrap: wrap;<br>            justify-content: flex-start;<br>            width: 100%;<br>        }<br>        .wandb-col {<br>            display: flex;<br>            flex-direction: column;<br>            flex-basis: 100%;<br>            flex: 1;<br>            padding: 10px;<br>        }<br>    </style><br><div class=\"wandb-row\"><div class=\"wandb-col\"><h3>Run history:</h3><br/><table class=\"wandb\"><tr><td>mae</td><td>▁</td></tr><tr><td>mape</td><td>▁</td></tr><tr><td>mse</td><td>▁</td></tr><tr><td>r2</td><td>▁</td></tr></table><br/></div><div class=\"wandb-col\"><h3>Run summary:</h3><br/><table class=\"wandb\"><tr><td>mae</td><td>2.41145</td></tr><tr><td>mape</td><td>167780036131076.78</td></tr><tr><td>mse</td><td>12.57428</td></tr><tr><td>r2</td><td>0.66394</td></tr></table><br/></div></div>"
      ],
      "text/plain": [
       "<IPython.core.display.HTML object>"
      ]
     },
     "metadata": {},
     "output_type": "display_data"
    },
    {
     "data": {
      "text/html": [
       " View run <strong style=\"color:#cdcd00\">sandy-sweep-13</strong> at: <a href='https://wandb.ai/spicecat-club/openml_regression_benchmark_2025/runs/4pf646yh' target=\"_blank\">https://wandb.ai/spicecat-club/openml_regression_benchmark_2025/runs/4pf646yh</a><br> View project at: <a href='https://wandb.ai/spicecat-club/openml_regression_benchmark_2025' target=\"_blank\">https://wandb.ai/spicecat-club/openml_regression_benchmark_2025</a><br>Synced 5 W&B file(s), 0 media file(s), 0 artifact file(s) and 0 other file(s)"
      ],
      "text/plain": [
       "<IPython.core.display.HTML object>"
      ]
     },
     "metadata": {},
     "output_type": "display_data"
    },
    {
     "data": {
      "text/html": [
       "Find logs at: <code>./wandb/run-20250424_185031-4pf646yh/logs</code>"
      ],
      "text/plain": [
       "<IPython.core.display.HTML object>"
      ]
     },
     "metadata": {},
     "output_type": "display_data"
    },
    {
     "name": "stderr",
     "output_type": "stream",
     "text": [
      "\u001b[34m\u001b[1mwandb\u001b[0m: Agent Starting Run: bqephm6j with config:\n",
      "\u001b[34m\u001b[1mwandb\u001b[0m: \tdataset_idx: 5\n",
      "\u001b[34m\u001b[1mwandb\u001b[0m: \tgb_lr: 0.1\n",
      "\u001b[34m\u001b[1mwandb\u001b[0m: \tgb_n_estimators: 100\n",
      "\u001b[34m\u001b[1mwandb\u001b[0m: \tmlp_layers: [128, 64]\n",
      "\u001b[34m\u001b[1mwandb\u001b[0m: \tmlp_lr: 0.01\n",
      "\u001b[34m\u001b[1mwandb\u001b[0m: \tmlp_max_iter: 200\n",
      "\u001b[34m\u001b[1mwandb\u001b[0m: \tmodel: MLP\n",
      "\u001b[34m\u001b[1mwandb\u001b[0m: \trf_max_depth: 10\n",
      "\u001b[34m\u001b[1mwandb\u001b[0m: \trf_n_estimators: 300\n"
     ]
    },
    {
     "data": {
      "text/html": [
       "Tracking run with wandb version 0.19.10"
      ],
      "text/plain": [
       "<IPython.core.display.HTML object>"
      ]
     },
     "metadata": {},
     "output_type": "display_data"
    },
    {
     "data": {
      "text/html": [
       "Run data is saved locally in <code>/home/ahteh/Developer/research/TreeMLP/wandb/run-20250424_185208-bqephm6j</code>"
      ],
      "text/plain": [
       "<IPython.core.display.HTML object>"
      ]
     },
     "metadata": {},
     "output_type": "display_data"
    },
    {
     "data": {
      "text/html": [
       "Syncing run <strong><a href='https://wandb.ai/spicecat-club/openml_regression_benchmark_2025/runs/bqephm6j' target=\"_blank\">crisp-sweep-14</a></strong> to <a href='https://wandb.ai/spicecat-club/openml_regression_benchmark_2025' target=\"_blank\">Weights & Biases</a> (<a href='https://wandb.me/developer-guide' target=\"_blank\">docs</a>)<br>Sweep page: <a href='https://wandb.ai/spicecat-club/openml_regression_benchmark_2025/sweeps/d1ru4g8r' target=\"_blank\">https://wandb.ai/spicecat-club/openml_regression_benchmark_2025/sweeps/d1ru4g8r</a>"
      ],
      "text/plain": [
       "<IPython.core.display.HTML object>"
      ]
     },
     "metadata": {},
     "output_type": "display_data"
    },
    {
     "data": {
      "text/html": [
       " View project at <a href='https://wandb.ai/spicecat-club/openml_regression_benchmark_2025' target=\"_blank\">https://wandb.ai/spicecat-club/openml_regression_benchmark_2025</a>"
      ],
      "text/plain": [
       "<IPython.core.display.HTML object>"
      ]
     },
     "metadata": {},
     "output_type": "display_data"
    },
    {
     "data": {
      "text/html": [
       " View sweep at <a href='https://wandb.ai/spicecat-club/openml_regression_benchmark_2025/sweeps/d1ru4g8r' target=\"_blank\">https://wandb.ai/spicecat-club/openml_regression_benchmark_2025/sweeps/d1ru4g8r</a>"
      ],
      "text/plain": [
       "<IPython.core.display.HTML object>"
      ]
     },
     "metadata": {},
     "output_type": "display_data"
    },
    {
     "data": {
      "text/html": [
       " View run at <a href='https://wandb.ai/spicecat-club/openml_regression_benchmark_2025/runs/bqephm6j' target=\"_blank\">https://wandb.ai/spicecat-club/openml_regression_benchmark_2025/runs/bqephm6j</a>"
      ],
      "text/plain": [
       "<IPython.core.display.HTML object>"
      ]
     },
     "metadata": {},
     "output_type": "display_data"
    },
    {
     "name": "stderr",
     "output_type": "stream",
     "text": [
      "/home/ahteh/Developer/research/.venv/lib/python3.13/site-packages/sklearn/neural_network/_multilayer_perceptron.py:691: ConvergenceWarning: Stochastic Optimizer: Maximum iterations (200) reached and the optimization hasn't converged yet.\n",
      "  warnings.warn(\n"
     ]
    },
    {
     "data": {
      "text/html": [],
      "text/plain": [
       "<IPython.core.display.HTML object>"
      ]
     },
     "metadata": {},
     "output_type": "display_data"
    },
    {
     "data": {
      "text/html": [
       "<br>    <style><br>        .wandb-row {<br>            display: flex;<br>            flex-direction: row;<br>            flex-wrap: wrap;<br>            justify-content: flex-start;<br>            width: 100%;<br>        }<br>        .wandb-col {<br>            display: flex;<br>            flex-direction: column;<br>            flex-basis: 100%;<br>            flex: 1;<br>            padding: 10px;<br>        }<br>    </style><br><div class=\"wandb-row\"><div class=\"wandb-col\"><h3>Run history:</h3><br/><table class=\"wandb\"><tr><td>mae</td><td>▁</td></tr><tr><td>mape</td><td>▁</td></tr><tr><td>mse</td><td>▁</td></tr><tr><td>r2</td><td>▁</td></tr></table><br/></div><div class=\"wandb-col\"><h3>Run summary:</h3><br/><table class=\"wandb\"><tr><td>mae</td><td>6.83381</td></tr><tr><td>mape</td><td>9.05535</td></tr><tr><td>mse</td><td>125.45064</td></tr><tr><td>r2</td><td>0.89301</td></tr></table><br/></div></div>"
      ],
      "text/plain": [
       "<IPython.core.display.HTML object>"
      ]
     },
     "metadata": {},
     "output_type": "display_data"
    },
    {
     "data": {
      "text/html": [
       " View run <strong style=\"color:#cdcd00\">crisp-sweep-14</strong> at: <a href='https://wandb.ai/spicecat-club/openml_regression_benchmark_2025/runs/bqephm6j' target=\"_blank\">https://wandb.ai/spicecat-club/openml_regression_benchmark_2025/runs/bqephm6j</a><br> View project at: <a href='https://wandb.ai/spicecat-club/openml_regression_benchmark_2025' target=\"_blank\">https://wandb.ai/spicecat-club/openml_regression_benchmark_2025</a><br>Synced 5 W&B file(s), 0 media file(s), 0 artifact file(s) and 0 other file(s)"
      ],
      "text/plain": [
       "<IPython.core.display.HTML object>"
      ]
     },
     "metadata": {},
     "output_type": "display_data"
    },
    {
     "data": {
      "text/html": [
       "Find logs at: <code>./wandb/run-20250424_185208-bqephm6j/logs</code>"
      ],
      "text/plain": [
       "<IPython.core.display.HTML object>"
      ]
     },
     "metadata": {},
     "output_type": "display_data"
    },
    {
     "name": "stderr",
     "output_type": "stream",
     "text": [
      "\u001b[34m\u001b[1mwandb\u001b[0m: Agent Starting Run: crottbwl with config:\n",
      "\u001b[34m\u001b[1mwandb\u001b[0m: \tdataset_idx: 33\n",
      "\u001b[34m\u001b[1mwandb\u001b[0m: \tgb_lr: 0.05\n",
      "\u001b[34m\u001b[1mwandb\u001b[0m: \tgb_n_estimators: 300\n",
      "\u001b[34m\u001b[1mwandb\u001b[0m: \tmlp_layers: [64]\n",
      "\u001b[34m\u001b[1mwandb\u001b[0m: \tmlp_lr: 0.01\n",
      "\u001b[34m\u001b[1mwandb\u001b[0m: \tmlp_max_iter: 400\n",
      "\u001b[34m\u001b[1mwandb\u001b[0m: \tmodel: RandomForest\n",
      "\u001b[34m\u001b[1mwandb\u001b[0m: \trf_max_depth: 10\n",
      "\u001b[34m\u001b[1mwandb\u001b[0m: \trf_n_estimators: 100\n"
     ]
    },
    {
     "data": {
      "text/html": [
       "Tracking run with wandb version 0.19.10"
      ],
      "text/plain": [
       "<IPython.core.display.HTML object>"
      ]
     },
     "metadata": {},
     "output_type": "display_data"
    },
    {
     "data": {
      "text/html": [
       "Run data is saved locally in <code>/home/ahteh/Developer/research/TreeMLP/wandb/run-20250424_185345-crottbwl</code>"
      ],
      "text/plain": [
       "<IPython.core.display.HTML object>"
      ]
     },
     "metadata": {},
     "output_type": "display_data"
    },
    {
     "data": {
      "text/html": [
       "Syncing run <strong><a href='https://wandb.ai/spicecat-club/openml_regression_benchmark_2025/runs/crottbwl' target=\"_blank\">lemon-sweep-15</a></strong> to <a href='https://wandb.ai/spicecat-club/openml_regression_benchmark_2025' target=\"_blank\">Weights & Biases</a> (<a href='https://wandb.me/developer-guide' target=\"_blank\">docs</a>)<br>Sweep page: <a href='https://wandb.ai/spicecat-club/openml_regression_benchmark_2025/sweeps/d1ru4g8r' target=\"_blank\">https://wandb.ai/spicecat-club/openml_regression_benchmark_2025/sweeps/d1ru4g8r</a>"
      ],
      "text/plain": [
       "<IPython.core.display.HTML object>"
      ]
     },
     "metadata": {},
     "output_type": "display_data"
    },
    {
     "data": {
      "text/html": [
       " View project at <a href='https://wandb.ai/spicecat-club/openml_regression_benchmark_2025' target=\"_blank\">https://wandb.ai/spicecat-club/openml_regression_benchmark_2025</a>"
      ],
      "text/plain": [
       "<IPython.core.display.HTML object>"
      ]
     },
     "metadata": {},
     "output_type": "display_data"
    },
    {
     "data": {
      "text/html": [
       " View sweep at <a href='https://wandb.ai/spicecat-club/openml_regression_benchmark_2025/sweeps/d1ru4g8r' target=\"_blank\">https://wandb.ai/spicecat-club/openml_regression_benchmark_2025/sweeps/d1ru4g8r</a>"
      ],
      "text/plain": [
       "<IPython.core.display.HTML object>"
      ]
     },
     "metadata": {},
     "output_type": "display_data"
    },
    {
     "data": {
      "text/html": [
       " View run at <a href='https://wandb.ai/spicecat-club/openml_regression_benchmark_2025/runs/crottbwl' target=\"_blank\">https://wandb.ai/spicecat-club/openml_regression_benchmark_2025/runs/crottbwl</a>"
      ],
      "text/plain": [
       "<IPython.core.display.HTML object>"
      ]
     },
     "metadata": {},
     "output_type": "display_data"
    },
    {
     "data": {
      "text/html": [],
      "text/plain": [
       "<IPython.core.display.HTML object>"
      ]
     },
     "metadata": {},
     "output_type": "display_data"
    },
    {
     "data": {
      "text/html": [
       "<br>    <style><br>        .wandb-row {<br>            display: flex;<br>            flex-direction: row;<br>            flex-wrap: wrap;<br>            justify-content: flex-start;<br>            width: 100%;<br>        }<br>        .wandb-col {<br>            display: flex;<br>            flex-direction: column;<br>            flex-basis: 100%;<br>            flex: 1;<br>            padding: 10px;<br>        }<br>    </style><br><div class=\"wandb-row\"><div class=\"wandb-col\"><h3>Run history:</h3><br/><table class=\"wandb\"><tr><td>mae</td><td>▁</td></tr><tr><td>mape</td><td>▁</td></tr><tr><td>mse</td><td>▁</td></tr><tr><td>r2</td><td>▁</td></tr></table><br/></div><div class=\"wandb-col\"><h3>Run summary:</h3><br/><table class=\"wandb\"><tr><td>mae</td><td>1542.77881</td></tr><tr><td>mape</td><td>0.0728</td></tr><tr><td>mse</td><td>4941433.3304</td></tr><tr><td>r2</td><td>0.94741</td></tr></table><br/></div></div>"
      ],
      "text/plain": [
       "<IPython.core.display.HTML object>"
      ]
     },
     "metadata": {},
     "output_type": "display_data"
    },
    {
     "data": {
      "text/html": [
       " View run <strong style=\"color:#cdcd00\">lemon-sweep-15</strong> at: <a href='https://wandb.ai/spicecat-club/openml_regression_benchmark_2025/runs/crottbwl' target=\"_blank\">https://wandb.ai/spicecat-club/openml_regression_benchmark_2025/runs/crottbwl</a><br> View project at: <a href='https://wandb.ai/spicecat-club/openml_regression_benchmark_2025' target=\"_blank\">https://wandb.ai/spicecat-club/openml_regression_benchmark_2025</a><br>Synced 5 W&B file(s), 0 media file(s), 0 artifact file(s) and 0 other file(s)"
      ],
      "text/plain": [
       "<IPython.core.display.HTML object>"
      ]
     },
     "metadata": {},
     "output_type": "display_data"
    },
    {
     "data": {
      "text/html": [
       "Find logs at: <code>./wandb/run-20250424_185345-crottbwl/logs</code>"
      ],
      "text/plain": [
       "<IPython.core.display.HTML object>"
      ]
     },
     "metadata": {},
     "output_type": "display_data"
    },
    {
     "name": "stderr",
     "output_type": "stream",
     "text": [
      "\u001b[34m\u001b[1mwandb\u001b[0m: Agent Starting Run: k0937s40 with config:\n",
      "\u001b[34m\u001b[1mwandb\u001b[0m: \tdataset_idx: 12\n",
      "\u001b[34m\u001b[1mwandb\u001b[0m: \tgb_lr: 0.1\n",
      "\u001b[34m\u001b[1mwandb\u001b[0m: \tgb_n_estimators: 300\n",
      "\u001b[34m\u001b[1mwandb\u001b[0m: \tmlp_layers: [64]\n",
      "\u001b[34m\u001b[1mwandb\u001b[0m: \tmlp_lr: 0.001\n",
      "\u001b[34m\u001b[1mwandb\u001b[0m: \tmlp_max_iter: 400\n",
      "\u001b[34m\u001b[1mwandb\u001b[0m: \tmodel: RandomForest\n",
      "\u001b[34m\u001b[1mwandb\u001b[0m: \trf_max_depth: 10\n",
      "\u001b[34m\u001b[1mwandb\u001b[0m: \trf_n_estimators: 100\n"
     ]
    },
    {
     "data": {
      "text/html": [
       "Tracking run with wandb version 0.19.10"
      ],
      "text/plain": [
       "<IPython.core.display.HTML object>"
      ]
     },
     "metadata": {},
     "output_type": "display_data"
    },
    {
     "data": {
      "text/html": [
       "Run data is saved locally in <code>/home/ahteh/Developer/research/TreeMLP/wandb/run-20250424_185350-k0937s40</code>"
      ],
      "text/plain": [
       "<IPython.core.display.HTML object>"
      ]
     },
     "metadata": {},
     "output_type": "display_data"
    },
    {
     "data": {
      "text/html": [
       "Syncing run <strong><a href='https://wandb.ai/spicecat-club/openml_regression_benchmark_2025/runs/k0937s40' target=\"_blank\">still-sweep-16</a></strong> to <a href='https://wandb.ai/spicecat-club/openml_regression_benchmark_2025' target=\"_blank\">Weights & Biases</a> (<a href='https://wandb.me/developer-guide' target=\"_blank\">docs</a>)<br>Sweep page: <a href='https://wandb.ai/spicecat-club/openml_regression_benchmark_2025/sweeps/d1ru4g8r' target=\"_blank\">https://wandb.ai/spicecat-club/openml_regression_benchmark_2025/sweeps/d1ru4g8r</a>"
      ],
      "text/plain": [
       "<IPython.core.display.HTML object>"
      ]
     },
     "metadata": {},
     "output_type": "display_data"
    },
    {
     "data": {
      "text/html": [
       " View project at <a href='https://wandb.ai/spicecat-club/openml_regression_benchmark_2025' target=\"_blank\">https://wandb.ai/spicecat-club/openml_regression_benchmark_2025</a>"
      ],
      "text/plain": [
       "<IPython.core.display.HTML object>"
      ]
     },
     "metadata": {},
     "output_type": "display_data"
    },
    {
     "data": {
      "text/html": [
       " View sweep at <a href='https://wandb.ai/spicecat-club/openml_regression_benchmark_2025/sweeps/d1ru4g8r' target=\"_blank\">https://wandb.ai/spicecat-club/openml_regression_benchmark_2025/sweeps/d1ru4g8r</a>"
      ],
      "text/plain": [
       "<IPython.core.display.HTML object>"
      ]
     },
     "metadata": {},
     "output_type": "display_data"
    },
    {
     "data": {
      "text/html": [
       " View run at <a href='https://wandb.ai/spicecat-club/openml_regression_benchmark_2025/runs/k0937s40' target=\"_blank\">https://wandb.ai/spicecat-club/openml_regression_benchmark_2025/runs/k0937s40</a>"
      ],
      "text/plain": [
       "<IPython.core.display.HTML object>"
      ]
     },
     "metadata": {},
     "output_type": "display_data"
    },
    {
     "data": {
      "text/html": [],
      "text/plain": [
       "<IPython.core.display.HTML object>"
      ]
     },
     "metadata": {},
     "output_type": "display_data"
    },
    {
     "data": {
      "text/html": [
       "<br>    <style><br>        .wandb-row {<br>            display: flex;<br>            flex-direction: row;<br>            flex-wrap: wrap;<br>            justify-content: flex-start;<br>            width: 100%;<br>        }<br>        .wandb-col {<br>            display: flex;<br>            flex-direction: column;<br>            flex-basis: 100%;<br>            flex: 1;<br>            padding: 10px;<br>        }<br>    </style><br><div class=\"wandb-row\"><div class=\"wandb-col\"><h3>Run history:</h3><br/><table class=\"wandb\"><tr><td>mae</td><td>▁</td></tr><tr><td>mape</td><td>▁</td></tr><tr><td>mse</td><td>▁</td></tr><tr><td>r2</td><td>▁</td></tr></table><br/></div><div class=\"wandb-col\"><h3>Run summary:</h3><br/><table class=\"wandb\"><tr><td>mae</td><td>1.1837</td></tr><tr><td>mape</td><td>0.13335</td></tr><tr><td>mse</td><td>7.75663</td></tr><tr><td>r2</td><td>0.97008</td></tr></table><br/></div></div>"
      ],
      "text/plain": [
       "<IPython.core.display.HTML object>"
      ]
     },
     "metadata": {},
     "output_type": "display_data"
    },
    {
     "data": {
      "text/html": [
       " View run <strong style=\"color:#cdcd00\">still-sweep-16</strong> at: <a href='https://wandb.ai/spicecat-club/openml_regression_benchmark_2025/runs/k0937s40' target=\"_blank\">https://wandb.ai/spicecat-club/openml_regression_benchmark_2025/runs/k0937s40</a><br> View project at: <a href='https://wandb.ai/spicecat-club/openml_regression_benchmark_2025' target=\"_blank\">https://wandb.ai/spicecat-club/openml_regression_benchmark_2025</a><br>Synced 5 W&B file(s), 0 media file(s), 0 artifact file(s) and 0 other file(s)"
      ],
      "text/plain": [
       "<IPython.core.display.HTML object>"
      ]
     },
     "metadata": {},
     "output_type": "display_data"
    },
    {
     "data": {
      "text/html": [
       "Find logs at: <code>./wandb/run-20250424_185350-k0937s40/logs</code>"
      ],
      "text/plain": [
       "<IPython.core.display.HTML object>"
      ]
     },
     "metadata": {},
     "output_type": "display_data"
    },
    {
     "name": "stderr",
     "output_type": "stream",
     "text": [
      "\u001b[34m\u001b[1mwandb\u001b[0m: Agent Starting Run: xtppi6pb with config:\n",
      "\u001b[34m\u001b[1mwandb\u001b[0m: \tdataset_idx: 0\n",
      "\u001b[34m\u001b[1mwandb\u001b[0m: \tgb_lr: 0.05\n",
      "\u001b[34m\u001b[1mwandb\u001b[0m: \tgb_n_estimators: 300\n",
      "\u001b[34m\u001b[1mwandb\u001b[0m: \tmlp_layers: [64]\n",
      "\u001b[34m\u001b[1mwandb\u001b[0m: \tmlp_lr: 0.01\n",
      "\u001b[34m\u001b[1mwandb\u001b[0m: \tmlp_max_iter: 400\n",
      "\u001b[34m\u001b[1mwandb\u001b[0m: \tmodel: MLP\n",
      "\u001b[34m\u001b[1mwandb\u001b[0m: \trf_max_depth: None\n",
      "\u001b[34m\u001b[1mwandb\u001b[0m: \trf_n_estimators: 500\n"
     ]
    },
    {
     "data": {
      "text/html": [
       "Tracking run with wandb version 0.19.10"
      ],
      "text/plain": [
       "<IPython.core.display.HTML object>"
      ]
     },
     "metadata": {},
     "output_type": "display_data"
    },
    {
     "data": {
      "text/html": [
       "Run data is saved locally in <code>/home/ahteh/Developer/research/TreeMLP/wandb/run-20250424_185430-xtppi6pb</code>"
      ],
      "text/plain": [
       "<IPython.core.display.HTML object>"
      ]
     },
     "metadata": {},
     "output_type": "display_data"
    },
    {
     "data": {
      "text/html": [
       "Syncing run <strong><a href='https://wandb.ai/spicecat-club/openml_regression_benchmark_2025/runs/xtppi6pb' target=\"_blank\">astral-sweep-17</a></strong> to <a href='https://wandb.ai/spicecat-club/openml_regression_benchmark_2025' target=\"_blank\">Weights & Biases</a> (<a href='https://wandb.me/developer-guide' target=\"_blank\">docs</a>)<br>Sweep page: <a href='https://wandb.ai/spicecat-club/openml_regression_benchmark_2025/sweeps/d1ru4g8r' target=\"_blank\">https://wandb.ai/spicecat-club/openml_regression_benchmark_2025/sweeps/d1ru4g8r</a>"
      ],
      "text/plain": [
       "<IPython.core.display.HTML object>"
      ]
     },
     "metadata": {},
     "output_type": "display_data"
    },
    {
     "data": {
      "text/html": [
       " View project at <a href='https://wandb.ai/spicecat-club/openml_regression_benchmark_2025' target=\"_blank\">https://wandb.ai/spicecat-club/openml_regression_benchmark_2025</a>"
      ],
      "text/plain": [
       "<IPython.core.display.HTML object>"
      ]
     },
     "metadata": {},
     "output_type": "display_data"
    },
    {
     "data": {
      "text/html": [
       " View sweep at <a href='https://wandb.ai/spicecat-club/openml_regression_benchmark_2025/sweeps/d1ru4g8r' target=\"_blank\">https://wandb.ai/spicecat-club/openml_regression_benchmark_2025/sweeps/d1ru4g8r</a>"
      ],
      "text/plain": [
       "<IPython.core.display.HTML object>"
      ]
     },
     "metadata": {},
     "output_type": "display_data"
    },
    {
     "data": {
      "text/html": [
       " View run at <a href='https://wandb.ai/spicecat-club/openml_regression_benchmark_2025/runs/xtppi6pb' target=\"_blank\">https://wandb.ai/spicecat-club/openml_regression_benchmark_2025/runs/xtppi6pb</a>"
      ],
      "text/plain": [
       "<IPython.core.display.HTML object>"
      ]
     },
     "metadata": {},
     "output_type": "display_data"
    },
    {
     "data": {
      "text/html": [],
      "text/plain": [
       "<IPython.core.display.HTML object>"
      ]
     },
     "metadata": {},
     "output_type": "display_data"
    },
    {
     "data": {
      "text/html": [
       "<br>    <style><br>        .wandb-row {<br>            display: flex;<br>            flex-direction: row;<br>            flex-wrap: wrap;<br>            justify-content: flex-start;<br>            width: 100%;<br>        }<br>        .wandb-col {<br>            display: flex;<br>            flex-direction: column;<br>            flex-basis: 100%;<br>            flex: 1;<br>            padding: 10px;<br>        }<br>    </style><br><div class=\"wandb-row\"><div class=\"wandb-col\"><h3>Run history:</h3><br/><table class=\"wandb\"><tr><td>mae</td><td>▁</td></tr><tr><td>mape</td><td>▁</td></tr><tr><td>mse</td><td>▁</td></tr><tr><td>r2</td><td>▁</td></tr></table><br/></div><div class=\"wandb-col\"><h3>Run summary:</h3><br/><table class=\"wandb\"><tr><td>mae</td><td>1.50358</td></tr><tr><td>mape</td><td>0.15064</td></tr><tr><td>mse</td><td>4.47108</td></tr><tr><td>r2</td><td>0.56773</td></tr></table><br/></div></div>"
      ],
      "text/plain": [
       "<IPython.core.display.HTML object>"
      ]
     },
     "metadata": {},
     "output_type": "display_data"
    },
    {
     "data": {
      "text/html": [
       " View run <strong style=\"color:#cdcd00\">astral-sweep-17</strong> at: <a href='https://wandb.ai/spicecat-club/openml_regression_benchmark_2025/runs/xtppi6pb' target=\"_blank\">https://wandb.ai/spicecat-club/openml_regression_benchmark_2025/runs/xtppi6pb</a><br> View project at: <a href='https://wandb.ai/spicecat-club/openml_regression_benchmark_2025' target=\"_blank\">https://wandb.ai/spicecat-club/openml_regression_benchmark_2025</a><br>Synced 5 W&B file(s), 0 media file(s), 0 artifact file(s) and 0 other file(s)"
      ],
      "text/plain": [
       "<IPython.core.display.HTML object>"
      ]
     },
     "metadata": {},
     "output_type": "display_data"
    },
    {
     "data": {
      "text/html": [
       "Find logs at: <code>./wandb/run-20250424_185430-xtppi6pb/logs</code>"
      ],
      "text/plain": [
       "<IPython.core.display.HTML object>"
      ]
     },
     "metadata": {},
     "output_type": "display_data"
    },
    {
     "name": "stderr",
     "output_type": "stream",
     "text": [
      "\u001b[34m\u001b[1mwandb\u001b[0m: Agent Starting Run: 3idcof7y with config:\n",
      "\u001b[34m\u001b[1mwandb\u001b[0m: \tdataset_idx: 32\n",
      "\u001b[34m\u001b[1mwandb\u001b[0m: \tgb_lr: 0.1\n",
      "\u001b[34m\u001b[1mwandb\u001b[0m: \tgb_n_estimators: 100\n",
      "\u001b[34m\u001b[1mwandb\u001b[0m: \tmlp_layers: [128, 64]\n",
      "\u001b[34m\u001b[1mwandb\u001b[0m: \tmlp_lr: 0.001\n",
      "\u001b[34m\u001b[1mwandb\u001b[0m: \tmlp_max_iter: 200\n",
      "\u001b[34m\u001b[1mwandb\u001b[0m: \tmodel: MLP\n",
      "\u001b[34m\u001b[1mwandb\u001b[0m: \trf_max_depth: 20\n",
      "\u001b[34m\u001b[1mwandb\u001b[0m: \trf_n_estimators: 100\n"
     ]
    },
    {
     "data": {
      "text/html": [
       "Tracking run with wandb version 0.19.10"
      ],
      "text/plain": [
       "<IPython.core.display.HTML object>"
      ]
     },
     "metadata": {},
     "output_type": "display_data"
    },
    {
     "data": {
      "text/html": [
       "Run data is saved locally in <code>/home/ahteh/Developer/research/TreeMLP/wandb/run-20250424_185436-3idcof7y</code>"
      ],
      "text/plain": [
       "<IPython.core.display.HTML object>"
      ]
     },
     "metadata": {},
     "output_type": "display_data"
    },
    {
     "data": {
      "text/html": [
       "Syncing run <strong><a href='https://wandb.ai/spicecat-club/openml_regression_benchmark_2025/runs/3idcof7y' target=\"_blank\">sweepy-sweep-18</a></strong> to <a href='https://wandb.ai/spicecat-club/openml_regression_benchmark_2025' target=\"_blank\">Weights & Biases</a> (<a href='https://wandb.me/developer-guide' target=\"_blank\">docs</a>)<br>Sweep page: <a href='https://wandb.ai/spicecat-club/openml_regression_benchmark_2025/sweeps/d1ru4g8r' target=\"_blank\">https://wandb.ai/spicecat-club/openml_regression_benchmark_2025/sweeps/d1ru4g8r</a>"
      ],
      "text/plain": [
       "<IPython.core.display.HTML object>"
      ]
     },
     "metadata": {},
     "output_type": "display_data"
    },
    {
     "data": {
      "text/html": [
       " View project at <a href='https://wandb.ai/spicecat-club/openml_regression_benchmark_2025' target=\"_blank\">https://wandb.ai/spicecat-club/openml_regression_benchmark_2025</a>"
      ],
      "text/plain": [
       "<IPython.core.display.HTML object>"
      ]
     },
     "metadata": {},
     "output_type": "display_data"
    },
    {
     "data": {
      "text/html": [
       " View sweep at <a href='https://wandb.ai/spicecat-club/openml_regression_benchmark_2025/sweeps/d1ru4g8r' target=\"_blank\">https://wandb.ai/spicecat-club/openml_regression_benchmark_2025/sweeps/d1ru4g8r</a>"
      ],
      "text/plain": [
       "<IPython.core.display.HTML object>"
      ]
     },
     "metadata": {},
     "output_type": "display_data"
    },
    {
     "data": {
      "text/html": [
       " View run at <a href='https://wandb.ai/spicecat-club/openml_regression_benchmark_2025/runs/3idcof7y' target=\"_blank\">https://wandb.ai/spicecat-club/openml_regression_benchmark_2025/runs/3idcof7y</a>"
      ],
      "text/plain": [
       "<IPython.core.display.HTML object>"
      ]
     },
     "metadata": {},
     "output_type": "display_data"
    },
    {
     "name": "stderr",
     "output_type": "stream",
     "text": [
      "/home/ahteh/Developer/research/.venv/lib/python3.13/site-packages/sklearn/neural_network/_multilayer_perceptron.py:691: ConvergenceWarning: Stochastic Optimizer: Maximum iterations (200) reached and the optimization hasn't converged yet.\n",
      "  warnings.warn(\n",
      "/home/ahteh/Developer/research/.venv/lib/python3.13/site-packages/sklearn/neural_network/_multilayer_perceptron.py:691: ConvergenceWarning: Stochastic Optimizer: Maximum iterations (200) reached and the optimization hasn't converged yet.\n",
      "  warnings.warn(\n",
      "/home/ahteh/Developer/research/.venv/lib/python3.13/site-packages/sklearn/neural_network/_multilayer_perceptron.py:691: ConvergenceWarning: Stochastic Optimizer: Maximum iterations (200) reached and the optimization hasn't converged yet.\n",
      "  warnings.warn(\n",
      "/home/ahteh/Developer/research/.venv/lib/python3.13/site-packages/sklearn/neural_network/_multilayer_perceptron.py:691: ConvergenceWarning: Stochastic Optimizer: Maximum iterations (200) reached and the optimization hasn't converged yet.\n",
      "  warnings.warn(\n",
      "/home/ahteh/Developer/research/.venv/lib/python3.13/site-packages/sklearn/neural_network/_multilayer_perceptron.py:691: ConvergenceWarning: Stochastic Optimizer: Maximum iterations (200) reached and the optimization hasn't converged yet.\n",
      "  warnings.warn(\n"
     ]
    },
    {
     "data": {
      "text/html": [],
      "text/plain": [
       "<IPython.core.display.HTML object>"
      ]
     },
     "metadata": {},
     "output_type": "display_data"
    },
    {
     "data": {
      "text/html": [
       "<br>    <style><br>        .wandb-row {<br>            display: flex;<br>            flex-direction: row;<br>            flex-wrap: wrap;<br>            justify-content: flex-start;<br>            width: 100%;<br>        }<br>        .wandb-col {<br>            display: flex;<br>            flex-direction: column;<br>            flex-basis: 100%;<br>            flex: 1;<br>            padding: 10px;<br>        }<br>    </style><br><div class=\"wandb-row\"><div class=\"wandb-col\"><h3>Run history:</h3><br/><table class=\"wandb\"><tr><td>mae</td><td>▁</td></tr><tr><td>mape</td><td>▁</td></tr><tr><td>mse</td><td>▁</td></tr><tr><td>r2</td><td>▁</td></tr></table><br/></div><div class=\"wandb-col\"><h3>Run summary:</h3><br/><table class=\"wandb\"><tr><td>mae</td><td>0.64795</td></tr><tr><td>mape</td><td>0.25326</td></tr><tr><td>mse</td><td>0.83466</td></tr><tr><td>r2</td><td>0.5978</td></tr></table><br/></div></div>"
      ],
      "text/plain": [
       "<IPython.core.display.HTML object>"
      ]
     },
     "metadata": {},
     "output_type": "display_data"
    },
    {
     "data": {
      "text/html": [
       " View run <strong style=\"color:#cdcd00\">sweepy-sweep-18</strong> at: <a href='https://wandb.ai/spicecat-club/openml_regression_benchmark_2025/runs/3idcof7y' target=\"_blank\">https://wandb.ai/spicecat-club/openml_regression_benchmark_2025/runs/3idcof7y</a><br> View project at: <a href='https://wandb.ai/spicecat-club/openml_regression_benchmark_2025' target=\"_blank\">https://wandb.ai/spicecat-club/openml_regression_benchmark_2025</a><br>Synced 5 W&B file(s), 0 media file(s), 0 artifact file(s) and 0 other file(s)"
      ],
      "text/plain": [
       "<IPython.core.display.HTML object>"
      ]
     },
     "metadata": {},
     "output_type": "display_data"
    },
    {
     "data": {
      "text/html": [
       "Find logs at: <code>./wandb/run-20250424_185436-3idcof7y/logs</code>"
      ],
      "text/plain": [
       "<IPython.core.display.HTML object>"
      ]
     },
     "metadata": {},
     "output_type": "display_data"
    },
    {
     "name": "stderr",
     "output_type": "stream",
     "text": [
      "\u001b[34m\u001b[1mwandb\u001b[0m: Sweep Agent: Waiting for job.\n",
      "\u001b[34m\u001b[1mwandb\u001b[0m: Job received.\n",
      "\u001b[34m\u001b[1mwandb\u001b[0m: Agent Starting Run: i5z0hzcn with config:\n",
      "\u001b[34m\u001b[1mwandb\u001b[0m: \tdataset_idx: 15\n",
      "\u001b[34m\u001b[1mwandb\u001b[0m: \tgb_lr: 0.2\n",
      "\u001b[34m\u001b[1mwandb\u001b[0m: \tgb_n_estimators: 300\n",
      "\u001b[34m\u001b[1mwandb\u001b[0m: \tmlp_layers: [64]\n",
      "\u001b[34m\u001b[1mwandb\u001b[0m: \tmlp_lr: 0.01\n",
      "\u001b[34m\u001b[1mwandb\u001b[0m: \tmlp_max_iter: 400\n",
      "\u001b[34m\u001b[1mwandb\u001b[0m: \tmodel: MLP\n",
      "\u001b[34m\u001b[1mwandb\u001b[0m: \trf_max_depth: None\n",
      "\u001b[34m\u001b[1mwandb\u001b[0m: \trf_n_estimators: 300\n"
     ]
    },
    {
     "data": {
      "text/html": [
       "Tracking run with wandb version 0.19.10"
      ],
      "text/plain": [
       "<IPython.core.display.HTML object>"
      ]
     },
     "metadata": {},
     "output_type": "display_data"
    },
    {
     "data": {
      "text/html": [
       "Run data is saved locally in <code>/home/ahteh/Developer/research/TreeMLP/wandb/run-20250424_185452-i5z0hzcn</code>"
      ],
      "text/plain": [
       "<IPython.core.display.HTML object>"
      ]
     },
     "metadata": {},
     "output_type": "display_data"
    },
    {
     "data": {
      "text/html": [
       "Syncing run <strong><a href='https://wandb.ai/spicecat-club/openml_regression_benchmark_2025/runs/i5z0hzcn' target=\"_blank\">comfy-sweep-19</a></strong> to <a href='https://wandb.ai/spicecat-club/openml_regression_benchmark_2025' target=\"_blank\">Weights & Biases</a> (<a href='https://wandb.me/developer-guide' target=\"_blank\">docs</a>)<br>Sweep page: <a href='https://wandb.ai/spicecat-club/openml_regression_benchmark_2025/sweeps/d1ru4g8r' target=\"_blank\">https://wandb.ai/spicecat-club/openml_regression_benchmark_2025/sweeps/d1ru4g8r</a>"
      ],
      "text/plain": [
       "<IPython.core.display.HTML object>"
      ]
     },
     "metadata": {},
     "output_type": "display_data"
    },
    {
     "data": {
      "text/html": [
       " View project at <a href='https://wandb.ai/spicecat-club/openml_regression_benchmark_2025' target=\"_blank\">https://wandb.ai/spicecat-club/openml_regression_benchmark_2025</a>"
      ],
      "text/plain": [
       "<IPython.core.display.HTML object>"
      ]
     },
     "metadata": {},
     "output_type": "display_data"
    },
    {
     "data": {
      "text/html": [
       " View sweep at <a href='https://wandb.ai/spicecat-club/openml_regression_benchmark_2025/sweeps/d1ru4g8r' target=\"_blank\">https://wandb.ai/spicecat-club/openml_regression_benchmark_2025/sweeps/d1ru4g8r</a>"
      ],
      "text/plain": [
       "<IPython.core.display.HTML object>"
      ]
     },
     "metadata": {},
     "output_type": "display_data"
    },
    {
     "data": {
      "text/html": [
       " View run at <a href='https://wandb.ai/spicecat-club/openml_regression_benchmark_2025/runs/i5z0hzcn' target=\"_blank\">https://wandb.ai/spicecat-club/openml_regression_benchmark_2025/runs/i5z0hzcn</a>"
      ],
      "text/plain": [
       "<IPython.core.display.HTML object>"
      ]
     },
     "metadata": {},
     "output_type": "display_data"
    },
    {
     "name": "stderr",
     "output_type": "stream",
     "text": [
      "/home/ahteh/Developer/research/.venv/lib/python3.13/site-packages/sklearn/neural_network/_multilayer_perceptron.py:691: ConvergenceWarning: Stochastic Optimizer: Maximum iterations (400) reached and the optimization hasn't converged yet.\n",
      "  warnings.warn(\n",
      "/home/ahteh/Developer/research/.venv/lib/python3.13/site-packages/sklearn/neural_network/_multilayer_perceptron.py:691: ConvergenceWarning: Stochastic Optimizer: Maximum iterations (400) reached and the optimization hasn't converged yet.\n",
      "  warnings.warn(\n",
      "/home/ahteh/Developer/research/.venv/lib/python3.13/site-packages/sklearn/neural_network/_multilayer_perceptron.py:691: ConvergenceWarning: Stochastic Optimizer: Maximum iterations (400) reached and the optimization hasn't converged yet.\n",
      "  warnings.warn(\n",
      "/home/ahteh/Developer/research/.venv/lib/python3.13/site-packages/sklearn/neural_network/_multilayer_perceptron.py:691: ConvergenceWarning: Stochastic Optimizer: Maximum iterations (400) reached and the optimization hasn't converged yet.\n",
      "  warnings.warn(\n",
      "/home/ahteh/Developer/research/.venv/lib/python3.13/site-packages/sklearn/neural_network/_multilayer_perceptron.py:691: ConvergenceWarning: Stochastic Optimizer: Maximum iterations (400) reached and the optimization hasn't converged yet.\n",
      "  warnings.warn(\n"
     ]
    },
    {
     "data": {
      "text/html": [],
      "text/plain": [
       "<IPython.core.display.HTML object>"
      ]
     },
     "metadata": {},
     "output_type": "display_data"
    },
    {
     "data": {
      "text/html": [
       "<br>    <style><br>        .wandb-row {<br>            display: flex;<br>            flex-direction: row;<br>            flex-wrap: wrap;<br>            justify-content: flex-start;<br>            width: 100%;<br>        }<br>        .wandb-col {<br>            display: flex;<br>            flex-direction: column;<br>            flex-basis: 100%;<br>            flex: 1;<br>            padding: 10px;<br>        }<br>    </style><br><div class=\"wandb-row\"><div class=\"wandb-col\"><h3>Run history:</h3><br/><table class=\"wandb\"><tr><td>mae</td><td>▁</td></tr><tr><td>mape</td><td>▁</td></tr><tr><td>mse</td><td>▁</td></tr><tr><td>r2</td><td>▁</td></tr></table><br/></div><div class=\"wandb-col\"><h3>Run summary:</h3><br/><table class=\"wandb\"><tr><td>mae</td><td>45579.99009</td></tr><tr><td>mape</td><td>0.26234</td></tr><tr><td>mse</td><td>4117247573.88396</td></tr><tr><td>r2</td><td>0.69078</td></tr></table><br/></div></div>"
      ],
      "text/plain": [
       "<IPython.core.display.HTML object>"
      ]
     },
     "metadata": {},
     "output_type": "display_data"
    },
    {
     "data": {
      "text/html": [
       " View run <strong style=\"color:#cdcd00\">comfy-sweep-19</strong> at: <a href='https://wandb.ai/spicecat-club/openml_regression_benchmark_2025/runs/i5z0hzcn' target=\"_blank\">https://wandb.ai/spicecat-club/openml_regression_benchmark_2025/runs/i5z0hzcn</a><br> View project at: <a href='https://wandb.ai/spicecat-club/openml_regression_benchmark_2025' target=\"_blank\">https://wandb.ai/spicecat-club/openml_regression_benchmark_2025</a><br>Synced 5 W&B file(s), 0 media file(s), 0 artifact file(s) and 0 other file(s)"
      ],
      "text/plain": [
       "<IPython.core.display.HTML object>"
      ]
     },
     "metadata": {},
     "output_type": "display_data"
    },
    {
     "data": {
      "text/html": [
       "Find logs at: <code>./wandb/run-20250424_185452-i5z0hzcn/logs</code>"
      ],
      "text/plain": [
       "<IPython.core.display.HTML object>"
      ]
     },
     "metadata": {},
     "output_type": "display_data"
    },
    {
     "name": "stderr",
     "output_type": "stream",
     "text": [
      "\u001b[34m\u001b[1mwandb\u001b[0m: Agent Starting Run: 294e383h with config:\n",
      "\u001b[34m\u001b[1mwandb\u001b[0m: \tdataset_idx: 6\n",
      "\u001b[34m\u001b[1mwandb\u001b[0m: \tgb_lr: 0.05\n",
      "\u001b[34m\u001b[1mwandb\u001b[0m: \tgb_n_estimators: 300\n",
      "\u001b[34m\u001b[1mwandb\u001b[0m: \tmlp_layers: [128, 64]\n",
      "\u001b[34m\u001b[1mwandb\u001b[0m: \tmlp_lr: 0.001\n",
      "\u001b[34m\u001b[1mwandb\u001b[0m: \tmlp_max_iter: 400\n",
      "\u001b[34m\u001b[1mwandb\u001b[0m: \tmodel: RandomForest\n",
      "\u001b[34m\u001b[1mwandb\u001b[0m: \trf_max_depth: 20\n",
      "\u001b[34m\u001b[1mwandb\u001b[0m: \trf_n_estimators: 500\n"
     ]
    },
    {
     "data": {
      "text/html": [
       "Tracking run with wandb version 0.19.10"
      ],
      "text/plain": [
       "<IPython.core.display.HTML object>"
      ]
     },
     "metadata": {},
     "output_type": "display_data"
    },
    {
     "data": {
      "text/html": [
       "Run data is saved locally in <code>/home/ahteh/Developer/research/TreeMLP/wandb/run-20250424_185533-294e383h</code>"
      ],
      "text/plain": [
       "<IPython.core.display.HTML object>"
      ]
     },
     "metadata": {},
     "output_type": "display_data"
    },
    {
     "data": {
      "text/html": [
       "Syncing run <strong><a href='https://wandb.ai/spicecat-club/openml_regression_benchmark_2025/runs/294e383h' target=\"_blank\">glamorous-sweep-20</a></strong> to <a href='https://wandb.ai/spicecat-club/openml_regression_benchmark_2025' target=\"_blank\">Weights & Biases</a> (<a href='https://wandb.me/developer-guide' target=\"_blank\">docs</a>)<br>Sweep page: <a href='https://wandb.ai/spicecat-club/openml_regression_benchmark_2025/sweeps/d1ru4g8r' target=\"_blank\">https://wandb.ai/spicecat-club/openml_regression_benchmark_2025/sweeps/d1ru4g8r</a>"
      ],
      "text/plain": [
       "<IPython.core.display.HTML object>"
      ]
     },
     "metadata": {},
     "output_type": "display_data"
    },
    {
     "data": {
      "text/html": [
       " View project at <a href='https://wandb.ai/spicecat-club/openml_regression_benchmark_2025' target=\"_blank\">https://wandb.ai/spicecat-club/openml_regression_benchmark_2025</a>"
      ],
      "text/plain": [
       "<IPython.core.display.HTML object>"
      ]
     },
     "metadata": {},
     "output_type": "display_data"
    },
    {
     "data": {
      "text/html": [
       " View sweep at <a href='https://wandb.ai/spicecat-club/openml_regression_benchmark_2025/sweeps/d1ru4g8r' target=\"_blank\">https://wandb.ai/spicecat-club/openml_regression_benchmark_2025/sweeps/d1ru4g8r</a>"
      ],
      "text/plain": [
       "<IPython.core.display.HTML object>"
      ]
     },
     "metadata": {},
     "output_type": "display_data"
    },
    {
     "data": {
      "text/html": [
       " View run at <a href='https://wandb.ai/spicecat-club/openml_regression_benchmark_2025/runs/294e383h' target=\"_blank\">https://wandb.ai/spicecat-club/openml_regression_benchmark_2025/runs/294e383h</a>"
      ],
      "text/plain": [
       "<IPython.core.display.HTML object>"
      ]
     },
     "metadata": {},
     "output_type": "display_data"
    },
    {
     "data": {
      "text/html": [],
      "text/plain": [
       "<IPython.core.display.HTML object>"
      ]
     },
     "metadata": {},
     "output_type": "display_data"
    },
    {
     "data": {
      "text/html": [
       "<br>    <style><br>        .wandb-row {<br>            display: flex;<br>            flex-direction: row;<br>            flex-wrap: wrap;<br>            justify-content: flex-start;<br>            width: 100%;<br>        }<br>        .wandb-col {<br>            display: flex;<br>            flex-direction: column;<br>            flex-basis: 100%;<br>            flex: 1;<br>            padding: 10px;<br>        }<br>    </style><br><div class=\"wandb-row\"><div class=\"wandb-col\"><h3>Run history:</h3><br/><table class=\"wandb\"><tr><td>mae</td><td>▁</td></tr><tr><td>mape</td><td>▁</td></tr><tr><td>mse</td><td>▁</td></tr><tr><td>r2</td><td>▁</td></tr></table><br/></div><div class=\"wandb-col\"><h3>Run summary:</h3><br/><table class=\"wandb\"><tr><td>mae</td><td>12.00533</td></tr><tr><td>mape</td><td>1.06944</td></tr><tr><td>mse</td><td>245.53834</td></tr><tr><td>r2</td><td>0.2743</td></tr></table><br/></div></div>"
      ],
      "text/plain": [
       "<IPython.core.display.HTML object>"
      ]
     },
     "metadata": {},
     "output_type": "display_data"
    },
    {
     "data": {
      "text/html": [
       " View run <strong style=\"color:#cdcd00\">glamorous-sweep-20</strong> at: <a href='https://wandb.ai/spicecat-club/openml_regression_benchmark_2025/runs/294e383h' target=\"_blank\">https://wandb.ai/spicecat-club/openml_regression_benchmark_2025/runs/294e383h</a><br> View project at: <a href='https://wandb.ai/spicecat-club/openml_regression_benchmark_2025' target=\"_blank\">https://wandb.ai/spicecat-club/openml_regression_benchmark_2025</a><br>Synced 5 W&B file(s), 0 media file(s), 0 artifact file(s) and 0 other file(s)"
      ],
      "text/plain": [
       "<IPython.core.display.HTML object>"
      ]
     },
     "metadata": {},
     "output_type": "display_data"
    },
    {
     "data": {
      "text/html": [
       "Find logs at: <code>./wandb/run-20250424_185533-294e383h/logs</code>"
      ],
      "text/plain": [
       "<IPython.core.display.HTML object>"
      ]
     },
     "metadata": {},
     "output_type": "display_data"
    }
   ],
   "source": [
    "# ---- Define and run a W&B sweep ---------------------------------------------\n",
    "sweep_config = {\n",
    "    \"method\": \"bayes\",\n",
    "    \"metric\": {\"name\": \"rmse\", \"goal\": \"minimize\"},\n",
    "    \"parameters\": {\n",
    "        \"dataset_idx\": {\"values\": list(range(len(suite.tasks)))},\n",
    "        \"model\": {\"values\": [\"RandomForest\", \"MLP\"]},\n",
    "        \"rf_n_estimators\": {\"values\": [100, 300, 500]},\n",
    "        \"rf_max_depth\": {\"values\": [None, 10, 20]},\n",
    "        \"gb_n_estimators\": {\"values\": [100, 300]},\n",
    "        \"gb_lr\": {\"values\": [0.05, 0.1, 0.2]},\n",
    "        \"mlp_layers\": {\"values\": [(64,), (128, 64)]},\n",
    "        \"mlp_lr\": {\"values\": [0.001, 0.01]},\n",
    "        \"mlp_max_iter\": {\"values\": [200, 400]},\n",
    "    },\n",
    "}\n",
    "\n",
    "sweep_id = wandb.sweep(sweep_config, project=WANDB_PROJECT)\n",
    "\n",
    "\n",
    "def sweep_train():\n",
    "    with wandb.init() as run:\n",
    "        cfg = wandb.config\n",
    "        task = openml.tasks.get_task(suite.tasks[cfg.dataset_idx])\n",
    "        ds = task.get_dataset()\n",
    "        X_sw, y_sw, *_ = ds.get_data(\n",
    "            target=ds.default_target_attribute, dataset_format=\"dataframe\"\n",
    "        )\n",
    "        model = make_model_from_sweep(cfg)\n",
    "        metrics, _ = evaluate_model(cfg.model, model, X_sw, y_sw)\n",
    "        wandb.log(metrics)\n",
    "\n",
    "\n",
    "# ➡️ Uncomment to launch 20 trials locally\n",
    "wandb.agent(sweep_id, function=sweep_train, count=20)"
   ]
  },
  {
   "cell_type": "markdown",
   "id": "f88c6116",
   "metadata": {},
   "source": [
    "## Appendix\n",
    "\n",
    "Additional experiments and notes can go here.\n"
   ]
  }
 ],
 "metadata": {
  "kernelspec": {
   "display_name": ".venv (3.13.3)",
   "language": "python",
   "name": "python3"
  },
  "language_info": {
   "codemirror_mode": {
    "name": "ipython",
    "version": 3
   },
   "file_extension": ".py",
   "mimetype": "text/x-python",
   "name": "python",
   "nbconvert_exporter": "python",
   "pygments_lexer": "ipython3",
   "version": "3.13.3"
  }
 },
 "nbformat": 4,
 "nbformat_minor": 5
}
