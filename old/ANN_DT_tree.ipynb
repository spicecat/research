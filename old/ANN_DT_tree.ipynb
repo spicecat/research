{
  "cells": [
    {
      "cell_type": "markdown",
      "metadata": {
        "id": "PJZN0JY1HQVz"
      },
      "source": [
        "To integrate decision trees into the hidden layer of the neural network, we use them as additional \"neurons\" that process the activations from the standard hidden neurons. Here's a detailed explanation and a step-by-step breakdown of how decision trees are used in this architecture:\n",
        "\n",
        "### Integrating Decision Trees into the Hidden Layer\n",
        "\n",
        "1. **Input Layer**:\n",
        "   - Number of Neurons: 13 (corresponding to the 13 features of the dataset).\n",
        "\n",
        "2. **First Part of the Hidden Layer**:\n",
        "   - Number of Neurons: 10\n",
        "   - Each neuron applies a Tanh activation function.\n",
        "\n",
        "3. **Decision Trees in the Hidden Layer**:\n",
        "   - Number of Decision Trees: 10\n",
        "   - Each decision tree is trained on the activations from the 10 hidden neurons.\n",
        "   - The decision trees output predictions based on the hidden neuron activations.\n",
        "\n",
        "4. **Combined Hidden Layer**:\n",
        "   - The outputs from the 10 hidden neurons and the 10 decision trees are combined into a single layer with 20 neurons.\n",
        "\n",
        "5. **Output Layer**:\n",
        "   - Number of Neurons: 1 (corresponding to the predicted house price).\n",
        "\n",
        "\n"
      ]
    },
    {
      "cell_type": "markdown",
      "metadata": {
        "id": "JZTAxwOYJcJh"
      },
      "source": [
        "Let's focus on how to integrate decision trees into the hidden layer of the neural network. We'll use decision trees to process the activations from the hidden neurons and then combine their outputs with the original activations before passing them to the next layer.\n",
        "\n",
        "### Steps to Integrate Decision Trees\n",
        "\n",
        "1. **Forward Pass**:\n",
        "   - Compute the activations from the hidden neurons using a Tanh activation function.\n",
        "   - Use these activations as input features to train decision trees.\n",
        "   - The decision trees output predictions based on the activations.\n",
        "   - Combine the original activations with the decision tree outputs to form the combined hidden layer.\n",
        "\n",
        "2. **Backward Pass**:\n",
        "   - Calculate the error between the predicted output and the true target values.\n",
        "   - Compute gradients and update the weights using backpropagation.\n",
        "\n"
      ]
    },
    {
      "cell_type": "markdown",
      "metadata": {
        "id": "g3tDfRT1I2H1"
      },
      "source": [
        "Updating the weights in a neural network, including the custom architecture with decision trees in the hidden layer, involves backpropagation. Let's break down how we update the weights in this architecture:\n",
        "\n",
        "### Steps to Update Weights\n",
        "\n",
        "1. **Forward Pass**: Compute the activations for all layers, including the outputs from the decision trees.\n",
        "2. **Compute Error**: Calculate the error between the predicted output and the true target values.\n",
        "3. **Backward Pass**: Propagate the error backward through the network to compute gradients for the weights.\n",
        "4. **Gradient Clipping**: Clip gradients to prevent them from becoming too large (optional but often useful).\n",
        "5. **Update Weights**: Adjust the weights using the computed gradients and the learning rate.\n",
        "\n",
        "### Explanation of Each Step\n",
        "\n",
        "1. **Forward Pass**:\n",
        "    - Compute the pre-activation \\( z1 \\) for the hidden neurons.\n",
        "    - Apply the Tanh activation function to get \\( a1 \\).\n",
        "    - Train the decision trees using \\( a1 \\) and the target labels \\( y \\). The decision trees' predictions are concatenated with \\( a1 \\) to form the combined hidden layer.\n",
        "    - Compute the final output \\( z2 \\) using the combined hidden layer.\n",
        "\n",
        "2. **Compute Error**:\n",
        "    - Calculate the error between the network's output and the true labels.\n",
        "\n",
        "3. **Backward Pass**:\n",
        "\n",
        "    - Compute the gradients for the weights and biases in the output layer:\n",
        "\n",
        "        $$\n",
        "        d\\_weights2 = \\frac{\\partial \\text{Loss}}{\\partial \\text{weights2}} = \\frac{\\text{combined\\_hidden}^T \\cdot \\text{output\\_error}}{X.shape[0]}\n",
        "        $$\n",
        "        $$\n",
        "        d\\_bias2 = \\frac{\\partial \\text{Loss}}{\\partial \\text{bias2}} = \\text{mean}(\\text{output\\_error}, \\text{axis}=0)\n",
        "        $$\n",
        "\n",
        "    - Compute the error for the hidden layer and its gradients:\n",
        "        $$\n",
        "        \\text{hidden\\_error} = (\\text{output\\_error} \\cdot \\text{weights2}[:\\text{hidden\\_dim}].T) \\cdot (1 - a1^2)\n",
        "        $$\n",
        "        $$\n",
        "        d\\_weights1 = \\frac{\\partial \\text{Loss}}{\\partial \\text{weights1}} = \\frac{X^T \\cdot \\text{hidden\\_error}}{X.shape[0]}\n",
        "        $$\n",
        "        $$\n",
        "        d\\_bias1 = \\frac{\\partial \\text{Loss}}{\\partial \\text{bias1}} = \\text{mean}(\\text{hidden\\_error}, \\text{axis}=0)\n",
        "        $$\n",
        "\n",
        "4. **Gradient Clipping**:\n",
        "    - Optionally, clip the gradients to a maximum norm to prevent exploding gradients.\n",
        "\n",
        "5. **Update Weights and Biases**:\n",
        "    - Use the computed gradients and the learning rate to update the weights and biases:\n",
        "        $$\n",
        "        \\text{weights2} -= \\text{learning\\_rate} \\cdot d\\_weights2\n",
        "        $$\n",
        "        $$\n",
        "        \\text{bias2} -= \\text{learning\\_rate} \\cdot d\\_bias2\n",
        "        $$\n",
        "        $$\n",
        "        \\text{weights1} -= \\text{learning\\_rate} \\cdot d\\_weights1\n",
        "        $$\n",
        "        $$\n",
        "        \\text{bias1} -= \\text{learning\\_rate} \\cdot d\\_bias1\n",
        "        $$\n",
        "\n",
        "By following these steps, the weights and biases of the network, including those involved with the decision trees, are updated to minimize the prediction error."
      ]
    },
    {
      "cell_type": "code",
      "execution_count": 1,
      "metadata": {},
      "outputs": [],
      "source": [
        "# Import libraries\n",
        "import pandas as pd\n",
        "import numpy as np\n",
        "from sklearn.model_selection import train_test_split\n",
        "from sklearn.preprocessing import StandardScaler\n",
        "from sklearn.linear_model import LinearRegression, Ridge, Lasso, ElasticNet\n",
        "from sklearn.svm import SVR\n",
        "from sklearn.neural_network import MLPRegressor\n",
        "from sklearn.ensemble import RandomForestRegressor, GradientBoostingRegressor\n",
        "from sklearn.tree import DecisionTreeRegressor\n",
        "from xgboost import XGBRegressor\n",
        "from sklearn.metrics import r2_score, mean_absolute_error"
      ]
    },
    {
      "cell_type": "code",
      "execution_count": 2,
      "metadata": {},
      "outputs": [
        {
          "data": {
            "text/plain": [
              "(array([[-0.41978194,  0.28482986, -1.2879095 , -0.27259857, -0.14421743,\n",
              "          0.41367189, -0.12001342,  0.1402136 , -0.98284286, -0.66660821,\n",
              "          0.44105193, -1.0755623 ],\n",
              "        [-0.41733926, -0.48772236, -0.59338101, -0.27259857, -0.74026221,\n",
              "          0.19427445,  0.36716642,  0.55715988, -0.8678825 , -0.98732948,\n",
              "          0.44105193, -0.49243937],\n",
              "        [-0.41734159, -0.48772236, -0.59338101, -0.27259857, -0.74026221,\n",
              "          1.28271368, -0.26581176,  0.55715988, -0.8678825 , -0.98732948,\n",
              "          0.39642699, -1.2087274 ],\n",
              "        [-0.41675042, -0.48772236, -1.30687771, -0.27259857, -0.83528384,\n",
              "          1.01630251, -0.80988851,  1.07773662, -0.75292215, -1.10611514,\n",
              "          0.41616284, -1.36151682],\n",
              "        [-0.41248185, -0.48772236, -1.30687771, -0.27259857, -0.83528384,\n",
              "          1.22857665, -0.51117971,  1.07773662, -0.75292215, -1.10611514,\n",
              "          0.44105193, -1.02650148]]),\n",
              " (506, 12),\n",
              " array([24. , 21.6, 34.7, 33.4, 36.2]),\n",
              " (506,))"
            ]
          },
          "execution_count": 2,
          "metadata": {},
          "output_type": "execute_result"
        }
      ],
      "source": [
        "# Manually load the Boston dataset\n",
        "data_url = \"http://lib.stat.cmu.edu/datasets/boston\"\n",
        "raw_df = pd.read_csv(data_url, sep=\"\\s+\", skiprows=22, header=None)\n",
        "X = np.hstack([raw_df.values[::2, :-1], raw_df.values[1::2, :2]])\n",
        "y = raw_df.values[1::2, 2]\n",
        "\n",
        "scaler = StandardScaler()\n",
        "X = scaler.fit_transform(X)\n",
        "X[:5], X.shape, y[:5], y.shape"
      ]
    },
    {
      "cell_type": "code",
      "execution_count": 3,
      "metadata": {},
      "outputs": [
        {
          "data": {
            "text/plain": [
              "(array([[ 1.32780421e+00, -4.87722365e-01,  1.01599907e+00,\n",
              "         -2.72598567e-01,  5.12295652e-01, -1.39706929e+00,\n",
              "          1.02148094e+00, -8.05438224e-01,  1.66124525e+00,\n",
              "          1.53092646e+00, -7.88779407e-02,  1.71810120e+00],\n",
              "        [-3.47506015e-01, -4.87722365e-01, -4.37258013e-01,\n",
              "         -2.72598567e-01, -1.44217433e-01, -6.42000190e-01,\n",
              "         -4.29390392e-01,  3.34449434e-01, -6.37961799e-01,\n",
              "         -6.01276097e-01,  4.27017554e-01, -5.86355801e-01],\n",
              "        [-4.16483921e-01,  1.01446252e+00, -7.40749452e-01,\n",
              "         -2.72598567e-01, -1.00891427e+00, -3.61342430e-01,\n",
              "         -1.61000138e+00,  1.35273767e+00, -9.82842857e-01,\n",
              "         -6.19093946e-01,  6.11369155e-02, -6.76067022e-01],\n",
              "        [ 3.99962749e-01, -4.87722365e-01,  1.01599907e+00,\n",
              "         -2.72598567e-01,  5.12295652e-01, -2.58767006e-01,\n",
              "          5.87641964e-01, -8.42944849e-01,  1.66124525e+00,\n",
              "          1.53092646e+00, -3.88307172e+00,  1.49101967e+00],\n",
              "        [-3.36053725e-01, -4.87722365e-01, -4.37258013e-01,\n",
              "         -2.72598567e-01, -1.44217433e-01, -7.94438668e-01,\n",
              "          3.28970429e-02,  6.92761271e-04, -6.37961799e-01,\n",
              "         -6.01276097e-01,  3.75814000e-01, -1.92467469e-01]]),\n",
              " (404, 12),\n",
              " array([[-0.40983668, -0.48772236, -1.03402724, -0.27259857, -0.38609067,\n",
              "          0.18715116,  0.55208139, -0.54607682, -0.52300145, -0.66660821,\n",
              "          0.42570183, -0.50645674],\n",
              "        [-0.41394931,  1.22906036, -0.68968118,  3.66839786, -0.93030547,\n",
              "          0.67438443, -1.26861989,  0.13431903, -0.6379618 , -0.91605809,\n",
              "          0.44105193, -1.27881429],\n",
              "        [-0.40821211, -0.48772236,  2.42256516, -0.27259857,  0.469104  ,\n",
              "         -0.42972605,  1.0748218 , -0.91600909, -0.6379618 ,  1.79819419,\n",
              "          0.36660394,  0.75931252],\n",
              "        [-0.40985297, -0.48772236, -0.04768006, -0.27259857, -1.22400869,\n",
              "         -0.31290404, -2.16119024,  0.70937307, -0.6379618 , -0.61315466,\n",
              "          0.37537543, -0.99986846],\n",
              "        [ 0.17184212, -0.48772236,  1.01599907, -0.27259857,  1.36749033,\n",
              "          0.01761678,  0.8258978 , -0.67827698,  1.66124525,  1.53092646,\n",
              "          0.31156286,  0.64717349]]),\n",
              " (102, 12),\n",
              " array([12. , 19.9, 19.4, 13.4, 18.2]),\n",
              " (404,),\n",
              " array([23.6, 32.4, 13.6, 22.8, 16.1]),\n",
              " (102,))"
            ]
          },
          "execution_count": 3,
          "metadata": {},
          "output_type": "execute_result"
        }
      ],
      "source": [
        "# Split the dataset\n",
        "X_train, X_test, y_train, y_test = train_test_split(X, y, test_size=0.2, random_state=42)\n",
        "X_train[:5], X_train.shape, X_test[:5], X_test.shape, y_train[:5], y_train.shape, y_test[:5], y_test.shape"
      ]
    },
    {
      "cell_type": "code",
      "execution_count": 4,
      "metadata": {},
      "outputs": [],
      "source": [
        "# Initialize models\n",
        "models = {\n",
        "    \"Linear Regression\": LinearRegression(),\n",
        "    \"Ridge Regression\": Ridge(),\n",
        "    \"Lasso Regression\": Lasso(),\n",
        "    \"ElasticNet Regression\": ElasticNet(),\n",
        "    \"Support Vector Regression\": SVR(),\n",
        "    \"MLP Regressor\": MLPRegressor(hidden_layer_sizes=(100,), max_iter=1000, random_state=42),\n",
        "    \"Random Forest Regressor\": RandomForestRegressor(n_estimators=100, random_state=42),\n",
        "    \"Gradient Boosting Regressor\": GradientBoostingRegressor(random_state=42),\n",
        "    \"XGBoost Regressor\": XGBRegressor(random_state=42)\n",
        "}"
      ]
    },
    {
      "cell_type": "code",
      "execution_count": 5,
      "metadata": {},
      "outputs": [
        {
          "data": {
            "text/plain": [
              "{'Linear Regression': {'R² Score': 0.6290489980167815,\n",
              "  'MAE': 3.530901931370464},\n",
              " 'Ridge Regression': {'R² Score': 0.6289459304643903,\n",
              "  'MAE': 3.527434104105956},\n",
              " 'Lasso Regression': {'R² Score': 0.5839279107014459,\n",
              "  'MAE': 3.7976339247294657},\n",
              " 'ElasticNet Regression': {'R² Score': 0.5766165761263615,\n",
              "  'MAE': 3.688700879474281},\n",
              " 'Support Vector Regression': {'R² Score': 0.6473735419040954,\n",
              "  'MAE': 2.7981906119313638},\n",
              " 'MLP Regressor': {'R² Score': 0.7542123337888735, 'MAE': 3.0190085165417377},\n",
              " 'Random Forest Regressor': {'R² Score': 0.8868022136070572,\n",
              "  'MAE': 2.1158627450980387},\n",
              " 'Gradient Boosting Regressor': {'R² Score': 0.9172263322953945,\n",
              "  'MAE': 1.8993544008760321},\n",
              " 'XGBoost Regressor': {'R² Score': 0.9001228978385116,\n",
              "  'MAE': 1.931674195270912}}"
            ]
          },
          "execution_count": 5,
          "metadata": {},
          "output_type": "execute_result"
        }
      ],
      "source": [
        "# Function to train and evaluate a model\n",
        "def train_evaluate_model(model, X_train, X_test, y_train, y_test):\n",
        "    model.fit(X_train, y_train)\n",
        "    predictions = model.predict(X_test)\n",
        "    r2 = r2_score(y_test, predictions)\n",
        "    mae = mean_absolute_error(y_test, predictions)\n",
        "    return r2, mae\n",
        "\n",
        "# Train and evaluate models\n",
        "results = {}\n",
        "for name, model in models.items():\n",
        "    r2, mae = train_evaluate_model(model, X_train, X_test, y_train, y_test)\n",
        "    results[name] = {\"R² Score\": r2, \"MAE\": mae}\n",
        "results"
      ]
    },
    {
      "cell_type": "code",
      "execution_count": 6,
      "metadata": {},
      "outputs": [],
      "source": [
        "from tree.regression_tree import bootstrap_trees\n",
        "# Custom MLP with 10 trees in hidden layer\n",
        "class MLPWithDecisionTrees:\n",
        "    def __init__(self, input_dim, hidden_dim, output_dim, num_trees_hidden):\n",
        "        self.input_dim = input_dim\n",
        "        self.hidden_dim = hidden_dim\n",
        "        self.output_dim = output_dim\n",
        "        self.num_trees_hidden = num_trees_hidden\n",
        "\n",
        "        # Initialize weights and biases for the first hidden layer\n",
        "        self.weights1 = np.random.randn(input_dim, hidden_dim) * 0.01\n",
        "        self.bias1 = np.zeros(hidden_dim)\n",
        "\n",
        "        # Initialize weights and biases for the output layer\n",
        "        self.weights2 = np.random.randn(hidden_dim + num_trees_hidden, output_dim) * 0.01\n",
        "        self.bias2 = np.zeros(output_dim)\n",
        "\n",
        "        # Initialize decision trees for the hidden layer\n",
        "        # self.trees_hidden = [DecisionTreeRegressor(max_depth=5, random_state=i) for i in range(num_trees_hidden)]\n",
        "\n",
        "    def forward(self, X, y_batch):\n",
        "        # Compute hidden layer activations\n",
        "        self.z1 = np.dot(X, self.weights1) + self.bias1\n",
        "        self.a1 = np.tanh(self.z1)  # Tanh activation\n",
        "\n",
        "        # Generate tree outputs for the hidden layer using batch labels\n",
        "        # hidden_tree_outputs = np.column_stack([tree.fit(self.a1, y_batch).predict(self.a1) for tree in self.trees_hidden])\n",
        "        hidden_tree_outputs = np.column_stack([tree.predict(X) for tree in self.trees_hidden])\n",
        "        self.combined_hidden = np.hstack((self.a1, hidden_tree_outputs))\n",
        "\n",
        "        # Compute output layer activations\n",
        "        self.z2 = np.dot(self.combined_hidden, self.weights2) + self.bias2\n",
        "        return self.z2  # Linear output\n",
        "\n",
        "    def backward(self, X, y, output, learning_rate):\n",
        "        # Compute the error between the output and the true labels\n",
        "        output_error = output - y.reshape(-1, 1)\n",
        "\n",
        "        # Compute gradients for the weights and biases of the output layer\n",
        "        d_weights2 = np.dot(self.combined_hidden.T, output_error) / X.shape[0]\n",
        "        d_bias2 = np.mean(output_error, axis=0)\n",
        "\n",
        "        # Compute hidden layer error and gradients\n",
        "        hidden_error = np.dot(output_error, self.weights2[:self.hidden_dim].T) * (1 - self.a1 ** 2)  # Tanh derivative\n",
        "        d_weights1 = np.dot(X.T, hidden_error) / X.shape[0]\n",
        "        d_bias1 = np.mean(hidden_error, axis=0)\n",
        "\n",
        "        # Gradient clipping to prevent exploding gradients\n",
        "        max_grad_norm = 1.0\n",
        "        d_weights2 = np.clip(d_weights2, -max_grad_norm, max_grad_norm)\n",
        "        d_bias2 = np.clip(d_bias2, -max_grad_norm, max_grad_norm)\n",
        "        d_weights1 = np.clip(d_weights1, -max_grad_norm, max_grad_norm)\n",
        "        d_bias1 = np.clip(d_bias1, -max_grad_norm, max_grad_norm)\n",
        "\n",
        "        # Update weights and biases using gradient descent\n",
        "        self.weights2 -= learning_rate * d_weights2\n",
        "        self.bias2 -= learning_rate * d_bias2\n",
        "        self.weights1 -= learning_rate * d_weights1\n",
        "        self.bias1 -= learning_rate * d_bias1\n",
        "\n",
        "    def train(self, X, y, epochs, learning_rate):\n",
        "        # self.trees_hidden = [DecisionTreeRegressor(max_depth=5, random_state=i).fit(X,y) for i in range(self.num_trees_hidden)]\n",
        "        self.trees_hidden = bootstrap_trees(X, y, R=self.num_trees_hidden, max_depth=5)\n",
        "        \n",
        "        for epoch in range(epochs):\n",
        "            output = self.forward(X, y)\n",
        "            self.backward(X, y, output, learning_rate)\n",
        "            loss = np.mean((output - y.reshape(-1, 1)) ** 2)\n",
        "            if epoch % 100 == 0:\n",
        "                print(f'Epoch {epoch}, Loss: {loss}')"
      ]
    },
    {
      "cell_type": "code",
      "execution_count": 7,
      "metadata": {
        "id": "xi4kHCowFjq2"
      },
      "outputs": [
        {
          "name": "stdout",
          "output_type": "stream",
          "text": [
            "sample: 0 {'Variables Used': {0, 1, 5, 6, 7, 9, 10, 11}, 'Number of Terminal Nodes': 22, 'Total Error': 14844.087850257998, 'Residual Mean Deviance': 674.7312659208181, 'Samples': 404, 'Sum of Squared Residuals': 4180300.2190434765}\n",
            "sample: 1 {'Variables Used': {0, 2, 4, 5, 6, 7, 9, 11}, 'Number of Terminal Nodes': 24, 'Total Error': 16667.044534180495, 'Residual Mean Deviance': 694.4601889241873, 'Samples': 404, 'Sum of Squared Residuals': 4336467.581807675}\n",
            "sample: 2 {'Variables Used': {0, 1, 4, 5, 6, 7, 8, 9, 10, 11}, 'Number of Terminal Nodes': 29, 'Total Error': 14547.47174788805, 'Residual Mean Deviance': 501.6369568237259, 'Samples': 404, 'Sum of Squared Residuals': 4267909.9853555625}\n",
            "sample: 3 {'Variables Used': {0, 3, 4, 5, 6, 7, 9, 11}, 'Number of Terminal Nodes': 26, 'Total Error': 14790.969818061547, 'Residual Mean Deviance': 568.8834545408288, 'Samples': 404, 'Sum of Squared Residuals': 4231490.918090764}\n",
            "sample: 4 {'Variables Used': {0, 2, 4, 5, 6, 7, 8, 9, 10, 11}, 'Number of Terminal Nodes': 25, 'Total Error': 19078.52887183073, 'Residual Mean Deviance': 763.1411548732292, 'Samples': 404, 'Sum of Squared Residuals': 5154502.5770029705}\n",
            "sample: 5 {'Variables Used': {0, 4, 5, 6, 7, 8, 9, 10, 11}, 'Number of Terminal Nodes': 27, 'Total Error': 18537.260965021957, 'Residual Mean Deviance': 686.5652209267391, 'Samples': 404, 'Sum of Squared Residuals': 5268703.927906577}\n",
            "sample: 6 {'Variables Used': {0, 4, 5, 6, 7, 8, 9, 10, 11}, 'Number of Terminal Nodes': 27, 'Total Error': 21067.219889257274, 'Residual Mean Deviance': 780.2674033058249, 'Samples': 404, 'Sum of Squared Residuals': 5984028.401327835}\n",
            "sample: 7 {'Variables Used': {0, 4, 5, 6, 7, 10, 11}, 'Number of Terminal Nodes': 24, 'Total Error': 14925.110796926589, 'Residual Mean Deviance': 621.8796165386078, 'Samples': 404, 'Sum of Squared Residuals': 4405219.284738221}\n",
            "sample: 8 {'Variables Used': {0, 2, 4, 5, 6, 7, 11}, 'Number of Terminal Nodes': 25, 'Total Error': 12759.824228841873, 'Residual Mean Deviance': 510.3929691536749, 'Samples': 404, 'Sum of Squared Residuals': 3614783.4780779732}\n",
            "sample: 9 {'Variables Used': {0, 1, 4, 5, 6, 7, 9, 10, 11}, 'Number of Terminal Nodes': 27, 'Total Error': 20885.39971933147, 'Residual Mean Deviance': 773.5333229382027, 'Samples': 404, 'Sum of Squared Residuals': 5761585.8455315735}\n"
          ]
        },
        {
          "ename": "ValueError",
          "evalue": "The truth value of an array with more than one element is ambiguous. Use a.any() or a.all()",
          "output_type": "error",
          "traceback": [
            "\u001b[0;31m---------------------------------------------------------------------------\u001b[0m",
            "\u001b[0;31mValueError\u001b[0m                                Traceback (most recent call last)",
            "Cell \u001b[0;32mIn[7], line 10\u001b[0m\n\u001b[1;32m      7\u001b[0m learning_rate \u001b[38;5;241m=\u001b[39m \u001b[38;5;241m0.001\u001b[39m\n\u001b[1;32m      9\u001b[0m custom_mlp \u001b[38;5;241m=\u001b[39m MLPWithDecisionTrees(input_dim, hidden_dim, output_dim, num_trees_hidden)\n\u001b[0;32m---> 10\u001b[0m \u001b[43mcustom_mlp\u001b[49m\u001b[38;5;241;43m.\u001b[39;49m\u001b[43mtrain\u001b[49m\u001b[43m(\u001b[49m\u001b[43mX_train\u001b[49m\u001b[43m,\u001b[49m\u001b[43m \u001b[49m\u001b[43my_train\u001b[49m\u001b[43m,\u001b[49m\u001b[43m \u001b[49m\u001b[43mepochs\u001b[49m\u001b[43m,\u001b[49m\u001b[43m \u001b[49m\u001b[43mlearning_rate\u001b[49m\u001b[43m)\u001b[49m\n\u001b[1;32m     11\u001b[0m custom_predictions \u001b[38;5;241m=\u001b[39m custom_mlp\u001b[38;5;241m.\u001b[39mforward(X_test, y_test)\n\u001b[1;32m     12\u001b[0m custom_r2 \u001b[38;5;241m=\u001b[39m r2_score(y_test, custom_predictions)\n",
            "Cell \u001b[0;32mIn[6], line 66\u001b[0m, in \u001b[0;36mMLPWithDecisionTrees.train\u001b[0;34m(self, X, y, epochs, learning_rate)\u001b[0m\n\u001b[1;32m     63\u001b[0m \u001b[38;5;28mself\u001b[39m\u001b[38;5;241m.\u001b[39mtrees_hidden \u001b[38;5;241m=\u001b[39m bootstrap_trees(X, y, R\u001b[38;5;241m=\u001b[39m\u001b[38;5;28mself\u001b[39m\u001b[38;5;241m.\u001b[39mnum_trees_hidden, max_depth\u001b[38;5;241m=\u001b[39m\u001b[38;5;241m5\u001b[39m)\n\u001b[1;32m     65\u001b[0m \u001b[38;5;28;01mfor\u001b[39;00m epoch \u001b[38;5;129;01min\u001b[39;00m \u001b[38;5;28mrange\u001b[39m(epochs):\n\u001b[0;32m---> 66\u001b[0m     output \u001b[38;5;241m=\u001b[39m \u001b[38;5;28;43mself\u001b[39;49m\u001b[38;5;241;43m.\u001b[39;49m\u001b[43mforward\u001b[49m\u001b[43m(\u001b[49m\u001b[43mX\u001b[49m\u001b[43m,\u001b[49m\u001b[43m \u001b[49m\u001b[43my\u001b[49m\u001b[43m)\u001b[49m\n\u001b[1;32m     67\u001b[0m     \u001b[38;5;28mself\u001b[39m\u001b[38;5;241m.\u001b[39mbackward(X, y, output, learning_rate)\n\u001b[1;32m     68\u001b[0m     loss \u001b[38;5;241m=\u001b[39m np\u001b[38;5;241m.\u001b[39mmean((output \u001b[38;5;241m-\u001b[39m y\u001b[38;5;241m.\u001b[39mreshape(\u001b[38;5;241m-\u001b[39m\u001b[38;5;241m1\u001b[39m, \u001b[38;5;241m1\u001b[39m)) \u001b[38;5;241m*\u001b[39m\u001b[38;5;241m*\u001b[39m \u001b[38;5;241m2\u001b[39m)\n",
            "Cell \u001b[0;32mIn[6], line 28\u001b[0m, in \u001b[0;36mMLPWithDecisionTrees.forward\u001b[0;34m(self, X, y_batch)\u001b[0m\n\u001b[1;32m     24\u001b[0m \u001b[38;5;28mself\u001b[39m\u001b[38;5;241m.\u001b[39ma1 \u001b[38;5;241m=\u001b[39m np\u001b[38;5;241m.\u001b[39mtanh(\u001b[38;5;28mself\u001b[39m\u001b[38;5;241m.\u001b[39mz1)  \u001b[38;5;66;03m# Tanh activation\u001b[39;00m\n\u001b[1;32m     26\u001b[0m \u001b[38;5;66;03m# Generate tree outputs for the hidden layer using batch labels\u001b[39;00m\n\u001b[1;32m     27\u001b[0m \u001b[38;5;66;03m# hidden_tree_outputs = np.column_stack([tree.fit(self.a1, y_batch).predict(self.a1) for tree in self.trees_hidden])\u001b[39;00m\n\u001b[0;32m---> 28\u001b[0m hidden_tree_outputs \u001b[38;5;241m=\u001b[39m np\u001b[38;5;241m.\u001b[39mcolumn_stack(\u001b[43m[\u001b[49m\u001b[43mtree\u001b[49m\u001b[38;5;241;43m.\u001b[39;49m\u001b[43mpredict\u001b[49m\u001b[43m(\u001b[49m\u001b[43mX\u001b[49m\u001b[43m)\u001b[49m\u001b[43m \u001b[49m\u001b[38;5;28;43;01mfor\u001b[39;49;00m\u001b[43m \u001b[49m\u001b[43mtree\u001b[49m\u001b[43m \u001b[49m\u001b[38;5;129;43;01min\u001b[39;49;00m\u001b[43m \u001b[49m\u001b[38;5;28;43mself\u001b[39;49m\u001b[38;5;241;43m.\u001b[39;49m\u001b[43mtrees_hidden\u001b[49m\u001b[43m]\u001b[49m)\n\u001b[1;32m     29\u001b[0m \u001b[38;5;28mself\u001b[39m\u001b[38;5;241m.\u001b[39mcombined_hidden \u001b[38;5;241m=\u001b[39m np\u001b[38;5;241m.\u001b[39mhstack((\u001b[38;5;28mself\u001b[39m\u001b[38;5;241m.\u001b[39ma1, hidden_tree_outputs))\n\u001b[1;32m     31\u001b[0m \u001b[38;5;66;03m# Compute output layer activations\u001b[39;00m\n",
            "Cell \u001b[0;32mIn[6], line 28\u001b[0m, in \u001b[0;36m<listcomp>\u001b[0;34m(.0)\u001b[0m\n\u001b[1;32m     24\u001b[0m \u001b[38;5;28mself\u001b[39m\u001b[38;5;241m.\u001b[39ma1 \u001b[38;5;241m=\u001b[39m np\u001b[38;5;241m.\u001b[39mtanh(\u001b[38;5;28mself\u001b[39m\u001b[38;5;241m.\u001b[39mz1)  \u001b[38;5;66;03m# Tanh activation\u001b[39;00m\n\u001b[1;32m     26\u001b[0m \u001b[38;5;66;03m# Generate tree outputs for the hidden layer using batch labels\u001b[39;00m\n\u001b[1;32m     27\u001b[0m \u001b[38;5;66;03m# hidden_tree_outputs = np.column_stack([tree.fit(self.a1, y_batch).predict(self.a1) for tree in self.trees_hidden])\u001b[39;00m\n\u001b[0;32m---> 28\u001b[0m hidden_tree_outputs \u001b[38;5;241m=\u001b[39m np\u001b[38;5;241m.\u001b[39mcolumn_stack([\u001b[43mtree\u001b[49m\u001b[38;5;241;43m.\u001b[39;49m\u001b[43mpredict\u001b[49m\u001b[43m(\u001b[49m\u001b[43mX\u001b[49m\u001b[43m)\u001b[49m \u001b[38;5;28;01mfor\u001b[39;00m tree \u001b[38;5;129;01min\u001b[39;00m \u001b[38;5;28mself\u001b[39m\u001b[38;5;241m.\u001b[39mtrees_hidden])\n\u001b[1;32m     29\u001b[0m \u001b[38;5;28mself\u001b[39m\u001b[38;5;241m.\u001b[39mcombined_hidden \u001b[38;5;241m=\u001b[39m np\u001b[38;5;241m.\u001b[39mhstack((\u001b[38;5;28mself\u001b[39m\u001b[38;5;241m.\u001b[39ma1, hidden_tree_outputs))\n\u001b[1;32m     31\u001b[0m \u001b[38;5;66;03m# Compute output layer activations\u001b[39;00m\n",
            "File \u001b[0;32m~/Developer/research/tree/regression_tree.py:49\u001b[0m, in \u001b[0;36mNode.predict\u001b[0;34m(self, X)\u001b[0m\n\u001b[1;32m     47\u001b[0m \u001b[38;5;28;01mif\u001b[39;00m \u001b[38;5;28mself\u001b[39m\u001b[38;5;241m.\u001b[39mvalue \u001b[38;5;129;01mis\u001b[39;00m \u001b[38;5;129;01mnot\u001b[39;00m \u001b[38;5;28;01mNone\u001b[39;00m \u001b[38;5;129;01mor\u001b[39;00m \u001b[38;5;28mself\u001b[39m\u001b[38;5;241m.\u001b[39mleft \u001b[38;5;129;01mis\u001b[39;00m \u001b[38;5;28;01mNone\u001b[39;00m \u001b[38;5;129;01mor\u001b[39;00m \u001b[38;5;28mself\u001b[39m\u001b[38;5;241m.\u001b[39mright \u001b[38;5;129;01mis\u001b[39;00m \u001b[38;5;28;01mNone\u001b[39;00m:\n\u001b[1;32m     48\u001b[0m     \u001b[38;5;28;01mreturn\u001b[39;00m \u001b[38;5;28mself\u001b[39m\u001b[38;5;241m.\u001b[39mvalue\n\u001b[0;32m---> 49\u001b[0m \u001b[38;5;28;01mif\u001b[39;00m X[\u001b[38;5;28mself\u001b[39m\u001b[38;5;241m.\u001b[39mfeature] \u001b[38;5;241m<\u001b[39m \u001b[38;5;28mself\u001b[39m\u001b[38;5;241m.\u001b[39mthreshold:\n\u001b[1;32m     50\u001b[0m     \u001b[38;5;28;01mreturn\u001b[39;00m \u001b[38;5;28mself\u001b[39m\u001b[38;5;241m.\u001b[39mleft\u001b[38;5;241m.\u001b[39mpredict(X)\n\u001b[1;32m     51\u001b[0m \u001b[38;5;28;01melse\u001b[39;00m:\n",
            "\u001b[0;31mValueError\u001b[0m: The truth value of an array with more than one element is ambiguous. Use a.any() or a.all()"
          ]
        }
      ],
      "source": [
        "# Train MLPWithDecisionTrees\n",
        "input_dim = X_train.shape[1]\n",
        "hidden_dim = 10\n",
        "output_dim = 1\n",
        "num_trees_hidden = 10\n",
        "epochs = 1000\n",
        "learning_rate = 0.001\n",
        "\n",
        "custom_mlp = MLPWithDecisionTrees(input_dim, hidden_dim, output_dim, num_trees_hidden)\n",
        "custom_mlp.train(X_train, y_train, epochs, learning_rate)\n",
        "custom_predictions = custom_mlp.forward(X_test, y_test)\n",
        "custom_r2 = r2_score(y_test, custom_predictions)\n",
        "custom_mae = mean_absolute_error(y_test, custom_predictions)\n",
        "\n",
        "results[\"Custom MLP with Trees\"] = {\"R² Score\": custom_r2, \"MAE\": custom_mae}\n",
        "custom_r2, custom_mae"
      ]
    },
    {
      "cell_type": "code",
      "execution_count": null,
      "metadata": {},
      "outputs": [
        {
          "name": "stdout",
          "output_type": "stream",
          "text": [
            "                             R² Score       MAE\n",
            "Linear Regression            0.629049  3.530902\n",
            "Ridge Regression             0.628946  3.527434\n",
            "Lasso Regression             0.583928  3.797634\n",
            "ElasticNet Regression        0.576617  3.688701\n",
            "Support Vector Regression    0.647374  2.798191\n",
            "MLP Regressor                0.754212  3.019009\n",
            "Random Forest Regressor      0.886802  2.115863\n",
            "Gradient Boosting Regressor  0.917226  1.899354\n",
            "XGBoost Regressor            0.900123  1.931674\n",
            "Custom MLP with Trees        0.964352  1.116360\n"
          ]
        }
      ],
      "source": [
        "# Convert results to a DataFrame for better visualization\n",
        "results_df = pd.DataFrame(results).T\n",
        "print(results_df)"
      ]
    }
  ],
  "metadata": {
    "colab": {
      "private_outputs": true,
      "provenance": []
    },
    "kernelspec": {
      "display_name": "Python 3",
      "name": "python3"
    },
    "language_info": {
      "codemirror_mode": {
        "name": "ipython",
        "version": 3
      },
      "file_extension": ".py",
      "mimetype": "text/x-python",
      "name": "python",
      "nbconvert_exporter": "python",
      "pygments_lexer": "ipython3",
      "version": "3.11.5"
    }
  },
  "nbformat": 4,
  "nbformat_minor": 0
}
